{
 "cells": [
  {
   "cell_type": "markdown",
   "metadata": {},
   "source": [
    "<!-- # Testing Extract Text -->"
   ]
  },
  {
   "cell_type": "code",
   "execution_count": 1,
   "metadata": {},
   "outputs": [],
   "source": [
    "# import pdfplumber\n",
    "\n",
    "# file_name = \"./pdfs/ba_56-1_2023.pdf\"\n",
    "# main_file = []\n",
    "# with pdfplumber.open(file_name) as pdf:\n",
    "#     for page in pdf.pages:\n",
    "#         main_file.append(page.extract_text())\n",
    "#     pdf.close()\n",
    "\n",
    "# m_sections = {\n",
    "#     'การประกอบธุรกิจและผลการดำเนินงาน\\nโครงสร้างและการดำเนินงานของกลุ่มบริษัท' : ['ลักษณะการประกอบธุรกิจ (1.2)\\n','นโยบายและภาพรวมการประกอบธุรกิจ (1.1)\\n'],\n",
    "#     'การประกอบธุรกิจและผลการดำเนินงาน\\nการบริหารจัดการความเสี่ยง' : ['ปัจจัยความเสี่ยงต่อการดำเนินธุรกิจของบริษัท (2.2)\\n', 'นโยบายและแผนการบริหารความเสี่ยง (2.1)\\n'],\n",
    "#     'การประกอบธุรกิจและผลการดำเนินงาน\\nการขับเคลื่อนธุรกิจเพื่อความยั่งยืน' : ['การจัดการความยั่งยืนในมิติสังคม (3.4)\\n', 'การจัดการด้านความยั่งยืนในมิติสิ่งแวดล้อม (3.3)\\n', 'การจัดการผลกระทบต่อผู้มีส่วนได้เสียในห่วงโซ่คุณค่าของธุรกิจ (3.2)\\n', 'นโยบายและเป้าหมายการจัดการด้านความยั่งยืน (3.1)\\n'],\n",
    "#     'การกำกับดูแลกิจการ\\nนโยบายการกำกับดูแลกิจการ' : ['การเปลี่ยนแปลงและพัฒนาการที่สำคัญของนโยบาย แนวปฏิบัติ และระบบการกำกับดูแลกิจการในรอบปี ที่ผ่านมา (6.3)\\n', 'จรรยาบรรณธุรกิจ (6.2)\\n', 'ภาพรวมของนโยบายและแนวปฏิบัติการกำกับดูแลกิจการ (6.1)\\n'],\n",
    "#     'การกำกับดูแลกิจการ\\nโครงสร้างการกำกับดูแลกิจการ\\nและข้อมูลสำคัญเกี่ยวกับ\\nคณะกรรมการ คณะกรรมการชุดย่อย ผู้บริหาร\\nพนักงานและอื่นๆ': ['ข้อมูลสำคัญอื่นๆ (7.6)\\n', 'ข้อมูลเกี่ยวกับพนักงาน (7.5)\\n', 'ข้อมูลเกี่ยวกับผู้บริหาร (7.4)\\n', 'ข้อมูลเกี่ยวกับคณะกรรมการชุดย่อย (7.3)\\n', 'ข้อมูลเกี่ยวกับคณะกรรมการ (7.2)\\n', 'โครงสร้างการกำกับดูแลกิจการ (7.1)\\n'],\n",
    "#     'การกำกับดูแลกิจการ\\nรายงานผลการดำเนินงานสำคัญ\\nด้านการกำกับดูแลกิจการ' : ['สรุปผลการปฏิบัติหน้าที่ของคณะกรรมการชุดย่อยอื่นๆ (8.3)\\n', 'รายงานผลการปฏิบัติหน้าที่ของคณะกรรมการตรวจสอบในรอบปีที่ผ่านมา (8.2)\\n', 'สรุปผลการปฏิบัติหน้าที่ของคณะกรรมการในรอบปีที่ผ่านมา (8.1)\\n'],\n",
    "#     'การกำกับดูแลกิจการ\\nการควบคุมภายในและรายการระหว่างกัน' : ['รายการระหว่างกัน (9.2)\\n', 'สรุปผลการปฏิบัติหน้าที่ของคณะกรรมการในรอบปีที่ผ่านมา (8.1)\\n'],\n",
    "# }\n",
    "\n",
    "# buffer = {}\n",
    "# current_section = None\n",
    "# for d in main_file[2:len(main_file)]:\n",
    "#     for section in m_sections:\n",
    "#         if section in d:\n",
    "#             current_section = section\n",
    "#             buffer[section] = \"\"\n",
    "#             break\n",
    "\n",
    "#     if current_section:\n",
    "#         d = d + '[END_PAGE]'\n",
    "#         buffer[current_section] += d\n",
    "\n",
    "\n",
    "# m_buffer = {}\n",
    "# def cut_paragraph(text_input:str, dict_input):\n",
    "#     split = dict_input.split(text_input)\n",
    "#     if len(split) > 1:\n",
    "#         split[1] = text_input + split[1]\n",
    "#     return split\n",
    "\n",
    "# for m_section in m_sections:\n",
    "#     sub_section_chunks = []     # Chunk For Storage Sub Section\n",
    "#     chunk_buffer = []           # Chunk Buffer During Segmentation\n",
    "\n",
    "#     if m_section in buffer:\n",
    "#         paragraph = buffer[m_section].replace(m_section + '[END_PAGE]', \"\")\n",
    "#     else:\n",
    "#         continue\n",
    "\n",
    "#     for sub in m_sections[m_section]:\n",
    "#         if chunk_buffer == []:\n",
    "#             chunk_buffer = paragraph\n",
    "\n",
    "#         a = cut_paragraph(sub, chunk_buffer)\n",
    "#         if len(a) > 1:\n",
    "#             sub_section_chunks.insert(0, a[1])\n",
    "        \n",
    "#         chunk_buffer = a[0]\n",
    "\n",
    "#     m_buffer[m_section] = sub_section_chunks\n",
    "#     sub_section_chunks = []                     # Clear Chunk"
   ]
  },
  {
   "cell_type": "markdown",
   "metadata": {},
   "source": [
    "<!-- ## Buffer Data for Compute Extract Table -->"
   ]
  },
  {
   "cell_type": "code",
   "execution_count": 2,
   "metadata": {},
   "outputs": [],
   "source": [
    "# print(m_buffer['การประกอบธุรกิจและผลการดำเนินงาน\\nโครงสร้างและการดำเนินงานของกลุ่มบริษัท'][0])"
   ]
  },
  {
   "cell_type": "markdown",
   "metadata": {},
   "source": [
    "<!-- ## Find Table in Buffer -->"
   ]
  },
  {
   "cell_type": "code",
   "execution_count": 3,
   "metadata": {},
   "outputs": [],
   "source": [
    "# from s56in1 import extractor56Section7V1\n",
    "\n",
    "# extract_section7 = extractor56Section7V1(file_name, m_buffer['การกำกับดูแลกิจการ\\nโครงสร้างการกำกับดูแลกิจการ\\nและข้อมูลสำคัญเกี่ยวกับ\\nคณะกรรมการ คณะกรรมการชุดย่อย ผู้บริหาร\\nพนักงานและอื่นๆ'])"
   ]
  },
  {
   "cell_type": "code",
   "execution_count": 4,
   "metadata": {},
   "outputs": [],
   "source": [
    "# for i in extract_section7:\n",
    "#     print(i)"
   ]
  },
  {
   "cell_type": "code",
   "execution_count": 5,
   "metadata": {},
   "outputs": [],
   "source": [
    "# m_buffer['การกำกับดูแลกิจการ\\nโครงสร้างการกำกับดูแลกิจการ\\nและข้อมูลสำคัญเกี่ยวกับ\\nคณะกรรมการ คณะกรรมการชุดย่อย ผู้บริหาร\\nพนักงานและอื่นๆ'] = extract_section7"
   ]
  },
  {
   "cell_type": "code",
   "execution_count": 6,
   "metadata": {},
   "outputs": [],
   "source": [
    "# for i in m_buffer:\n",
    "#     for j in m_buffer[i]:\n",
    "#         print(j)"
   ]
  },
  {
   "cell_type": "code",
   "execution_count": 7,
   "metadata": {},
   "outputs": [],
   "source": [
    "# from metadatas import generateMetadata\n",
    "\n",
    "# con = m_buffer['การประกอบธุรกิจและผลการดำเนินงาน\\nโครงสร้างและการดำเนินงานของกลุ่มบริษัท']\n",
    "\n",
    "# f = generateMetadata(file_name, 'การประกอบธุรกิจและผลการดำเนินงาน\\nโครงสร้างและการดำเนินงานของกลุ่มบริษัท', con)\n",
    "\n",
    "# for k in m_buffer:\n",
    "#     generateMetadata(file_name, k, m_buffer[k])\n",
    "\n",
    "# generateMetadata(file_name, \"การกำกับดูแลกิจการ\\nโครงสร้างการกำกับดูแลกิจการ\\nและข้อมูลสำคัญเกี่ยวกับ\\nคณะกรรมการ คณะกรรมการชุดย่อย ผู้บริหาร\\nพนักงานและอื่นๆ\", m_buffer['การกำกับดูแลกิจการ\\nโครงสร้างการกำกับดูแลกิจการ\\nและข้อมูลสำคัญเกี่ยวกับ\\nคณะกรรมการ คณะกรรมการชุดย่อย ผู้บริหาร\\nพนักงานและอื่นๆ'])"
   ]
  },
  {
   "cell_type": "code",
   "execution_count": 8,
   "metadata": {},
   "outputs": [],
   "source": [
    "# from langchain_experimental.text_splitter import SemanticChunker\n",
    "# from langchain_huggingface import HuggingFaceEmbeddings\n",
    "\n",
    "# embedding_model = HuggingFaceEmbeddings(model_name=\"intfloat/multilingual-e5-large-instruct\")"
   ]
  },
  {
   "cell_type": "code",
   "execution_count": 9,
   "metadata": {},
   "outputs": [],
   "source": [
    "# text_splitter = SemanticChunker(\n",
    "#     embedding_model, breakpoint_threshold_type=\"gradient\"\n",
    "# )\n",
    "\n",
    "# # for key in m_buffer:\n",
    "# #     # for d in m_buffer[key]:\n",
    "# #     docs = text_splitter.create_documents(m_buffer[key])\n",
    "# #     print(docs)\n",
    "\n",
    "# docs = text_splitter.create_documents(m_buffer['การประกอบธุรกิจและผลการดำเนินงาน\\nโครงสร้างและการดำเนินงานของกลุ่มบริษัท'])\n"
   ]
  },
  {
   "cell_type": "code",
   "execution_count": 10,
   "metadata": {},
   "outputs": [],
   "source": [
    "# docs"
   ]
  },
  {
   "cell_type": "code",
   "execution_count": 11,
   "metadata": {},
   "outputs": [],
   "source": [
    "    \n",
    "# import re\n",
    "\n",
    "# def split_text_by_n_occurrence(text):\n",
    "#     a = \"\"\n",
    "#     b = []\n",
    "#     buffer = text.split(\"-----\\n\")\n",
    "#     counter = 0\n",
    "#     for index in range(0, len(buffer)):\n",
    "#         if re.search(r\"^ข้อมูลทั่วไป\", buffer[index]):\n",
    "#             a += buffer[index]\n",
    "#             counter += 1\n",
    "#         else:\n",
    "#             if a != \"\":\n",
    "#                 b.append(a)\n",
    "#                 b.append(buffer[index])\n",
    "#                 a = \"\"\n",
    "#             else:\n",
    "#                 b.append(buffer[index])\n",
    "#             counter = 0\n",
    "#         if counter == 3:\n",
    "#             b.append(a)\n",
    "#             a = \"\"\n",
    "#             counter = 0\n",
    "    \n",
    "#     return b"
   ]
  },
  {
   "cell_type": "code",
   "execution_count": 12,
   "metadata": {},
   "outputs": [],
   "source": [
    "# from metadatas import gptCalToken, semantic_chunking\n",
    "# from langchain_core.documents import Document\n",
    "\n",
    "# def createDocuments(file_path: str, text):\n",
    "#     path = file_path.split(\"/\")\n",
    "#     file_name = path[-1]\n",
    "#     company_name, file_type, year = file_name.split(\"_\")\n",
    "\n",
    "#     company_name = company_name.upper()\n",
    "#     year = year.split(\".\")[0]\n",
    "\n",
    "\n",
    "#     documents = []\n",
    "\n",
    "#     metadata = {\n",
    "#         \"company_name\": company_name,\n",
    "#         \"file_type\": file_type,\n",
    "#         \"year\": year,\n",
    "#         \"structured\": True,\n",
    "#     }\n",
    "\n",
    "#     for key in text:\n",
    "#         section = key.split(\"\\n\",1)[1]\n",
    "#         file_metadata = metadata\n",
    "#         file_metadata[\"section\"] = section\n",
    "\n",
    "#         for data in text[key]:\n",
    "#             # print(\"SEC\", section)\n",
    "#             sub_section = data.split(\"\\n\", 1)[0]\n",
    "#             # print(\"SUB\", sub_section)\n",
    "#             metadata[\"sub_section\"] = sub_section\n",
    "\n",
    "#             # 7\n",
    "#             if (section == \"โครงสร้างการกำกับดูแลกิจการ\\nและข้อมูลสำคัญเกี่ยวกับ\\nคณะกรรมการ คณะกรรมการชุดย่อย ผู้บริหาร\\nพนักงานและอื่นๆ\"):            \n",
    "#                 for i in split_text_by_n_occurrence(data):\n",
    "#                     # print([i])\n",
    "#                     document = Document(\n",
    "#                         page_content=i,\n",
    "#                         metadata=file_metadata\n",
    "#                     )\n",
    "#                     documents.append(document)\n",
    "#                 # print(\"\\n\")\n",
    "\n",
    "#             # 1, 2, 3, 6, 8\n",
    "#             else:\n",
    "#                 # pass\n",
    "#                 for i in semantic_chunking(data):\n",
    "#                     document = Document(\n",
    "#                         page_content=i,\n",
    "#                         metadata=file_metadata\n",
    "#                     )\n",
    "#                     documents.append(document)\n",
    "#                     # print([i])\n",
    "#                     # print(gptCalToken(i))\n",
    "#                 # print(\"\\n\")\n",
    "#         # print(\"====\")\n",
    "#     return documents\n",
    "\n",
    "\n",
    "# documents = createDocuments(\"./pdfs/bts_56-1_2023.pdf\",m_buffer)"
   ]
  },
  {
   "cell_type": "code",
   "execution_count": 1,
   "metadata": {},
   "outputs": [
    {
     "name": "stderr",
     "output_type": "stream",
     "text": [
      "/Users/peerasit/senior_project/STELLA-Backend/venv/lib/python3.12/site-packages/tqdm/auto.py:21: TqdmWarning: IProgress not found. Please update jupyter and ipywidgets. See https://ipywidgets.readthedocs.io/en/stable/user_install.html\n",
      "  from .autonotebook import tqdm as notebook_tqdm\n"
     ]
    },
    {
     "name": "stdout",
     "output_type": "stream",
     "text": [
      "Navigations for Extract Data:\n",
      "{'search': {'รายชื่อกรรมการชุดปัจจุบัน': [20, 21, 22]}, 'name_col': ['ข้อมูลทั่วไป', 'ตำแหน่งของกรรมการ', 'วันเริ่มดำรงตำแหน่ง', 'ประสบการณ์และความชำนาญ'], 'replace_start': 'รายชื่อกรรมการชุดปัจจุบัน', 'replace_end': 'รายชื่อกรรมการที่ลาออก/พ้นจากตำแหน่งระหว่างปี'}\n",
      "{'search': {'รายชื่อกรรมการที่ลาออก/พ้นจากตำแหน่งระหว่างปี': [23]}, 'name_col': ['ข้อมูลทั่วไป', 'ตำแหน่งของกรรมการ', 'ระยะเวลาดำรงตำแหน่ง', 'กรรมการที่มาดำรงตำแหน่งแทน'], 'replace_start': 'รายชื่อกรรมการที่ลาออก/พ้นจากตำแหน่งระหว่างปี', 'replace_end': 'ข้อมูลเกี่ยวกับคณะกรรมการอื่นๆ'}\n",
      "{'search': {'รายชื่อกรรมการตรวจสอบชุดปัจจุบัน': [24]}, 'name_col': ['ข้อมูลทั่วไป', 'ตำแหน่งของกรรมการ', 'วันเริ่มดำรงตำแหน่ง', 'ประสบการณ์และความชำนาญ'], 'replace_start': 'รายชื่อกรรมการตรวจสอบชุดปัจจุบัน', 'replace_end': 'รายชื่อกรรมการบริหารชุดปัจจุบัน'}\n",
      "{'search': {'รายชื่อกรรมการบริหารชุดปัจจุบัน': [25]}, 'name_col': ['ข้อมูลทั่วไป', 'ตำแหน่งของกรรมการ', 'วันเริ่มดำรงตำแหน่ง'], 'replace_start': 'รายชื่อกรรมการบริหารชุดปัจจุบัน', 'replace_end': 'คณะกรรมการชุดย่อยอื่นๆ'}\n",
      "{'search': {'คณะกรรมการชุดย่อยอื่นๆ\\nข้อมูลคณะกรรมการชุดย่อย': [25, 26]}, 'name_col': ['ชื่อของคณะกรรมการชุดย่อย', 'รายชื่อกรรมการ', 'ตำแหน่ง'], 'replace_start': 'คณะกรรมการชุดย่อยอื่นๆ\\nข้อมูลคณะกรรมการชุดย่อย', 'replace_end': 'บทบาทหน้าที่ของคณะกรรมการชุดย่อย'}\n",
      "{'search': {'รายชื่อผู้บริหารสูงสุดและผู้บริหาร 4 รายแรกนับจากผู้บริหารสูงสุด': [27]}, 'name_col': ['ข้อมูลทั่วไป', 'ตำแหน่งของกรรมการ', 'วันเริ่มดำรงตำแหน่ง', 'ประสบการณ์และความชำนาญ'], 'replace_start': 'รายชื่อผู้บริหารสูงสุดและผู้บริหาร 4 รายแรกนับจากผู้บริหารสูงสุด', 'replace_end': 'นโยบายการจ่ายค่าตอบแทนผู้บริหาร (7.4.2 - 7.4.3)'}\n"
     ]
    }
   ],
   "source": [
    "from extractor import extractPdf, createDocuments\n",
    "from s56in1 import extractor56Section7V1\n",
    "\n",
    "file_name = \"./pdfs/ba_56-1_2023.pdf\"\n",
    "buffer = extractPdf(file_path=file_name)\n",
    "\n",
    "section7 = extractor56Section7V1(file_name, buffer['การกำกับดูแลกิจการ\\nโครงสร้างการกำกับดูแลกิจการ\\nและข้อมูลสำคัญเกี่ยวกับ\\nคณะกรรมการ คณะกรรมการชุดย่อย ผู้บริหาร\\nพนักงานและอื่นๆ'])\n",
    "buffer['การกำกับดูแลกิจการ\\nโครงสร้างการกำกับดูแลกิจการ\\nและข้อมูลสำคัญเกี่ยวกับ\\nคณะกรรมการ คณะกรรมการชุดย่อย ผู้บริหาร\\nพนักงานและอื่นๆ'] = section7\n",
    "\n",
    "documents = createDocuments(file_name, buffer)"
   ]
  },
  {
   "cell_type": "code",
   "execution_count": 3,
   "metadata": {},
   "outputs": [],
   "source": [
    "# documents"
   ]
  },
  {
   "cell_type": "code",
   "execution_count": null,
   "metadata": {},
   "outputs": [],
   "source": [
    "import sys\n",
    "from pymilvus import db\n",
    "sys.path.insert(1, '../milvus/')\n",
    "\n",
    "from core import Core\n",
    "from schema import DATA_SOURCE_SCHEMA\n",
    "\n",
    "from langchain_huggingface import HuggingFaceEmbeddings\n",
    "\n",
    "core = Core(collection_name=\"s56in1V1\",\n",
    "    database_name=\"stella_db\",\n",
    "    schema=DATA_SOURCE_SCHEMA,\n",
    "    dense_embedding_model=HuggingFaceEmbeddings(model_name=\"intfloat/multilingual-e5-large-instruct\"),\n",
    "    system_prune=True\n",
    ")\n",
    "\n",
    "# print(db.list_database())"
   ]
  },
  {
   "cell_type": "code",
   "execution_count": null,
   "metadata": {},
   "outputs": [],
   "source": [
    "core.add_document(documents)"
   ]
  },
  {
   "cell_type": "code",
   "execution_count": null,
   "metadata": {},
   "outputs": [],
   "source": [
    "chunk_retriever_vectorStore = core.initVectorStore()\n",
    "chunk_retriever = chunk_retriever_vectorStore.as_retriever()"
   ]
  },
  {
   "cell_type": "code",
   "execution_count": null,
   "metadata": {},
   "outputs": [],
   "source": [
    "dat = chunk_retriever.invoke(\"องประกอบของคณะกรรมการบริษัท\")\n",
    "for i in dat:\n",
    "    print([i])"
   ]
  }
 ],
 "metadata": {
  "kernelspec": {
   "display_name": "venv",
   "language": "python",
   "name": "python3"
  },
  "language_info": {
   "codemirror_mode": {
    "name": "ipython",
    "version": 3
   },
   "file_extension": ".py",
   "mimetype": "text/x-python",
   "name": "python",
   "nbconvert_exporter": "python",
   "pygments_lexer": "ipython3",
   "version": "3.12.4"
  }
 },
 "nbformat": 4,
 "nbformat_minor": 2
}
