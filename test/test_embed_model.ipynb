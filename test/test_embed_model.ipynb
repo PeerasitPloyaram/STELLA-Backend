{
 "cells": [
  {
   "cell_type": "code",
   "execution_count": 1,
   "metadata": {},
   "outputs": [],
   "source": [
    "# Sample list of sentences\n",
    "sentences = [\n",
    "    \"The cat sits on the mat.\",\n",
    "    \"Dogs are great friends to humans.\",\n",
    "    \"Birds can fly high in the sky.\",\n",
    "    \"It is raining cats and dogs.\",\n",
    "    \"The sky is blue and the sun is shining.\"\n",
    "]"
   ]
  },
  {
   "cell_type": "code",
   "execution_count": null,
   "metadata": {},
   "outputs": [
    {
     "name": "stderr",
     "output_type": "stream",
     "text": [
      "/Users/peerasit/senior_project/test_middleware/venv/lib/python3.12/site-packages/tqdm/auto.py:21: TqdmWarning: IProgress not found. Please update jupyter and ipywidgets. See https://ipywidgets.readthedocs.io/en/stable/user_install.html\n",
      "  from .autonotebook import tqdm as notebook_tqdm\n"
     ]
    },
    {
     "name": "stdout",
     "output_type": "stream",
     "text": [
      "Query: What's a good companion animal?\n",
      "Most Similar Sentence: 'Dogs are great friends to humans.' with similarity score: 0.8624\n",
      "Query: What's a good companion animal?\n",
      "Most Similar Sentence: 'Dogs are great friends to humans.' with similarity score: 0.5757\n"
     ]
    }
   ],
   "source": [
    "from sklearn.metrics.pairwise import cosine_similarity\n",
    "from langchain_huggingface import HuggingFaceEmbeddings\n",
    "import numpy as np\n",
    "\n",
    "embedding_models = [\n",
    "                    # HuggingFaceEmbeddings(model_name=\"intfloat/multilingual-e5-large\"),\n",
    "                    HuggingFaceEmbeddings(model_name=\"intfloat/multilingual-e5-large-instruct\"),\n",
    "                    # HuggingFaceEmbeddings(model_name=\"sentence-transformers/paraphrase-multilingual-mpnet-base-v2\")\n",
    "                    # HuggingFaceEmbeddings(model_name=\"Alibaba-NLP/gte-Qwen2-1.5B-instruct\")\n",
    "                    HuggingFaceEmbeddings(model_name=\"BAAI/bge-m3\"),\n",
    "                    # HuggingFaceEmbeddings(model_name=\"avsolatorio/GIST-large-Embedding-v0\"),\n",
    "                    # HuggingFaceEmbeddings(model_name=\"Snowflake/snowflake-arctic-embed-l-v2.0\"),\n",
    "                    # HuggingFaceEmbeddings(model_name=\"google/flan-t5-large\")\n",
    "                ]\n",
    "\n",
    "# Function to find the most similar sentence\n",
    "def find_most_similar(query, emb):\n",
    "    query_embedding = emb.embed_query(query)\n",
    "\n",
    "    # Calculate cosine similarity between the query vector and sentence vectors\n",
    "    similarities = cosine_similarity([query_embedding], emb.embed_documents(sentences))[0]\n",
    "\n",
    "    # Find the index of the highest similarity score\n",
    "    most_similar_index = np.argmax(similarities)\n",
    "    return sentences[most_similar_index], similarities[most_similar_index]\n",
    "\n",
    "\n",
    "# Sample usage\n",
    "query_text = \"What's a good companion animal?\"\n",
    "for embedding_model in embedding_models:\n",
    "    most_similar_sentence, similarity_score = find_most_similar(query_text, embedding_model)\n",
    "    print(f\"Query: {query_text}\")\n",
    "    print(f\"Most Similar Sentence: '{most_similar_sentence}' with similarity score: {similarity_score:.4f}\")"
   ]
  }
 ],
 "metadata": {
  "kernelspec": {
   "display_name": "venv",
   "language": "python",
   "name": "python3"
  },
  "language_info": {
   "codemirror_mode": {
    "name": "ipython",
    "version": 3
   },
   "file_extension": ".py",
   "mimetype": "text/x-python",
   "name": "python",
   "nbconvert_exporter": "python",
   "pygments_lexer": "ipython3",
   "version": "3.12.4"
  }
 },
 "nbformat": 4,
 "nbformat_minor": 2
}
