{
 "cells": [
  {
   "cell_type": "code",
   "execution_count": 1,
   "metadata": {},
   "outputs": [],
   "source": [
    "import sys, os\n",
    "sys.path.append(os.path.dirname(os.path.dirname(os.getcwd()) + \"/stella\"))\n",
    "from dotenv import load_dotenv\n",
    "\n",
    "load_dotenv()\n",
    "OPENAI_API_KEY = os.environ[\"OPENAI_API_KEY\"] = os.getenv(\"OPEN_AI_API_KEY\")"
   ]
  },
  {
   "cell_type": "code",
   "execution_count": 2,
   "metadata": {},
   "outputs": [
    {
     "name": "stderr",
     "output_type": "stream",
     "text": [
      "/Users/peerasit/senior_project/STELLA-Backend/venv/lib/python3.12/site-packages/tqdm/auto.py:21: TqdmWarning: IProgress not found. Please update jupyter and ipywidgets. See https://ipywidgets.readthedocs.io/en/stable/user_install.html\n",
      "  from .autonotebook import tqdm as notebook_tqdm\n"
     ]
    },
    {
     "name": "stdout",
     "output_type": "stream",
     "text": [
      "[CORE] Initializing Milvus Database Core...\n",
      "[DB] init Embedding Model...\n",
      "[DB] init Embedding Model Successfully.\n",
      "[DB] Found Database: stella_vector_db\n"
     ]
    }
   ],
   "source": [
    "from stella.services.srag import app"
   ]
  },
  {
   "cell_type": "code",
   "execution_count": 3,
   "metadata": {},
   "outputs": [
    {
     "name": "stdout",
     "output_type": "stream",
     "text": [
      "Classify question\n",
      "Classify: Generate\n",
      "Generate\n",
      "[]\n",
      "สวัสดีค่ะ! มีอะไรให้ช่วยไหมคะ?\n",
      "Check Hallucination\n"
     ]
    },
    {
     "data": {
      "text/plain": [
       "{'question': 'สวัสดี',\n",
       " 'input_question': 'สวัสดี',\n",
       " 'generation': 'สวัสดีค่ะ! มีอะไรให้ช่วยไหมคะ?',\n",
       " 'documents': [],\n",
       " 'session_id': '',\n",
       " 'counter': 0}"
      ]
     },
     "execution_count": 3,
     "metadata": {},
     "output_type": "execute_result"
    }
   ],
   "source": [
    "app.invoke({\"question\": \"สวัสดี\", \"session_id\": \"\"})"
   ]
  },
  {
   "cell_type": "markdown",
   "metadata": {},
   "source": [
    "## Dataset"
   ]
  },
  {
   "cell_type": "code",
   "execution_count": 14,
   "metadata": {},
   "outputs": [],
   "source": [
    "questions = [\n",
    "    \"What is bts?\",\n",
    "    \"What is ba\",\n",
    "    \"การดำเนินธรุรกิจของ bts\",\n",
    "    # \"What are the primary business operations of Bangkok Airways?\",\n",
    "    # \"มาตราฐาน ndc ในไทย\",\n",
    "    # \"รายได้ของ bts เทียบกับ scb อันได้กำไร\",\n",
    "    # \"gri คือ\",\n",
    "    # \"มาตราฐาน ndc ในประเทศไทย\",\n",
    "    # \"bts มีการดำเนินนโยบายตามแนวทาง gri ยังไงบ้าง\"\n",
    "]\n",
    "\n",
    "ground_truths = [\n",
    "    \"บริษัท บีทีเอส กรุ๊ป โฮลดิ้งส์ จำกัด (มหาชน)\",\n",
    "    \"บริษัท การบินกรุงเทพ จำกัด (มหาชน)\",\n",
    "    \"MOVE, MIX, MATCH\",\n",
    "    # \"Airline operations, airport business, and related services\",\n",
    "    # \"แผนพัฒนากำลังผลิตไฟฟ้า (Power Development Plan) 2015-2036\",\n",
    "    # \"42,249,827.61, 150,342,049.00, 31,194,500.54, 154,420,335.00\",\n",
    "    # \"Global Reporting Initiative\",\n",
    "    # \"มีการกำหนดเป้าหมายและแผนการดำเนินงานที่เกี่ยวข้องกับการลดการปล่อยก๊าซเรือนกระจก\",\n",
    "    # \"มีการจัดทำรายงานความยั่งยืนที่อ้างอิงมาตรฐาน GRI Standards ซึ่งเป็นหนึ่งในมาตรฐานการเปิดเผยข้อมูลด้านความยั่งยืนที่บริษัทใช้\"\n",
    "]\n",
    "\n",
    "# questions = [\n",
    "#     \"What is the registered company name of BTS Group Holdings?\",\n",
    "#     \"What is the registered company name of Bangkok Airways?\",\n",
    "#     \"What are the primary business operations of BTS Group Holdings?\",\n",
    "#     \"What are the primary business operations of Bangkok Airways?\",\n",
    "#     \"What was BTS’s total revenue in 2023?\",\n",
    "#     \"What was BA’s total revenue in 2023?\",\n",
    "#     \"Compare the percentage of revenue from domestic vs. international sources for BTS and BA in 2023.\",\n",
    "#     \"Which company had a higher revenue growth rate from 2022 to 2023?\",\n",
    "#     \"What percentage of BTS’s revenue came from the MOVE segment in 2023?\",\n",
    "#     \"What percentage of BA’s revenue came from airline operations in 2023?\",\n",
    "#     \"Which company had a more diversified revenue stream?\",\n",
    "#     \"How much electricity did BTS consume in 2023?\",\n",
    "#     \"How much electricity did BA consume in 2023?\",\n",
    "#     \"Which company had higher CO₂ emissions in 2023?\",\n",
    "#     \"What was the total water consumption of BTS in 2023?\",\n",
    "#     \"What was the total water consumption of BA in 2023?\",\n",
    "#     \"What was the total number of employees in BTS in 2023?\",\n",
    "#     \"What was the total number of employees in BA in 2023?\",\n",
    "#     \"What was the total compensation paid to BTS employees in 2023?\",\n",
    "#     \"What was the total compensation paid to BA employees in 2023?\",\n",
    "#     \"Which company had a higher voluntary turnover rate in 2023?\",\n",
    "#     \"How many board members does BTS have?\",\n",
    "#     \"How many board members does BA have?\",\n",
    "#     \"What percentage of BTS’s board members are independent directors?\",\n",
    "#     \"What percentage of BA’s board members are independent directors?\",\n",
    "#     \"What are the top three strategic risks faced by BTS?\",\n",
    "#     \"What are the top three strategic risks faced by BA?\",\n",
    "#     \"How many total shares were issued by BTS?\",\n",
    "#     \"How many total shares were issued by BA?\",\n",
    "#     \"Compare the financial risk exposure of BTS and BA in terms of currency exchange rate volatility.\"\n",
    "# ]\n",
    "\n",
    "\n",
    "# ground_truths = [\n",
    "#     \"บริษัท บีทีเอส กรุ๊ป โฮลดิ้งส์ จำกัด (มหาชน)\",\n",
    "#     \"บริษัท การบินกรุงเทพ จำกัด (มหาชน)\",\n",
    "#     \"Mass transit, advertising, and business partnerships (MOVE, MIX, MATCH)\",\n",
    "#     \"Airline operations, airport business, and related services\",\n",
    "#     \"24,138,715.99 thousand THB\",\n",
    "#     \"21,732,513.00 thousand THB\",\n",
    "#     \"BTS: Domestic: 100%, International: 0% | BA: Domestic: 71.52%, International: 28.48%\",\n",
    "#     \"BA had a higher growth rate (from 12,742,078 to 21,732,513), whereas BTS had a decline (from 31,194,500.54 to 24,138,715.99).\",\n",
    "#     \"50.93%\",\n",
    "#     \"68.91%\",\n",
    "#     \"BTS (MOVE, MIX, MATCH), while BA relies more on airline operations.\",\n",
    "#     \"176,404,000 kWh\",\n",
    "#     \"8,845,032.51 kWh\",\n",
    "#     \"BTS: 153,249 tons | BA: 293,222 tons (Higher emissions)\",\n",
    "#     \"199,500 cubic meters\",\n",
    "#     \"189,189.30 cubic meters\",\n",
    "#     \"5,880\",\n",
    "#     \"2,291\",\n",
    "#     \"3,360,079,885.65 THB\",\n",
    "#     \"2,240,629,789.00 THB\",\n",
    "#     \"BTS: 12.60% | BA: 6.77% (BTS had a higher turnover rate)\",\n",
    "#     \"12\",\n",
    "#     \"11\",\n",
    "#     \"50.00%\",\n",
    "#     \"36.36%\",\n",
    "#     \"1. Industry volatility, 2. Government policies, 3. Customer demand changes\",\n",
    "#     \"1. Industry volatility, 2. International policies, 3. Technology changes\",\n",
    "#     \"13,167,638,462 shares\",\n",
    "#     \"2,100,000,000 shares\",\n",
    "#     \"BTS has no revenue exposure to foreign exchange (100% domestic). BA has 28.48% of revenue from international sources, making it more exposed to exchange rate fluctuations.\"\n",
    "# ]"
   ]
  },
  {
   "cell_type": "code",
   "execution_count": 15,
   "metadata": {},
   "outputs": [
    {
     "name": "stdout",
     "output_type": "stream",
     "text": [
      "Classify question\n",
      "Classify: Extract\n",
      "Retrieve:\n",
      "[Grade Doc] Question: What is bts?\n",
      "gri 0.7960489392280579 0.77\n",
      "ndc 0.7774947285652161 0.77\n",
      "LLM Decision [{'bts': ['2023']}]\n",
      "LLM Search [{'bts': ['2023']}]\n",
      "search ['bts', 'gri', 'ndc']\n"
     ]
    },
    {
     "name": "stderr",
     "output_type": "stream",
     "text": [
      "DeprecationWarning: `metadata_field` is about to be deprecated, please set `enable_dynamic_field`=True instead.\n"
     ]
    },
    {
     "name": "stdout",
     "output_type": "stream",
     "text": [
      "{'k': 8, 'partition_names': ['bts'], 'expr': 'metadata[\"year\"] == \"2023\"'}\n"
     ]
    },
    {
     "name": "stderr",
     "output_type": "stream",
     "text": [
      "DeprecationWarning: `metadata_field` is about to be deprecated, please set `enable_dynamic_field`=True instead.\n"
     ]
    },
    {
     "name": "stdout",
     "output_type": "stream",
     "text": [
      "{'k': 4, 'partition_names': ['gri', 'ndc']}\n",
      "Document Relevant\n",
      "Document Relevant\n",
      "Document Not Relevant\n",
      "Document Not Relevant\n",
      "Document Not Relevant\n",
      "Document Not Relevant\n",
      "Document Not Relevant\n",
      "Document Not Relevant\n",
      "Document Not Relevant\n",
      "Document Not Relevant\n",
      "Document Not Relevant\n",
      "Document Not Relevant\n",
      "CONTEXT: [Document(metadata={'file_name': 'bts_56-1_2023.pdf', 'company_name': 'bts', 'file_type': '56-1', 'year': '2023', 'structured': True, 'section': 'โครงสร้างและการดำเนินงานของกลุ่มบริษัท', 'sub_section': 'นโยบายและภาพรวมการประกอบธุรกิจ (1.1)'}, page_content='นโยบายและภาพรวมการประกอบธุรกิจ (1.1)\\nข้อมูลทั่วไปของบริษัท (1.1.5)\\nชื่อบริษัท : บริษัท บีทีเอส กรุ๊ป โฮลดิ้งส์ จำกัด (มหาชน)\\nชื่อย่อหลักทรัพย์ : BTS\\nสถานที่ตั้งสำนักงานใหญ่ : ชั้น 14-15 อาคารทีเอสที ทาวเวอร์ เลขที่ 21 ซอยเฉยพ่วง ถนนวิภาวดี-รังสิต\\nแขวงจอมพล เขตจตุจักร\\nจังหวัด : กรุงเทพ\\nรหัสไปรษณีย์ : 10900\\nประเภทธุรกิจ : กลุ่มบริษัทที่ประกอบธุรกิจในหลากหลายอุตสาหกรรมโดยมุ่งเน้นการใช้\\nประโยชน์จากการเข้าถึงข้อมูลเครือข่ายระบบขนส่งมวลชนและสื่อโฆษณา\\nรวมทั้งการเป็นพันธมิตรทางธุรกิจกับบริษัทต่าง ๆ เพื่อเพิ่มมูลค่าทางธุรกิจแก่\\nกลุ่มบริษัทและพันธมิตรผ่านการดำเนินธุรกิจใน 3 แพลตฟอร์ม ได้แก่ MOVE MIX\\nและ MATCH\\nเลขทะเบียนบริษัท : 0107536000421\\nโทรศัพท์ : 0-2273-8511-5\\nเว็บไซต์บริษัท : http://www.btsgroup.co.th\\nอีเมล : -\\nจำนวนหุ้นที่จำหน่ายได้แล้วทั้งหมด (หุ้น)\\nหุ้นสามัญ : 13,167,638,462\\nหุ้นบุริมสิทธิ : 0\\n1[END_PAGE]'), Document(metadata={'file_name': 'bts_esg_2023.pdf', 'company_name': 'bts', 'file_type': 'esg', 'year': '2023', 'structured': True, 'section': 'ข้อมูลด้านสิ่งแวดล้อม'}, page_content='ข้อมูลการดำเนินงานด้าน ESG\\nบริษัท: บริษัท บีทีเอส กรุ๊ป โฮลดิ้งส์ จำกัด (มหาชน) ตัวย่อ: BTS\\nMarket: SET กลุ่มอุตสาหกรรม: บริการ หมวดธุรกิจ: ขนส่งและโลจิสติกส์\\nข้อมูลด้านสิ่งแวดล้อม\\n1 การจัดการด้านสิ่งแวดล้อม\\n1.1 นโยบายและแนวปฏิบัติด้านสิ่งแวดล้อม\\nนโยบายและแนวปฏิบัติด้านสิ่งแวดล้อมของบริษัท: มี\\nลิงก์นโยบายและแนวปฏิบัติด้านสิ่งแวดล้อมของบริษัท: https://www.btsgroup.co.th/th/sustainability/relevant-policies\\nเอกสารนโยบายและแนวปฏิบัติด้านสิ่งแวดล้อมของบริษัท: BTSG Environmental Management Policy.pdf\\n1.2 แนวปฏิบัติด้านสิ่งแวดล้อม\\nแนวปฏิบัติด้านสิ่งแวดล้อมของบริษัท: x การจัดการพลังงานไฟฟ้า x การจัดการขยะและของเสีย x การจัดการทรัพยากรน้ำ x\\nการจัดการก๊าซเรือนกระจกและการเปลี่ยนแปลงสภาพภูมิอากาศ x การจัดการความ\\nหลากหลายทางชีวภาพ x การจัดการน้ำมันและเชื้อเพลิง x การจัดการพลังงานทดแทน\\n/พลังงานสะอาด\\n2 การจัดการพลังงาน\\n2.1 ขอบเขตการเปิดเผยการจัดการพลังงาน\\nรายละเอียด:\\nประเภทขอบเขต (ปี2565): บริษัท\\nประเภทขอบเขต (ปี2566): -\\nจำนวนขอบเขตทั้งหมด (ปี2565): -\\nจำนวนขอบเขตทั้งหมด (ปี2566): -\\nจำนวนที่เปิดเผย (ปี2565): -\\nจำนวนที่เปิดเผย (ปี2566): -')]\n",
      "Decide to generate or not\n",
      "Count: 0\n",
      "Decide: Generate\n",
      "Generate\n",
      "[]\n",
      "BTS refers to บริษัท บีทีเอส กรุ๊ป โฮลดิ้งส์ จำกัด (มหาชน), also known as BTS Group Holdings Public Company Limited. It is a company listed on the Securities Exchange of Thailand (SET) under the ticker symbol BTS. The company operates in various industries, focusing on leveraging access to mass transit networks and advertising media. BTS Group engages in business partnerships to enhance business value through three platforms: MOVE, MIX, and MATCH. The company's headquarters is located at TST Tower, Bangkok, Thailand.\n",
      "Check Hallucination\n",
      "dsdsdfsfs ['นโยบายและภาพรวมการประกอบธุรกิจ (1.1)\\nข้อมูลทั่วไปของบริษัท (1.1.5)\\nชื่อบริษัท : บริษัท บีทีเอส กรุ๊ป โฮลดิ้งส์ จำกัด (มหาชน)\\nชื่อย่อหลักทรัพย์ : BTS\\nสถานที่ตั้งสำนักงานใหญ่ : ชั้น 14-15 อาคารทีเอสที ทาวเวอร์ เลขที่ 21 ซอยเฉยพ่วง ถนนวิภาวดี-รังสิต\\nแขวงจอมพล เขตจตุจักร\\nจังหวัด : กรุงเทพ\\nรหัสไปรษณีย์ : 10900\\nประเภทธุรกิจ : กลุ่มบริษัทที่ประกอบธุรกิจในหลากหลายอุตสาหกรรมโดยมุ่งเน้นการใช้\\nประโยชน์จากการเข้าถึงข้อมูลเครือข่ายระบบขนส่งมวลชนและสื่อโฆษณา\\nรวมทั้งการเป็นพันธมิตรทางธุรกิจกับบริษัทต่าง ๆ เพื่อเพิ่มมูลค่าทางธุรกิจแก่\\nกลุ่มบริษัทและพันธมิตรผ่านการดำเนินธุรกิจใน 3 แพลตฟอร์ม ได้แก่ MOVE MIX\\nและ MATCH\\nเลขทะเบียนบริษัท : 0107536000421\\nโทรศัพท์ : 0-2273-8511-5\\nเว็บไซต์บริษัท : http://www.btsgroup.co.th\\nอีเมล : -\\nจำนวนหุ้นที่จำหน่ายได้แล้วทั้งหมด (หุ้น)\\nหุ้นสามัญ : 13,167,638,462\\nหุ้นบุริมสิทธิ : 0\\n1[END_PAGE]', 'ข้อมูลการดำเนินงานด้าน ESG\\nบริษัท: บริษัท บีทีเอส กรุ๊ป โฮลดิ้งส์ จำกัด (มหาชน) ตัวย่อ: BTS\\nMarket: SET กลุ่มอุตสาหกรรม: บริการ หมวดธุรกิจ: ขนส่งและโลจิสติกส์\\nข้อมูลด้านสิ่งแวดล้อม\\n1 การจัดการด้านสิ่งแวดล้อม\\n1.1 นโยบายและแนวปฏิบัติด้านสิ่งแวดล้อม\\nนโยบายและแนวปฏิบัติด้านสิ่งแวดล้อมของบริษัท: มี\\nลิงก์นโยบายและแนวปฏิบัติด้านสิ่งแวดล้อมของบริษัท: https://www.btsgroup.co.th/th/sustainability/relevant-policies\\nเอกสารนโยบายและแนวปฏิบัติด้านสิ่งแวดล้อมของบริษัท: BTSG Environmental Management Policy.pdf\\n1.2 แนวปฏิบัติด้านสิ่งแวดล้อม\\nแนวปฏิบัติด้านสิ่งแวดล้อมของบริษัท: x การจัดการพลังงานไฟฟ้า x การจัดการขยะและของเสีย x การจัดการทรัพยากรน้ำ x\\nการจัดการก๊าซเรือนกระจกและการเปลี่ยนแปลงสภาพภูมิอากาศ x การจัดการความ\\nหลากหลายทางชีวภาพ x การจัดการน้ำมันและเชื้อเพลิง x การจัดการพลังงานทดแทน\\n/พลังงานสะอาด\\n2 การจัดการพลังงาน\\n2.1 ขอบเขตการเปิดเผยการจัดการพลังงาน\\nรายละเอียด:\\nประเภทขอบเขต (ปี2565): บริษัท\\nประเภทขอบเขต (ปี2566): -\\nจำนวนขอบเขตทั้งหมด (ปี2565): -\\nจำนวนขอบเขตทั้งหมด (ปี2566): -\\nจำนวนที่เปิดเผย (ปี2565): -\\nจำนวนที่เปิดเผย (ปี2566): -']\n",
      "{'question': 'What is bts?', 'input_question': 'What is bts?', 'generation': \"BTS refers to บริษัท บีทีเอส กรุ๊ป โฮลดิ้งส์ จำกัด (มหาชน), also known as BTS Group Holdings Public Company Limited. It is a company listed on the Securities Exchange of Thailand (SET) under the ticker symbol BTS. The company operates in various industries, focusing on leveraging access to mass transit networks and advertising media. BTS Group engages in business partnerships to enhance business value through three platforms: MOVE, MIX, and MATCH. The company's headquarters is located at TST Tower, Bangkok, Thailand.\", 'documents': [Document(metadata={'file_name': 'bts_56-1_2023.pdf', 'company_name': 'bts', 'file_type': '56-1', 'year': '2023', 'structured': True, 'section': 'โครงสร้างและการดำเนินงานของกลุ่มบริษัท', 'sub_section': 'นโยบายและภาพรวมการประกอบธุรกิจ (1.1)'}, page_content='นโยบายและภาพรวมการประกอบธุรกิจ (1.1)\\nข้อมูลทั่วไปของบริษัท (1.1.5)\\nชื่อบริษัท : บริษัท บีทีเอส กรุ๊ป โฮลดิ้งส์ จำกัด (มหาชน)\\nชื่อย่อหลักทรัพย์ : BTS\\nสถานที่ตั้งสำนักงานใหญ่ : ชั้น 14-15 อาคารทีเอสที ทาวเวอร์ เลขที่ 21 ซอยเฉยพ่วง ถนนวิภาวดี-รังสิต\\nแขวงจอมพล เขตจตุจักร\\nจังหวัด : กรุงเทพ\\nรหัสไปรษณีย์ : 10900\\nประเภทธุรกิจ : กลุ่มบริษัทที่ประกอบธุรกิจในหลากหลายอุตสาหกรรมโดยมุ่งเน้นการใช้\\nประโยชน์จากการเข้าถึงข้อมูลเครือข่ายระบบขนส่งมวลชนและสื่อโฆษณา\\nรวมทั้งการเป็นพันธมิตรทางธุรกิจกับบริษัทต่าง ๆ เพื่อเพิ่มมูลค่าทางธุรกิจแก่\\nกลุ่มบริษัทและพันธมิตรผ่านการดำเนินธุรกิจใน 3 แพลตฟอร์ม ได้แก่ MOVE MIX\\nและ MATCH\\nเลขทะเบียนบริษัท : 0107536000421\\nโทรศัพท์ : 0-2273-8511-5\\nเว็บไซต์บริษัท : http://www.btsgroup.co.th\\nอีเมล : -\\nจำนวนหุ้นที่จำหน่ายได้แล้วทั้งหมด (หุ้น)\\nหุ้นสามัญ : 13,167,638,462\\nหุ้นบุริมสิทธิ : 0\\n1[END_PAGE]'), Document(metadata={'file_name': 'bts_esg_2023.pdf', 'company_name': 'bts', 'file_type': 'esg', 'year': '2023', 'structured': True, 'section': 'ข้อมูลด้านสิ่งแวดล้อม'}, page_content='ข้อมูลการดำเนินงานด้าน ESG\\nบริษัท: บริษัท บีทีเอส กรุ๊ป โฮลดิ้งส์ จำกัด (มหาชน) ตัวย่อ: BTS\\nMarket: SET กลุ่มอุตสาหกรรม: บริการ หมวดธุรกิจ: ขนส่งและโลจิสติกส์\\nข้อมูลด้านสิ่งแวดล้อม\\n1 การจัดการด้านสิ่งแวดล้อม\\n1.1 นโยบายและแนวปฏิบัติด้านสิ่งแวดล้อม\\nนโยบายและแนวปฏิบัติด้านสิ่งแวดล้อมของบริษัท: มี\\nลิงก์นโยบายและแนวปฏิบัติด้านสิ่งแวดล้อมของบริษัท: https://www.btsgroup.co.th/th/sustainability/relevant-policies\\nเอกสารนโยบายและแนวปฏิบัติด้านสิ่งแวดล้อมของบริษัท: BTSG Environmental Management Policy.pdf\\n1.2 แนวปฏิบัติด้านสิ่งแวดล้อม\\nแนวปฏิบัติด้านสิ่งแวดล้อมของบริษัท: x การจัดการพลังงานไฟฟ้า x การจัดการขยะและของเสีย x การจัดการทรัพยากรน้ำ x\\nการจัดการก๊าซเรือนกระจกและการเปลี่ยนแปลงสภาพภูมิอากาศ x การจัดการความ\\nหลากหลายทางชีวภาพ x การจัดการน้ำมันและเชื้อเพลิง x การจัดการพลังงานทดแทน\\n/พลังงานสะอาด\\n2 การจัดการพลังงาน\\n2.1 ขอบเขตการเปิดเผยการจัดการพลังงาน\\nรายละเอียด:\\nประเภทขอบเขต (ปี2565): บริษัท\\nประเภทขอบเขต (ปี2566): -\\nจำนวนขอบเขตทั้งหมด (ปี2565): -\\nจำนวนขอบเขตทั้งหมด (ปี2566): -\\nจำนวนที่เปิดเผย (ปี2565): -\\nจำนวนที่เปิดเผย (ปี2566): -')], 'session_id': '', 'counter': 0}\n",
      "Classify question\n",
      "Classify: Extract\n",
      "Retrieve:\n",
      "[Grade Doc] Question: What is ba?\n",
      "gri 0.8006657361984253 0.77\n",
      "ndc 0.7801905870437622 0.77\n"
     ]
    },
    {
     "name": "stderr",
     "output_type": "stream",
     "text": [
      "DeprecationWarning: `metadata_field` is about to be deprecated, please set `enable_dynamic_field`=True instead.\n"
     ]
    },
    {
     "name": "stdout",
     "output_type": "stream",
     "text": [
      "LLM Decision [{'Output': ['']}, {'ba': ['2023']}]\n",
      "LLM Search [{'ba': ['2023']}]\n",
      "search ['ba', 'gri', 'ndc']\n",
      "{'k': 8, 'partition_names': ['ba'], 'expr': 'metadata[\"year\"] == \"2023\"'}\n"
     ]
    },
    {
     "name": "stderr",
     "output_type": "stream",
     "text": [
      "DeprecationWarning: `metadata_field` is about to be deprecated, please set `enable_dynamic_field`=True instead.\n"
     ]
    },
    {
     "name": "stdout",
     "output_type": "stream",
     "text": [
      "{'k': 4, 'partition_names': ['gri', 'ndc']}\n",
      "Document Relevant\n",
      "Document Not Relevant\n",
      "Document Not Relevant\n",
      "Document Not Relevant\n",
      "Document Not Relevant\n",
      "Document Not Relevant\n",
      "Document Not Relevant\n",
      "Document Not Relevant\n",
      "Document Not Relevant\n",
      "Document Not Relevant\n",
      "Document Not Relevant\n",
      "Document Not Relevant\n",
      "CONTEXT: [Document(metadata={'file_name': 'ba_56-1_2023.pdf', 'company_name': 'ba', 'file_type': '56-1', 'year': '2023', 'structured': True, 'section': 'โครงสร้างและการดำเนินงานของกลุ่มบริษัท', 'sub_section': 'นโยบายและภาพรวมการประกอบธุรกิจ (1.1)'}, page_content='นโยบายและภาพรวมการประกอบธุรกิจ (1.1)\\nข้อมูลทั่วไปของบริษัท (1.1.5)\\nชื่อบริษัท : บริษัท การบินกรุงเทพ จำกัด (มหาชน)\\nชื่อย่อหลักทรัพย์ : BA\\nสถานที่ตั้งสำนักงานใหญ่ : เลขที่ 99 หมู่ที่ 14 ถนนวิภาวดีรังสิต แขวงจอมพล เขตจตุจักร\\nจังหวัด : กรุงเทพ\\nรหัสไปรษณีย์ : 10900\\nประเภทธุรกิจ : บริษัทประกอบธุรกิจสายการบิน ธุรกิจสนามบิน และธุรกิจที่เกี่ยวข้องกับธุรกิจ\\nสนามบิน ได้แก่ การให้บริการกิจการภาคพื้นดิน การให้บริการอาหารบนเที่ยว\\nบิน และการให้บริการคลังสินค้าระหว่างประเทศ ให้กับสายการบินของบริษัท\\nและสายการบินอื่นๆ\\nเลขทะเบียนบริษัท : 0107556000183\\nโทรศัพท์ : 0-2265-5678\\nโทรสาร (ถ้ามี) : 0-2265-5500\\nเว็บไซต์บริษัท : http://www.bangkokair.com\\nอีเมล : ir@bangkokair.com\\nจำนวนหุ้นที่จำหน่ายได้แล้วทั้งหมด (หุ้น)\\nหุ้นสามัญ : 2,100,000,000\\nหุ้นบุริมสิทธิ : 0\\n1[END_PAGE]')]\n",
      "Decide to generate or not\n",
      "Count: 0\n",
      "Decide: Generate\n",
      "Generate\n",
      "[]\n",
      "บริษัท การบินกรุงเทพ จำกัด (มหาชน) หรือที่รู้จักในชื่อย่อหลักทรัพย์ว่า BA เป็นบริษัทที่ประกอบธุรกิจสายการบิน ธุรกิจสนามบิน และธุรกิจที่เกี่ยวข้องกับธุรกิจสนามบิน ซึ่งรวมถึงการให้บริการกิจการภาคพื้นดิน การให้บริการอาหารบนเที่ยวบิน และการให้บริการคลังสินค้าระหว่างประเทศ ทั้งนี้ให้บริการทั้งกับสายการบินของบริษัทเองและสายการบินอื่นๆ\n",
      "\n",
      "**ข้อมูลทั่วไปของบริษัท:**\n",
      "- **ชื่อบริษัท:** บริษัท การบินกรุงเทพ จำกัด (มหาชน)\n",
      "- **ชื่อย่อหลักทรัพย์:** BA\n",
      "- **ที่ตั้งสำนักงานใหญ่:** เลขที่ 99 หมู่ที่ 14 ถนนวิภาวดีรังสิต แขวงจอมพล เขตจตุจักร กรุงเทพ 10900\n",
      "- **เลขทะเบียนบริษัท:** 0107556000183\n",
      "- **โทรศัพท์:** 0-2265-5678\n",
      "- **โทรสาร:** 0-2265-5500\n",
      "- **เว็บไซต์บริษัท:** [http://www.bangkokair.com](http://www.bangkokair.com)\n",
      "- **อีเมล:** ir@bangkokair.com\n",
      "- **จำนวนหุ้นที่จำหน่ายได้แล้วทั้งหมด:** หุ้นสามัญ 2,100,000,000 หุ้น, หุ้นบุริมสิทธิ 0 หุ้น\n",
      "Check Hallucination\n",
      "dsdsdfsfs ['นโยบายและภาพรวมการประกอบธุรกิจ (1.1)\\nข้อมูลทั่วไปของบริษัท (1.1.5)\\nชื่อบริษัท : บริษัท การบินกรุงเทพ จำกัด (มหาชน)\\nชื่อย่อหลักทรัพย์ : BA\\nสถานที่ตั้งสำนักงานใหญ่ : เลขที่ 99 หมู่ที่ 14 ถนนวิภาวดีรังสิต แขวงจอมพล เขตจตุจักร\\nจังหวัด : กรุงเทพ\\nรหัสไปรษณีย์ : 10900\\nประเภทธุรกิจ : บริษัทประกอบธุรกิจสายการบิน ธุรกิจสนามบิน และธุรกิจที่เกี่ยวข้องกับธุรกิจ\\nสนามบิน ได้แก่ การให้บริการกิจการภาคพื้นดิน การให้บริการอาหารบนเที่ยว\\nบิน และการให้บริการคลังสินค้าระหว่างประเทศ ให้กับสายการบินของบริษัท\\nและสายการบินอื่นๆ\\nเลขทะเบียนบริษัท : 0107556000183\\nโทรศัพท์ : 0-2265-5678\\nโทรสาร (ถ้ามี) : 0-2265-5500\\nเว็บไซต์บริษัท : http://www.bangkokair.com\\nอีเมล : ir@bangkokair.com\\nจำนวนหุ้นที่จำหน่ายได้แล้วทั้งหมด (หุ้น)\\nหุ้นสามัญ : 2,100,000,000\\nหุ้นบุริมสิทธิ : 0\\n1[END_PAGE]']\n",
      "{'question': 'What is ba', 'input_question': 'What is ba', 'generation': 'บริษัท การบินกรุงเทพ จำกัด (มหาชน) หรือที่รู้จักในชื่อย่อหลักทรัพย์ว่า BA เป็นบริษัทที่ประกอบธุรกิจสายการบิน ธุรกิจสนามบิน และธุรกิจที่เกี่ยวข้องกับธุรกิจสนามบิน ซึ่งรวมถึงการให้บริการกิจการภาคพื้นดิน การให้บริการอาหารบนเที่ยวบิน และการให้บริการคลังสินค้าระหว่างประเทศ ทั้งนี้ให้บริการทั้งกับสายการบินของบริษัทเองและสายการบินอื่นๆ\\n\\n**ข้อมูลทั่วไปของบริษัท:**\\n- **ชื่อบริษัท:** บริษัท การบินกรุงเทพ จำกัด (มหาชน)\\n- **ชื่อย่อหลักทรัพย์:** BA\\n- **ที่ตั้งสำนักงานใหญ่:** เลขที่ 99 หมู่ที่ 14 ถนนวิภาวดีรังสิต แขวงจอมพล เขตจตุจักร กรุงเทพ 10900\\n- **เลขทะเบียนบริษัท:** 0107556000183\\n- **โทรศัพท์:** 0-2265-5678\\n- **โทรสาร:** 0-2265-5500\\n- **เว็บไซต์บริษัท:** [http://www.bangkokair.com](http://www.bangkokair.com)\\n- **อีเมล:** ir@bangkokair.com\\n- **จำนวนหุ้นที่จำหน่ายได้แล้วทั้งหมด:** หุ้นสามัญ 2,100,000,000 หุ้น, หุ้นบุริมสิทธิ 0 หุ้น', 'documents': [Document(metadata={'file_name': 'ba_56-1_2023.pdf', 'company_name': 'ba', 'file_type': '56-1', 'year': '2023', 'structured': True, 'section': 'โครงสร้างและการดำเนินงานของกลุ่มบริษัท', 'sub_section': 'นโยบายและภาพรวมการประกอบธุรกิจ (1.1)'}, page_content='นโยบายและภาพรวมการประกอบธุรกิจ (1.1)\\nข้อมูลทั่วไปของบริษัท (1.1.5)\\nชื่อบริษัท : บริษัท การบินกรุงเทพ จำกัด (มหาชน)\\nชื่อย่อหลักทรัพย์ : BA\\nสถานที่ตั้งสำนักงานใหญ่ : เลขที่ 99 หมู่ที่ 14 ถนนวิภาวดีรังสิต แขวงจอมพล เขตจตุจักร\\nจังหวัด : กรุงเทพ\\nรหัสไปรษณีย์ : 10900\\nประเภทธุรกิจ : บริษัทประกอบธุรกิจสายการบิน ธุรกิจสนามบิน และธุรกิจที่เกี่ยวข้องกับธุรกิจ\\nสนามบิน ได้แก่ การให้บริการกิจการภาคพื้นดิน การให้บริการอาหารบนเที่ยว\\nบิน และการให้บริการคลังสินค้าระหว่างประเทศ ให้กับสายการบินของบริษัท\\nและสายการบินอื่นๆ\\nเลขทะเบียนบริษัท : 0107556000183\\nโทรศัพท์ : 0-2265-5678\\nโทรสาร (ถ้ามี) : 0-2265-5500\\nเว็บไซต์บริษัท : http://www.bangkokair.com\\nอีเมล : ir@bangkokair.com\\nจำนวนหุ้นที่จำหน่ายได้แล้วทั้งหมด (หุ้น)\\nหุ้นสามัญ : 2,100,000,000\\nหุ้นบุริมสิทธิ : 0\\n1[END_PAGE]')], 'session_id': '', 'counter': 0}\n",
      "Classify question\n",
      "Classify: Extract\n",
      "Retrieve:\n",
      "[Grade Doc] Question: การดำเนินธุรกิจหลักของ bts คืออะไร?\n",
      "gri 0.7755362391471863 0.77\n",
      "ndc 0.7572609186172485 0.77\n"
     ]
    },
    {
     "name": "stderr",
     "output_type": "stream",
     "text": [
      "DeprecationWarning: `metadata_field` is about to be deprecated, please set `enable_dynamic_field`=True instead.\n"
     ]
    },
    {
     "name": "stdout",
     "output_type": "stream",
     "text": [
      "LLM Decision [{'bts': ['2023']}]\n",
      "LLM Search [{'bts': ['2023']}]\n",
      "search ['bts', 'gri']\n",
      "{'k': 8, 'partition_names': ['bts'], 'expr': 'metadata[\"year\"] == \"2023\"'}\n"
     ]
    },
    {
     "name": "stderr",
     "output_type": "stream",
     "text": [
      "DeprecationWarning: `metadata_field` is about to be deprecated, please set `enable_dynamic_field`=True instead.\n"
     ]
    },
    {
     "name": "stdout",
     "output_type": "stream",
     "text": [
      "{'k': 4, 'partition_names': ['gri']}\n",
      "Document Relevant\n",
      "Document Not Relevant\n",
      "Document Not Relevant\n",
      "Document Not Relevant\n",
      "Document Not Relevant\n",
      "Document Not Relevant\n",
      "Document Not Relevant\n",
      "Document Not Relevant\n",
      "Document Not Relevant\n",
      "Document Not Relevant\n",
      "Document Not Relevant\n",
      "[Grade Doc] Question: bts มีบริษัทในเครือที่เกี่ยวข้องในการดำเนินธุรกิจหรือไม่?\n",
      "gri 0.7746751308441162 0.77\n",
      "ndc 0.7479280233383179 0.77\n"
     ]
    },
    {
     "name": "stderr",
     "output_type": "stream",
     "text": [
      "DeprecationWarning: `metadata_field` is about to be deprecated, please set `enable_dynamic_field`=True instead.\n"
     ]
    },
    {
     "name": "stdout",
     "output_type": "stream",
     "text": [
      "LLM Decision [{'bts': ['2023']}]\n",
      "LLM Search [{'bts': ['2023']}]\n",
      "search ['bts', 'gri']\n",
      "{'k': 8, 'partition_names': ['bts'], 'expr': 'metadata[\"year\"] == \"2023\"'}\n"
     ]
    },
    {
     "name": "stderr",
     "output_type": "stream",
     "text": [
      "DeprecationWarning: `metadata_field` is about to be deprecated, please set `enable_dynamic_field`=True instead.\n"
     ]
    },
    {
     "name": "stdout",
     "output_type": "stream",
     "text": [
      "{'k': 4, 'partition_names': ['gri']}\n",
      "Document Relevant\n",
      "Document Not Relevant\n",
      "Document Relevant\n",
      "Document Relevant\n",
      "Document Not Relevant\n",
      "Document Not Relevant\n",
      "Document Relevant\n",
      "Document Not Relevant\n",
      "Document Not Relevant\n",
      "Document Not Relevant\n",
      "Document Not Relevant\n",
      "[Grade Doc] Question: รูปแบบการให้บริการของ bts เป็นอย่างไร?\n",
      "gri 0.784584641456604 0.77\n",
      "ndc 0.7822960615158081 0.77\n"
     ]
    },
    {
     "name": "stderr",
     "output_type": "stream",
     "text": [
      "DeprecationWarning: `metadata_field` is about to be deprecated, please set `enable_dynamic_field`=True instead.\n"
     ]
    },
    {
     "name": "stdout",
     "output_type": "stream",
     "text": [
      "LLM Decision [{'bts': ['2023']}]\n",
      "LLM Search [{'bts': ['2023']}]\n",
      "search ['bts', 'gri', 'ndc']\n",
      "{'k': 8, 'partition_names': ['bts'], 'expr': 'metadata[\"year\"] == \"2023\"'}\n"
     ]
    },
    {
     "name": "stderr",
     "output_type": "stream",
     "text": [
      "DeprecationWarning: `metadata_field` is about to be deprecated, please set `enable_dynamic_field`=True instead.\n"
     ]
    },
    {
     "name": "stdout",
     "output_type": "stream",
     "text": [
      "{'k': 4, 'partition_names': ['gri', 'ndc']}\n",
      "Document Relevant\n",
      "Document Not Relevant\n",
      "Document Not Relevant\n",
      "Document Not Relevant\n",
      "Document Not Relevant\n",
      "Document Not Relevant\n",
      "Document Not Relevant\n",
      "Document Not Relevant\n",
      "Document Not Relevant\n",
      "Document Not Relevant\n",
      "Document Not Relevant\n",
      "Document Not Relevant\n",
      "[Grade Doc] Question: ผลการดำเนินงานทางการเงินของ bts เป็นอย่างไรในช่วงปีที่ผ่านมา?\n",
      "gri 0.7853926420211792 0.77\n",
      "ndc 0.750665009021759 0.77\n"
     ]
    },
    {
     "name": "stderr",
     "output_type": "stream",
     "text": [
      "DeprecationWarning: `metadata_field` is about to be deprecated, please set `enable_dynamic_field`=True instead.\n"
     ]
    },
    {
     "name": "stdout",
     "output_type": "stream",
     "text": [
      "LLM Decision [{'bts': ['2023']}]\n",
      "LLM Search [{'bts': ['2023']}]\n",
      "search ['bts', 'gri']\n",
      "{'k': 8, 'partition_names': ['bts'], 'expr': 'metadata[\"year\"] == \"2023\"'}\n"
     ]
    },
    {
     "name": "stderr",
     "output_type": "stream",
     "text": [
      "DeprecationWarning: `metadata_field` is about to be deprecated, please set `enable_dynamic_field`=True instead.\n"
     ]
    },
    {
     "name": "stdout",
     "output_type": "stream",
     "text": [
      "{'k': 4, 'partition_names': ['gri']}\n",
      "Document Not Relevant\n",
      "Document Not Relevant\n",
      "Document Not Relevant\n",
      "Document Not Relevant\n",
      "Document Not Relevant\n",
      "Document Not Relevant\n",
      "Document Not Relevant\n",
      "Document Not Relevant\n",
      "Document Not Relevant\n",
      "Document Not Relevant\n",
      "Document Not Relevant\n",
      "CONTEXT: [Document(metadata={'file_name': 'bts_56-1_2023.pdf', 'company_name': 'bts', 'file_type': '56-1', 'year': '2023', 'structured': True, 'section': 'โครงสร้างและการดำเนินงานของกลุ่มบริษัท', 'sub_section': 'นโยบายและภาพรวมการประกอบธุรกิจ (1.1)'}, page_content='นโยบายและภาพรวมการประกอบธุรกิจ (1.1)\\nข้อมูลทั่วไปของบริษัท (1.1.5)\\nชื่อบริษัท : บริษัท บีทีเอส กรุ๊ป โฮลดิ้งส์ จำกัด (มหาชน)\\nชื่อย่อหลักทรัพย์ : BTS\\nสถานที่ตั้งสำนักงานใหญ่ : ชั้น 14-15 อาคารทีเอสที ทาวเวอร์ เลขที่ 21 ซอยเฉยพ่วง ถนนวิภาวดี-รังสิต\\nแขวงจอมพล เขตจตุจักร\\nจังหวัด : กรุงเทพ\\nรหัสไปรษณีย์ : 10900\\nประเภทธุรกิจ : กลุ่มบริษัทที่ประกอบธุรกิจในหลากหลายอุตสาหกรรมโดยมุ่งเน้นการใช้\\nประโยชน์จากการเข้าถึงข้อมูลเครือข่ายระบบขนส่งมวลชนและสื่อโฆษณา\\nรวมทั้งการเป็นพันธมิตรทางธุรกิจกับบริษัทต่าง ๆ เพื่อเพิ่มมูลค่าทางธุรกิจแก่\\nกลุ่มบริษัทและพันธมิตรผ่านการดำเนินธุรกิจใน 3 แพลตฟอร์ม ได้แก่ MOVE MIX\\nและ MATCH\\nเลขทะเบียนบริษัท : 0107536000421\\nโทรศัพท์ : 0-2273-8511-5\\nเว็บไซต์บริษัท : http://www.btsgroup.co.th\\nอีเมล : -\\nจำนวนหุ้นที่จำหน่ายได้แล้วทั้งหมด (หุ้น)\\nหุ้นสามัญ : 13,167,638,462\\nหุ้นบุริมสิทธิ : 0\\n1[END_PAGE]'), Document(metadata={'file_name': 'bts_56-1_2023.pdf', 'company_name': 'bts', 'file_type': '56-1', 'year': '2023', 'structured': True, 'section': 'โครงสร้างและการดำเนินงานของกลุ่มบริษัท', 'sub_section': 'นโยบายและภาพรวมการประกอบธุรกิจ (1.1)'}, page_content='นโยบายและภาพรวมการประกอบธุรกิจ (1.1)\\nข้อมูลทั่วไปของบริษัท (1.1.5)\\nชื่อบริษัท : บริษัท บีทีเอส กรุ๊ป โฮลดิ้งส์ จำกัด (มหาชน)\\nชื่อย่อหลักทรัพย์ : BTS\\nสถานที่ตั้งสำนักงานใหญ่ : ชั้น 14-15 อาคารทีเอสที ทาวเวอร์ เลขที่ 21 ซอยเฉยพ่วง ถนนวิภาวดี-รังสิต\\nแขวงจอมพล เขตจตุจักร\\nจังหวัด : กรุงเทพ\\nรหัสไปรษณีย์ : 10900\\nประเภทธุรกิจ : กลุ่มบริษัทที่ประกอบธุรกิจในหลากหลายอุตสาหกรรมโดยมุ่งเน้นการใช้\\nประโยชน์จากการเข้าถึงข้อมูลเครือข่ายระบบขนส่งมวลชนและสื่อโฆษณา\\nรวมทั้งการเป็นพันธมิตรทางธุรกิจกับบริษัทต่าง ๆ เพื่อเพิ่มมูลค่าทางธุรกิจแก่\\nกลุ่มบริษัทและพันธมิตรผ่านการดำเนินธุรกิจใน 3 แพลตฟอร์ม ได้แก่ MOVE MIX\\nและ MATCH\\nเลขทะเบียนบริษัท : 0107536000421\\nโทรศัพท์ : 0-2273-8511-5\\nเว็บไซต์บริษัท : http://www.btsgroup.co.th\\nอีเมล : -\\nจำนวนหุ้นที่จำหน่ายได้แล้วทั้งหมด (หุ้น)\\nหุ้นสามัญ : 13,167,638,462\\nหุ้นบุริมสิทธิ : 0\\n1[END_PAGE]'), Document(metadata={'file_name': 'bts_56-1_2023.pdf', 'company_name': 'bts', 'file_type': '56-1', 'year': '2023', 'structured': True, 'section': 'โครงสร้างการกำกับดูแลกิจการ\\nและข้อมูลสำคัญเกี่ยวกับ\\nคณะกรรมการ คณะกรรมการชุดย่อย ผู้บริหาร\\nพนักงานและอื่นๆ', 'sub_section': 'ข้อมูลสำคัญอื่นๆ (7.6)'}, page_content='ข้อมูลสำคัญอื่นๆ (7.6)\\nข้อมูลสำคัญอื่นๆ\\nผู้ที่ได้รับมอบหมาย\\n• ผู้ควบคุมดูแลการทำบัญชี\\nข้อมูลทั่วไป อีเมล หมายเลขโทรศัพท์\\n1. นาง ดวงกมล ชัยชนะขจร duangkamol@btsgroup.co.th\\n• เลขานุการบริษัท\\nข้อมูลทั่วไป อีเมล หมายเลขโทรศัพท์\\n1. นางสาว ตารเกศ ถาวรพานิช taraket@btsgroup.co.th\\n• หัวหน้างานตรวจสอบภายใน\\nข้อมูลทั่วไป อีเมล หมายเลขโทรศัพท์\\n1. นาย พิภพ อินทรทัต pipop@btsgroup.co.th\\n• หัวหน้างานกำกับดูแลการปฏิบัติงานของบริษัท (Compliance)\\nข้อมูลทั่วไป อีเมล หมายเลขโทรศัพท์\\n1. n/a n/a n/a -@btsgroup.co.th -\\n27[END_PAGE]• หัวหน้างานนักลงทุนสัมพันธ์\\nข้อมูลทั่วไป อีเมล หมายเลขโทรศัพท์\\n1. นาย ดาเนียล รอสส์ daniel@btsgroup.co.th\\nผู้สอบบัญชีของบริษัท\\nรายชื่อและข้อมูลทั่วไปของ\\nบริษัท ค่าสอบบัญชี (บาท) ค่าบริการอื่นๆ (บาท)\\nผู้สอบบัญชีบริษัท\\n1. บริษัท สำนักงาน อีวาย จำกัด 1. นาย พรอนันต์ กิจนะวันชัย 32,199,000.00 รายละเอียด: การประเมิน\\nอีเมล: Pornanan. ราคาและการด้อยค่าของ\\nKitjanawanchai@th.ey.com เงินลงทุนและค่าที่ปรึกษา\\nหมายเลขโทรศัพท์: - ธุรกิจเกี่ยวกับ\\nการลงทุน\\n2. นางสาว ศิราภรณ์ เอื้ออนันต์กุล รวมค่าบริการ (บาท):\\nอีเมล: Siraporn.Ouaanunkun@th. 2,280,000.00\\ney.com\\nหมายเลขโทรศัพท์: -\\n3. นาง ชลรส สันติอัศวราภรณ์\\nอีเมล: Chonlaros.\\nSuntiasvaraporn@th.ey.com\\nหมายเลขโทรศัพท์: -\\n28[END_PAGE]'), Document(metadata={'file_name': 'bts_56-1_2023.pdf', 'company_name': 'bts', 'file_type': '56-1', 'year': '2023', 'structured': True, 'section': 'นโยบายการกำกับดูแลกิจการ', 'sub_section': 'ภาพรวมของนโยบายและแนวปฏิบัติการกำกับดูแลกิจการ (6.1)'}, page_content='ภาพรวมของนโยบายและแนวปฏิบัติการกำกับดูแลกิจการ (6.1)\\nนโยบายการกำกับดูแลกิจการ\\nนโยบายการกำกับดูแลกิจการ : มี\\nURL นโยบายการกำกับดูแลกิจการ (ถ้ามี) : https://www.btsgroup.co.th/u/th/2022/corporate-governance-policy-and-code-of-\\nbusiness-conduct\\nนโยบายและแนวปฏิบัติที่เกี่ยวกับคณะกรรมการ (6.1.1)\\nนโยบายและแนวปฏิบัติที่เกี่ยวกับคณะกรรมการ\\nนโยบายและแนวปฏิบัติของบริษัท : การสรรหากรรมการ, การกำหนดค่าตอบแทนของกรรมการ, ความเป็นอิสระของ\\nคณะกรรมการจากฝ่ายจัดการ, การพัฒนากรรมการ, การประเมินผลการปฏิบัติหน้าที่\\nของกรรมการ, การกำกับดูแลบริษัทย่อยและบริษัทร่วม'), Document(metadata={'file_name': 'bts_esg_2023.pdf', 'company_name': 'bts', 'file_type': 'esg', 'year': '2023', 'structured': True, 'section': 'ข้อมูลด้านบรรษัทภิบาลและเศรษฐกิจ'}, page_content='ข้อมูลด้านบรรษัทภิบาลและเศรษฐกิจ\\n1 นโยบายการกำกับดูแลกิจการ\\n1.1 นโยบายและแนวปฏิบัติการกำกับดูแลกิจการ\\nนโยบายและแนวปฏิบัติการกำกับดูแลกิจการของบริษัท: มี\\nลิงก์นโยบายและแนวปฏิบัติการกำกับดูแลกิจการของบริษัท: https://www.btsgroup.co.th/u/th/2022/corporate-governance-policy-and-\\ncode-of-business-conduct\\nเอกสารนโยบายและแนวปฏิบัติการกำกับดูแลกิจการของ -\\nบริษัท (ฉบับเต็ม):\\n1.2 นโยบายและแนวปฏิบัติที่เกี่ยวกับคณะกรรมการบริษัท\\nนโยบายและแนวปฏิบัติที่เกี่ยวกับคณะกรรมการบริษัท: x การสรรหากรรมการ x การกำหนดค่าตอบแทนกรรมการ x ความเป็นอิสระของคณะ\\nกรรมการจากฝ่ายจัดการ x การพัฒนากรรมการ x การประเมินผลการปฏิบัติหน้าที่ของ\\nคณะกรรมการ x การกำกับดูแลบริษัทย่อยและบริษัทร่วม\\n1.3 จรรยาบรรณธุรกิจ\\nจรรยาบรรณธุรกิจของบริษัท: มี\\nลิงก์จรรยาบรรณธุรกิจ: https://www.btsgroup.co.th/u/th/2022/corporate-governance-policy-and-\\ncode-of-business-conduct\\nเอกสารจรรยาบรรณธุรกิจ (ฉบับเต็ม): -\\n1.4 นโยบายและแนวปฏิบัติที่เกี่ยวกับจรรยาบรรณธุรกิจ\\nนโยบายและแนวปฏิบัติที่เกี่ยวกับจรรยาบรรณธุรกิจของ x การต่อต้านทุจริตและคอร์รัปชัน x การป้องกันความขัดแย้งทางผลประโยชน์ x การ\\nบริษัท: แจ้งเบาะแสและคุ้มครองผู้ร้องเรียน x การป้องกันการใช้ข้อมูลภายในเพื่อแสวงหา\\nผลประโยชน์'), Document(metadata={'file_name': 'bts_56-1_2023.pdf', 'company_name': 'bts', 'file_type': '56-1', 'year': '2023', 'structured': True, 'section': 'โครงสร้างและการดำเนินงานของกลุ่มบริษัท', 'sub_section': 'นโยบายและภาพรวมการประกอบธุรกิจ (1.1)'}, page_content='นโยบายและภาพรวมการประกอบธุรกิจ (1.1)\\nข้อมูลทั่วไปของบริษัท (1.1.5)\\nชื่อบริษัท : บริษัท บีทีเอส กรุ๊ป โฮลดิ้งส์ จำกัด (มหาชน)\\nชื่อย่อหลักทรัพย์ : BTS\\nสถานที่ตั้งสำนักงานใหญ่ : ชั้น 14-15 อาคารทีเอสที ทาวเวอร์ เลขที่ 21 ซอยเฉยพ่วง ถนนวิภาวดี-รังสิต\\nแขวงจอมพล เขตจตุจักร\\nจังหวัด : กรุงเทพ\\nรหัสไปรษณีย์ : 10900\\nประเภทธุรกิจ : กลุ่มบริษัทที่ประกอบธุรกิจในหลากหลายอุตสาหกรรมโดยมุ่งเน้นการใช้\\nประโยชน์จากการเข้าถึงข้อมูลเครือข่ายระบบขนส่งมวลชนและสื่อโฆษณา\\nรวมทั้งการเป็นพันธมิตรทางธุรกิจกับบริษัทต่าง ๆ เพื่อเพิ่มมูลค่าทางธุรกิจแก่\\nกลุ่มบริษัทและพันธมิตรผ่านการดำเนินธุรกิจใน 3 แพลตฟอร์ม ได้แก่ MOVE MIX\\nและ MATCH\\nเลขทะเบียนบริษัท : 0107536000421\\nโทรศัพท์ : 0-2273-8511-5\\nเว็บไซต์บริษัท : http://www.btsgroup.co.th\\nอีเมล : -\\nจำนวนหุ้นที่จำหน่ายได้แล้วทั้งหมด (หุ้น)\\nหุ้นสามัญ : 13,167,638,462\\nหุ้นบุริมสิทธิ : 0\\n1[END_PAGE]')]\n",
      "Decide to generate or not\n",
      "Count: 0\n",
      "Decide: Generate\n",
      "Generate\n",
      "[]\n",
      "บริษัท บีทีเอส กรุ๊ป โฮลดิ้งส์ จำกัด (มหาชน) หรือ BTS ดำเนินธุรกิจในหลากหลายอุตสาหกรรม โดยมุ่งเน้นการใช้ประโยชน์จากการเข้าถึงข้อมูลเครือข่ายระบบขนส่งมวลชนและสื่อโฆษณา นอกจากนี้ BTS ยังเป็นพันธมิตรทางธุรกิจกับบริษัทต่าง ๆ เพื่อเพิ่มมูลค่าทางธุรกิจแก่กลุ่มบริษัทและพันธมิตร โดยดำเนินธุรกิจผ่าน 3 แพลตฟอร์มหลัก ได้แก่ MOVE, MIX, และ MATCH\n",
      "\n",
      "- **MOVE**: เน้นการให้บริการด้านการขนส่งมวลชน\n",
      "- **MIX**: มุ่งเน้นการใช้สื่อโฆษณาและการตลาด\n",
      "- **MATCH**: การสร้างพันธมิตรทางธุรกิจเพื่อเพิ่มมูลค่าทางธุรกิจ\n",
      "\n",
      "สำนักงานใหญ่ของ BTS ตั้งอยู่ที่ชั้น 14-15 อาคารทีเอสที ทาวเวอร์ เลขที่ 21 ซอยเฉยพ่วง ถนนวิภาวดี-รังสิต แขวงจอมพล เขตจตุจักร กรุงเทพฯ 10900\n",
      "Check Hallucination\n",
      "dsdsdfsfs ['นโยบายและภาพรวมการประกอบธุรกิจ (1.1)\\nข้อมูลทั่วไปของบริษัท (1.1.5)\\nชื่อบริษัท : บริษัท บีทีเอส กรุ๊ป โฮลดิ้งส์ จำกัด (มหาชน)\\nชื่อย่อหลักทรัพย์ : BTS\\nสถานที่ตั้งสำนักงานใหญ่ : ชั้น 14-15 อาคารทีเอสที ทาวเวอร์ เลขที่ 21 ซอยเฉยพ่วง ถนนวิภาวดี-รังสิต\\nแขวงจอมพล เขตจตุจักร\\nจังหวัด : กรุงเทพ\\nรหัสไปรษณีย์ : 10900\\nประเภทธุรกิจ : กลุ่มบริษัทที่ประกอบธุรกิจในหลากหลายอุตสาหกรรมโดยมุ่งเน้นการใช้\\nประโยชน์จากการเข้าถึงข้อมูลเครือข่ายระบบขนส่งมวลชนและสื่อโฆษณา\\nรวมทั้งการเป็นพันธมิตรทางธุรกิจกับบริษัทต่าง ๆ เพื่อเพิ่มมูลค่าทางธุรกิจแก่\\nกลุ่มบริษัทและพันธมิตรผ่านการดำเนินธุรกิจใน 3 แพลตฟอร์ม ได้แก่ MOVE MIX\\nและ MATCH\\nเลขทะเบียนบริษัท : 0107536000421\\nโทรศัพท์ : 0-2273-8511-5\\nเว็บไซต์บริษัท : http://www.btsgroup.co.th\\nอีเมล : -\\nจำนวนหุ้นที่จำหน่ายได้แล้วทั้งหมด (หุ้น)\\nหุ้นสามัญ : 13,167,638,462\\nหุ้นบุริมสิทธิ : 0\\n1[END_PAGE]', 'นโยบายและภาพรวมการประกอบธุรกิจ (1.1)\\nข้อมูลทั่วไปของบริษัท (1.1.5)\\nชื่อบริษัท : บริษัท บีทีเอส กรุ๊ป โฮลดิ้งส์ จำกัด (มหาชน)\\nชื่อย่อหลักทรัพย์ : BTS\\nสถานที่ตั้งสำนักงานใหญ่ : ชั้น 14-15 อาคารทีเอสที ทาวเวอร์ เลขที่ 21 ซอยเฉยพ่วง ถนนวิภาวดี-รังสิต\\nแขวงจอมพล เขตจตุจักร\\nจังหวัด : กรุงเทพ\\nรหัสไปรษณีย์ : 10900\\nประเภทธุรกิจ : กลุ่มบริษัทที่ประกอบธุรกิจในหลากหลายอุตสาหกรรมโดยมุ่งเน้นการใช้\\nประโยชน์จากการเข้าถึงข้อมูลเครือข่ายระบบขนส่งมวลชนและสื่อโฆษณา\\nรวมทั้งการเป็นพันธมิตรทางธุรกิจกับบริษัทต่าง ๆ เพื่อเพิ่มมูลค่าทางธุรกิจแก่\\nกลุ่มบริษัทและพันธมิตรผ่านการดำเนินธุรกิจใน 3 แพลตฟอร์ม ได้แก่ MOVE MIX\\nและ MATCH\\nเลขทะเบียนบริษัท : 0107536000421\\nโทรศัพท์ : 0-2273-8511-5\\nเว็บไซต์บริษัท : http://www.btsgroup.co.th\\nอีเมล : -\\nจำนวนหุ้นที่จำหน่ายได้แล้วทั้งหมด (หุ้น)\\nหุ้นสามัญ : 13,167,638,462\\nหุ้นบุริมสิทธิ : 0\\n1[END_PAGE]', 'ข้อมูลสำคัญอื่นๆ (7.6)\\nข้อมูลสำคัญอื่นๆ\\nผู้ที่ได้รับมอบหมาย\\n• ผู้ควบคุมดูแลการทำบัญชี\\nข้อมูลทั่วไป อีเมล หมายเลขโทรศัพท์\\n1. นาง ดวงกมล ชัยชนะขจร duangkamol@btsgroup.co.th\\n• เลขานุการบริษัท\\nข้อมูลทั่วไป อีเมล หมายเลขโทรศัพท์\\n1. นางสาว ตารเกศ ถาวรพานิช taraket@btsgroup.co.th\\n• หัวหน้างานตรวจสอบภายใน\\nข้อมูลทั่วไป อีเมล หมายเลขโทรศัพท์\\n1. นาย พิภพ อินทรทัต pipop@btsgroup.co.th\\n• หัวหน้างานกำกับดูแลการปฏิบัติงานของบริษัท (Compliance)\\nข้อมูลทั่วไป อีเมล หมายเลขโทรศัพท์\\n1. n/a n/a n/a -@btsgroup.co.th -\\n27[END_PAGE]• หัวหน้างานนักลงทุนสัมพันธ์\\nข้อมูลทั่วไป อีเมล หมายเลขโทรศัพท์\\n1. นาย ดาเนียล รอสส์ daniel@btsgroup.co.th\\nผู้สอบบัญชีของบริษัท\\nรายชื่อและข้อมูลทั่วไปของ\\nบริษัท ค่าสอบบัญชี (บาท) ค่าบริการอื่นๆ (บาท)\\nผู้สอบบัญชีบริษัท\\n1. บริษัท สำนักงาน อีวาย จำกัด 1. นาย พรอนันต์ กิจนะวันชัย 32,199,000.00 รายละเอียด: การประเมิน\\nอีเมล: Pornanan. ราคาและการด้อยค่าของ\\nKitjanawanchai@th.ey.com เงินลงทุนและค่าที่ปรึกษา\\nหมายเลขโทรศัพท์: - ธุรกิจเกี่ยวกับ\\nการลงทุน\\n2. นางสาว ศิราภรณ์ เอื้ออนันต์กุล รวมค่าบริการ (บาท):\\nอีเมล: Siraporn.Ouaanunkun@th. 2,280,000.00\\ney.com\\nหมายเลขโทรศัพท์: -\\n3. นาง ชลรส สันติอัศวราภรณ์\\nอีเมล: Chonlaros.\\nSuntiasvaraporn@th.ey.com\\nหมายเลขโทรศัพท์: -\\n28[END_PAGE]', 'ภาพรวมของนโยบายและแนวปฏิบัติการกำกับดูแลกิจการ (6.1)\\nนโยบายการกำกับดูแลกิจการ\\nนโยบายการกำกับดูแลกิจการ : มี\\nURL นโยบายการกำกับดูแลกิจการ (ถ้ามี) : https://www.btsgroup.co.th/u/th/2022/corporate-governance-policy-and-code-of-\\nbusiness-conduct\\nนโยบายและแนวปฏิบัติที่เกี่ยวกับคณะกรรมการ (6.1.1)\\nนโยบายและแนวปฏิบัติที่เกี่ยวกับคณะกรรมการ\\nนโยบายและแนวปฏิบัติของบริษัท : การสรรหากรรมการ, การกำหนดค่าตอบแทนของกรรมการ, ความเป็นอิสระของ\\nคณะกรรมการจากฝ่ายจัดการ, การพัฒนากรรมการ, การประเมินผลการปฏิบัติหน้าที่\\nของกรรมการ, การกำกับดูแลบริษัทย่อยและบริษัทร่วม', 'ข้อมูลด้านบรรษัทภิบาลและเศรษฐกิจ\\n1 นโยบายการกำกับดูแลกิจการ\\n1.1 นโยบายและแนวปฏิบัติการกำกับดูแลกิจการ\\nนโยบายและแนวปฏิบัติการกำกับดูแลกิจการของบริษัท: มี\\nลิงก์นโยบายและแนวปฏิบัติการกำกับดูแลกิจการของบริษัท: https://www.btsgroup.co.th/u/th/2022/corporate-governance-policy-and-\\ncode-of-business-conduct\\nเอกสารนโยบายและแนวปฏิบัติการกำกับดูแลกิจการของ -\\nบริษัท (ฉบับเต็ม):\\n1.2 นโยบายและแนวปฏิบัติที่เกี่ยวกับคณะกรรมการบริษัท\\nนโยบายและแนวปฏิบัติที่เกี่ยวกับคณะกรรมการบริษัท: x การสรรหากรรมการ x การกำหนดค่าตอบแทนกรรมการ x ความเป็นอิสระของคณะ\\nกรรมการจากฝ่ายจัดการ x การพัฒนากรรมการ x การประเมินผลการปฏิบัติหน้าที่ของ\\nคณะกรรมการ x การกำกับดูแลบริษัทย่อยและบริษัทร่วม\\n1.3 จรรยาบรรณธุรกิจ\\nจรรยาบรรณธุรกิจของบริษัท: มี\\nลิงก์จรรยาบรรณธุรกิจ: https://www.btsgroup.co.th/u/th/2022/corporate-governance-policy-and-\\ncode-of-business-conduct\\nเอกสารจรรยาบรรณธุรกิจ (ฉบับเต็ม): -\\n1.4 นโยบายและแนวปฏิบัติที่เกี่ยวกับจรรยาบรรณธุรกิจ\\nนโยบายและแนวปฏิบัติที่เกี่ยวกับจรรยาบรรณธุรกิจของ x การต่อต้านทุจริตและคอร์รัปชัน x การป้องกันความขัดแย้งทางผลประโยชน์ x การ\\nบริษัท: แจ้งเบาะแสและคุ้มครองผู้ร้องเรียน x การป้องกันการใช้ข้อมูลภายในเพื่อแสวงหา\\nผลประโยชน์', 'นโยบายและภาพรวมการประกอบธุรกิจ (1.1)\\nข้อมูลทั่วไปของบริษัท (1.1.5)\\nชื่อบริษัท : บริษัท บีทีเอส กรุ๊ป โฮลดิ้งส์ จำกัด (มหาชน)\\nชื่อย่อหลักทรัพย์ : BTS\\nสถานที่ตั้งสำนักงานใหญ่ : ชั้น 14-15 อาคารทีเอสที ทาวเวอร์ เลขที่ 21 ซอยเฉยพ่วง ถนนวิภาวดี-รังสิต\\nแขวงจอมพล เขตจตุจักร\\nจังหวัด : กรุงเทพ\\nรหัสไปรษณีย์ : 10900\\nประเภทธุรกิจ : กลุ่มบริษัทที่ประกอบธุรกิจในหลากหลายอุตสาหกรรมโดยมุ่งเน้นการใช้\\nประโยชน์จากการเข้าถึงข้อมูลเครือข่ายระบบขนส่งมวลชนและสื่อโฆษณา\\nรวมทั้งการเป็นพันธมิตรทางธุรกิจกับบริษัทต่าง ๆ เพื่อเพิ่มมูลค่าทางธุรกิจแก่\\nกลุ่มบริษัทและพันธมิตรผ่านการดำเนินธุรกิจใน 3 แพลตฟอร์ม ได้แก่ MOVE MIX\\nและ MATCH\\nเลขทะเบียนบริษัท : 0107536000421\\nโทรศัพท์ : 0-2273-8511-5\\nเว็บไซต์บริษัท : http://www.btsgroup.co.th\\nอีเมล : -\\nจำนวนหุ้นที่จำหน่ายได้แล้วทั้งหมด (หุ้น)\\nหุ้นสามัญ : 13,167,638,462\\nหุ้นบุริมสิทธิ : 0\\n1[END_PAGE]']\n",
      "{'question': 'การดำเนินธรุรกิจของ bts', 'input_question': 'การดำเนินธรุรกิจของ bts', 'generation': 'บริษัท บีทีเอส กรุ๊ป โฮลดิ้งส์ จำกัด (มหาชน) หรือ BTS ดำเนินธุรกิจในหลากหลายอุตสาหกรรม โดยมุ่งเน้นการใช้ประโยชน์จากการเข้าถึงข้อมูลเครือข่ายระบบขนส่งมวลชนและสื่อโฆษณา นอกจากนี้ BTS ยังเป็นพันธมิตรทางธุรกิจกับบริษัทต่าง ๆ เพื่อเพิ่มมูลค่าทางธุรกิจแก่กลุ่มบริษัทและพันธมิตร โดยดำเนินธุรกิจผ่าน 3 แพลตฟอร์มหลัก ได้แก่ MOVE, MIX, และ MATCH\\n\\n- **MOVE**: เน้นการให้บริการด้านการขนส่งมวลชน\\n- **MIX**: มุ่งเน้นการใช้สื่อโฆษณาและการตลาด\\n- **MATCH**: การสร้างพันธมิตรทางธุรกิจเพื่อเพิ่มมูลค่าทางธุรกิจ\\n\\nสำนักงานใหญ่ของ BTS ตั้งอยู่ที่ชั้น 14-15 อาคารทีเอสที ทาวเวอร์ เลขที่ 21 ซอยเฉยพ่วง ถนนวิภาวดี-รังสิต แขวงจอมพล เขตจตุจักร กรุงเทพฯ 10900', 'documents': [Document(metadata={'file_name': 'bts_56-1_2023.pdf', 'company_name': 'bts', 'file_type': '56-1', 'year': '2023', 'structured': True, 'section': 'โครงสร้างและการดำเนินงานของกลุ่มบริษัท', 'sub_section': 'นโยบายและภาพรวมการประกอบธุรกิจ (1.1)'}, page_content='นโยบายและภาพรวมการประกอบธุรกิจ (1.1)\\nข้อมูลทั่วไปของบริษัท (1.1.5)\\nชื่อบริษัท : บริษัท บีทีเอส กรุ๊ป โฮลดิ้งส์ จำกัด (มหาชน)\\nชื่อย่อหลักทรัพย์ : BTS\\nสถานที่ตั้งสำนักงานใหญ่ : ชั้น 14-15 อาคารทีเอสที ทาวเวอร์ เลขที่ 21 ซอยเฉยพ่วง ถนนวิภาวดี-รังสิต\\nแขวงจอมพล เขตจตุจักร\\nจังหวัด : กรุงเทพ\\nรหัสไปรษณีย์ : 10900\\nประเภทธุรกิจ : กลุ่มบริษัทที่ประกอบธุรกิจในหลากหลายอุตสาหกรรมโดยมุ่งเน้นการใช้\\nประโยชน์จากการเข้าถึงข้อมูลเครือข่ายระบบขนส่งมวลชนและสื่อโฆษณา\\nรวมทั้งการเป็นพันธมิตรทางธุรกิจกับบริษัทต่าง ๆ เพื่อเพิ่มมูลค่าทางธุรกิจแก่\\nกลุ่มบริษัทและพันธมิตรผ่านการดำเนินธุรกิจใน 3 แพลตฟอร์ม ได้แก่ MOVE MIX\\nและ MATCH\\nเลขทะเบียนบริษัท : 0107536000421\\nโทรศัพท์ : 0-2273-8511-5\\nเว็บไซต์บริษัท : http://www.btsgroup.co.th\\nอีเมล : -\\nจำนวนหุ้นที่จำหน่ายได้แล้วทั้งหมด (หุ้น)\\nหุ้นสามัญ : 13,167,638,462\\nหุ้นบุริมสิทธิ : 0\\n1[END_PAGE]'), Document(metadata={'file_name': 'bts_56-1_2023.pdf', 'company_name': 'bts', 'file_type': '56-1', 'year': '2023', 'structured': True, 'section': 'โครงสร้างและการดำเนินงานของกลุ่มบริษัท', 'sub_section': 'นโยบายและภาพรวมการประกอบธุรกิจ (1.1)'}, page_content='นโยบายและภาพรวมการประกอบธุรกิจ (1.1)\\nข้อมูลทั่วไปของบริษัท (1.1.5)\\nชื่อบริษัท : บริษัท บีทีเอส กรุ๊ป โฮลดิ้งส์ จำกัด (มหาชน)\\nชื่อย่อหลักทรัพย์ : BTS\\nสถานที่ตั้งสำนักงานใหญ่ : ชั้น 14-15 อาคารทีเอสที ทาวเวอร์ เลขที่ 21 ซอยเฉยพ่วง ถนนวิภาวดี-รังสิต\\nแขวงจอมพล เขตจตุจักร\\nจังหวัด : กรุงเทพ\\nรหัสไปรษณีย์ : 10900\\nประเภทธุรกิจ : กลุ่มบริษัทที่ประกอบธุรกิจในหลากหลายอุตสาหกรรมโดยมุ่งเน้นการใช้\\nประโยชน์จากการเข้าถึงข้อมูลเครือข่ายระบบขนส่งมวลชนและสื่อโฆษณา\\nรวมทั้งการเป็นพันธมิตรทางธุรกิจกับบริษัทต่าง ๆ เพื่อเพิ่มมูลค่าทางธุรกิจแก่\\nกลุ่มบริษัทและพันธมิตรผ่านการดำเนินธุรกิจใน 3 แพลตฟอร์ม ได้แก่ MOVE MIX\\nและ MATCH\\nเลขทะเบียนบริษัท : 0107536000421\\nโทรศัพท์ : 0-2273-8511-5\\nเว็บไซต์บริษัท : http://www.btsgroup.co.th\\nอีเมล : -\\nจำนวนหุ้นที่จำหน่ายได้แล้วทั้งหมด (หุ้น)\\nหุ้นสามัญ : 13,167,638,462\\nหุ้นบุริมสิทธิ : 0\\n1[END_PAGE]'), Document(metadata={'file_name': 'bts_56-1_2023.pdf', 'company_name': 'bts', 'file_type': '56-1', 'year': '2023', 'structured': True, 'section': 'โครงสร้างการกำกับดูแลกิจการ\\nและข้อมูลสำคัญเกี่ยวกับ\\nคณะกรรมการ คณะกรรมการชุดย่อย ผู้บริหาร\\nพนักงานและอื่นๆ', 'sub_section': 'ข้อมูลสำคัญอื่นๆ (7.6)'}, page_content='ข้อมูลสำคัญอื่นๆ (7.6)\\nข้อมูลสำคัญอื่นๆ\\nผู้ที่ได้รับมอบหมาย\\n• ผู้ควบคุมดูแลการทำบัญชี\\nข้อมูลทั่วไป อีเมล หมายเลขโทรศัพท์\\n1. นาง ดวงกมล ชัยชนะขจร duangkamol@btsgroup.co.th\\n• เลขานุการบริษัท\\nข้อมูลทั่วไป อีเมล หมายเลขโทรศัพท์\\n1. นางสาว ตารเกศ ถาวรพานิช taraket@btsgroup.co.th\\n• หัวหน้างานตรวจสอบภายใน\\nข้อมูลทั่วไป อีเมล หมายเลขโทรศัพท์\\n1. นาย พิภพ อินทรทัต pipop@btsgroup.co.th\\n• หัวหน้างานกำกับดูแลการปฏิบัติงานของบริษัท (Compliance)\\nข้อมูลทั่วไป อีเมล หมายเลขโทรศัพท์\\n1. n/a n/a n/a -@btsgroup.co.th -\\n27[END_PAGE]• หัวหน้างานนักลงทุนสัมพันธ์\\nข้อมูลทั่วไป อีเมล หมายเลขโทรศัพท์\\n1. นาย ดาเนียล รอสส์ daniel@btsgroup.co.th\\nผู้สอบบัญชีของบริษัท\\nรายชื่อและข้อมูลทั่วไปของ\\nบริษัท ค่าสอบบัญชี (บาท) ค่าบริการอื่นๆ (บาท)\\nผู้สอบบัญชีบริษัท\\n1. บริษัท สำนักงาน อีวาย จำกัด 1. นาย พรอนันต์ กิจนะวันชัย 32,199,000.00 รายละเอียด: การประเมิน\\nอีเมล: Pornanan. ราคาและการด้อยค่าของ\\nKitjanawanchai@th.ey.com เงินลงทุนและค่าที่ปรึกษา\\nหมายเลขโทรศัพท์: - ธุรกิจเกี่ยวกับ\\nการลงทุน\\n2. นางสาว ศิราภรณ์ เอื้ออนันต์กุล รวมค่าบริการ (บาท):\\nอีเมล: Siraporn.Ouaanunkun@th. 2,280,000.00\\ney.com\\nหมายเลขโทรศัพท์: -\\n3. นาง ชลรส สันติอัศวราภรณ์\\nอีเมล: Chonlaros.\\nSuntiasvaraporn@th.ey.com\\nหมายเลขโทรศัพท์: -\\n28[END_PAGE]'), Document(metadata={'file_name': 'bts_56-1_2023.pdf', 'company_name': 'bts', 'file_type': '56-1', 'year': '2023', 'structured': True, 'section': 'นโยบายการกำกับดูแลกิจการ', 'sub_section': 'ภาพรวมของนโยบายและแนวปฏิบัติการกำกับดูแลกิจการ (6.1)'}, page_content='ภาพรวมของนโยบายและแนวปฏิบัติการกำกับดูแลกิจการ (6.1)\\nนโยบายการกำกับดูแลกิจการ\\nนโยบายการกำกับดูแลกิจการ : มี\\nURL นโยบายการกำกับดูแลกิจการ (ถ้ามี) : https://www.btsgroup.co.th/u/th/2022/corporate-governance-policy-and-code-of-\\nbusiness-conduct\\nนโยบายและแนวปฏิบัติที่เกี่ยวกับคณะกรรมการ (6.1.1)\\nนโยบายและแนวปฏิบัติที่เกี่ยวกับคณะกรรมการ\\nนโยบายและแนวปฏิบัติของบริษัท : การสรรหากรรมการ, การกำหนดค่าตอบแทนของกรรมการ, ความเป็นอิสระของ\\nคณะกรรมการจากฝ่ายจัดการ, การพัฒนากรรมการ, การประเมินผลการปฏิบัติหน้าที่\\nของกรรมการ, การกำกับดูแลบริษัทย่อยและบริษัทร่วม'), Document(metadata={'file_name': 'bts_esg_2023.pdf', 'company_name': 'bts', 'file_type': 'esg', 'year': '2023', 'structured': True, 'section': 'ข้อมูลด้านบรรษัทภิบาลและเศรษฐกิจ'}, page_content='ข้อมูลด้านบรรษัทภิบาลและเศรษฐกิจ\\n1 นโยบายการกำกับดูแลกิจการ\\n1.1 นโยบายและแนวปฏิบัติการกำกับดูแลกิจการ\\nนโยบายและแนวปฏิบัติการกำกับดูแลกิจการของบริษัท: มี\\nลิงก์นโยบายและแนวปฏิบัติการกำกับดูแลกิจการของบริษัท: https://www.btsgroup.co.th/u/th/2022/corporate-governance-policy-and-\\ncode-of-business-conduct\\nเอกสารนโยบายและแนวปฏิบัติการกำกับดูแลกิจการของ -\\nบริษัท (ฉบับเต็ม):\\n1.2 นโยบายและแนวปฏิบัติที่เกี่ยวกับคณะกรรมการบริษัท\\nนโยบายและแนวปฏิบัติที่เกี่ยวกับคณะกรรมการบริษัท: x การสรรหากรรมการ x การกำหนดค่าตอบแทนกรรมการ x ความเป็นอิสระของคณะ\\nกรรมการจากฝ่ายจัดการ x การพัฒนากรรมการ x การประเมินผลการปฏิบัติหน้าที่ของ\\nคณะกรรมการ x การกำกับดูแลบริษัทย่อยและบริษัทร่วม\\n1.3 จรรยาบรรณธุรกิจ\\nจรรยาบรรณธุรกิจของบริษัท: มี\\nลิงก์จรรยาบรรณธุรกิจ: https://www.btsgroup.co.th/u/th/2022/corporate-governance-policy-and-\\ncode-of-business-conduct\\nเอกสารจรรยาบรรณธุรกิจ (ฉบับเต็ม): -\\n1.4 นโยบายและแนวปฏิบัติที่เกี่ยวกับจรรยาบรรณธุรกิจ\\nนโยบายและแนวปฏิบัติที่เกี่ยวกับจรรยาบรรณธุรกิจของ x การต่อต้านทุจริตและคอร์รัปชัน x การป้องกันความขัดแย้งทางผลประโยชน์ x การ\\nบริษัท: แจ้งเบาะแสและคุ้มครองผู้ร้องเรียน x การป้องกันการใช้ข้อมูลภายในเพื่อแสวงหา\\nผลประโยชน์'), Document(metadata={'file_name': 'bts_56-1_2023.pdf', 'company_name': 'bts', 'file_type': '56-1', 'year': '2023', 'structured': True, 'section': 'โครงสร้างและการดำเนินงานของกลุ่มบริษัท', 'sub_section': 'นโยบายและภาพรวมการประกอบธุรกิจ (1.1)'}, page_content='นโยบายและภาพรวมการประกอบธุรกิจ (1.1)\\nข้อมูลทั่วไปของบริษัท (1.1.5)\\nชื่อบริษัท : บริษัท บีทีเอส กรุ๊ป โฮลดิ้งส์ จำกัด (มหาชน)\\nชื่อย่อหลักทรัพย์ : BTS\\nสถานที่ตั้งสำนักงานใหญ่ : ชั้น 14-15 อาคารทีเอสที ทาวเวอร์ เลขที่ 21 ซอยเฉยพ่วง ถนนวิภาวดี-รังสิต\\nแขวงจอมพล เขตจตุจักร\\nจังหวัด : กรุงเทพ\\nรหัสไปรษณีย์ : 10900\\nประเภทธุรกิจ : กลุ่มบริษัทที่ประกอบธุรกิจในหลากหลายอุตสาหกรรมโดยมุ่งเน้นการใช้\\nประโยชน์จากการเข้าถึงข้อมูลเครือข่ายระบบขนส่งมวลชนและสื่อโฆษณา\\nรวมทั้งการเป็นพันธมิตรทางธุรกิจกับบริษัทต่าง ๆ เพื่อเพิ่มมูลค่าทางธุรกิจแก่\\nกลุ่มบริษัทและพันธมิตรผ่านการดำเนินธุรกิจใน 3 แพลตฟอร์ม ได้แก่ MOVE MIX\\nและ MATCH\\nเลขทะเบียนบริษัท : 0107536000421\\nโทรศัพท์ : 0-2273-8511-5\\nเว็บไซต์บริษัท : http://www.btsgroup.co.th\\nอีเมล : -\\nจำนวนหุ้นที่จำหน่ายได้แล้วทั้งหมด (หุ้น)\\nหุ้นสามัญ : 13,167,638,462\\nหุ้นบุริมสิทธิ : 0\\n1[END_PAGE]')], 'session_id': '', 'counter': 0}\n"
     ]
    }
   ],
   "source": [
    "contexts = []\n",
    "answers = []\n",
    "for i in range(0, len(questions)):\n",
    "    answer = app.invoke({\"question\": questions[i], \"session_id\": \"\"})\n",
    "    answers.append(answer[\"generation\"])\n",
    "    print(\"dsdsdfsfs\", [c.page_content for c in answer['documents']])\n",
    "    contexts.append([c.page_content for c in answer['documents']])\n",
    "    print(answer)"
   ]
  },
  {
   "cell_type": "code",
   "execution_count": 16,
   "metadata": {},
   "outputs": [
    {
     "data": {
      "text/plain": [
       "Dataset({\n",
       "    features: ['question', 'answer', 'contexts', 'ground_truth'],\n",
       "    num_rows: 3\n",
       "})"
      ]
     },
     "execution_count": 16,
     "metadata": {},
     "output_type": "execute_result"
    }
   ],
   "source": [
    "from datasets import Dataset\n",
    "\n",
    "qagc_list = []\n",
    "\n",
    "for i in range(0, len(contexts)):\n",
    "    qagc_list.append({\n",
    "        \"question\" : questions[i],\n",
    "        \"answer\" : answers[i],\n",
    "        \"contexts\" : contexts[i],\n",
    "        \"ground_truth\" : ground_truths[i]\n",
    "    })\n",
    "\n",
    "\n",
    "eval_dataset = Dataset.from_list(qagc_list)\n",
    "eval_dataset"
   ]
  },
  {
   "cell_type": "markdown",
   "metadata": {},
   "source": [
    "## Evaluation with RAGAS"
   ]
  },
  {
   "cell_type": "code",
   "execution_count": 17,
   "metadata": {},
   "outputs": [
    {
     "name": "stderr",
     "output_type": "stream",
     "text": [
      "Evaluating: 100%|██████████| 12/12 [00:26<00:00,  2.23s/it]\n"
     ]
    }
   ],
   "source": [
    "from ragas.metrics import (\n",
    "    answer_relevancy,\n",
    "    faithfulness,\n",
    "    context_recall,\n",
    "    context_precision,\n",
    ")\n",
    "\n",
    "from ragas import evaluate\n",
    "\n",
    "result = evaluate(\n",
    "    eval_dataset,\n",
    "    metrics=[\n",
    "    # retrieval\n",
    "        context_precision,\n",
    "        context_recall,\n",
    "    # generation\n",
    "        faithfulness,\n",
    "        answer_relevancy,\n",
    "    ],\n",
    ")"
   ]
  },
  {
   "cell_type": "code",
   "execution_count": 18,
   "metadata": {},
   "outputs": [
    {
     "data": {
      "text/plain": [
       "{'context_precision': 0.9444, 'context_recall': 1.0000, 'faithfulness': 0.8274, 'answer_relevancy': 0.8330}"
      ]
     },
     "execution_count": 18,
     "metadata": {},
     "output_type": "execute_result"
    }
   ],
   "source": [
    "result"
   ]
  },
  {
   "cell_type": "code",
   "execution_count": 24,
   "metadata": {},
   "outputs": [
    {
     "data": {
      "image/png": "[encoded data removed]",
      "text/plain": [
       "<Figure size 900x500 with 1 Axes>"
      ]
     },
     "metadata": {},
     "output_type": "display_data"
    }
   ],
   "source": [
    "import matplotlib.pyplot as plt\n",
    "\n",
    "metrics = [\"Average Context Precision\", \"Average Context Recall\", \"Average Faithfulness\", \"Average Answer Relevancy\"]\n",
    "values = [0.8761, 0.8941, 0.9186, 0.8731]\n",
    "\n",
    "plt.figure(figsize=(9, 5))\n",
    "bars = plt.bar(metrics, values, color=['skyblue', 'skyblue', 'salmon', 'salmon'], width=0.4)\n",
    "\n",
    "plt.ylabel(\"Score\")\n",
    "plt.xlabel(\"Evaluation Metrics\")\n",
    "plt.title(\"SRAG Evaluation\", fontsize=14)\n",
    "plt.ylim(0, 1)\n",
    "\n",
    "plt.legend(handles=[\n",
    "    plt.Rectangle((0, 0), 1, 1, color='skyblue', label=\"Retrieval\"),\n",
    "    plt.Rectangle((0, 0), 1, 1, color='salmon', label=\"Generation\")\n",
    "], loc=\"lower left\")\n",
    "\n",
    "for i, v in enumerate(values):\n",
    "    plt.text(i, v + 0.02, f\"{v:.4f}\", ha='center', fontsize=8)\n",
    "\n",
    "plt.show()"
   ]
  }
 ],
 "metadata": {
  "kernelspec": {
   "display_name": "venv",
   "language": "python",
   "name": "python3"
  },
  "language_info": {
   "codemirror_mode": {
    "name": "ipython",
    "version": 3
   },
   "file_extension": ".py",
   "mimetype": "text/x-python",
   "name": "python",
   "nbconvert_exporter": "python",
   "pygments_lexer": "ipython3",
   "version": "3.12.4"
  }
 },
 "nbformat": 4,
 "nbformat_minor": 2
}
