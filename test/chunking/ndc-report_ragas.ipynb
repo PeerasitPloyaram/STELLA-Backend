{
 "cells": [
  {
   "cell_type": "code",
   "execution_count": 1,
   "metadata": {},
   "outputs": [
    {
     "name": "stderr",
     "output_type": "stream",
     "text": [
      "/Users/peerasit/senior_project/STELLA-Backend/venv/lib/python3.12/site-packages/tqdm/auto.py:21: TqdmWarning: IProgress not found. Please update jupyter and ipywidgets. See https://ipywidgets.readthedocs.io/en/stable/user_install.html\n",
      "  from .autonotebook import tqdm as notebook_tqdm\n"
     ]
    }
   ],
   "source": [
    "from langchain_experimental.text_splitter import SemanticChunker\n",
    "from langchain_huggingface import HuggingFaceEmbeddings\n",
    "\n",
    "embedding_model = HuggingFaceEmbeddings(model_name=\"intfloat/multilingual-e5-large-instruct\")"
   ]
  },
  {
   "cell_type": "markdown",
   "metadata": {},
   "source": [
    "## Prepare PDF File"
   ]
  },
  {
   "cell_type": "code",
   "execution_count": 2,
   "metadata": {},
   "outputs": [],
   "source": [
    "import pymupdf\n",
    "from langchain_core.documents import Document\n",
    "\n",
    "doc = pymupdf.open('../../chunking/pdfs/general/Thailand_INDCs_2015.pdf')"
   ]
  },
  {
   "cell_type": "markdown",
   "metadata": {},
   "source": [
    "#### Recursive Chunking"
   ]
  },
  {
   "cell_type": "code",
   "execution_count": 3,
   "metadata": {},
   "outputs": [],
   "source": [
    "# from langchain_text_splitters import RecursiveCharacterTextSplitter\n",
    "\n",
    "# text_splitter = RecursiveCharacterTextSplitter(\n",
    "#     chunk_size=1200,\n",
    "#     chunk_overlap=100,\n",
    "#     # length_function=len,\n",
    "#     is_separator_regex=False,\n",
    "# )\n",
    "\n",
    "# text_chunks = text_splitter.create_documents([d.get_text() for d in doc])"
   ]
  },
  {
   "cell_type": "markdown",
   "metadata": {},
   "source": [
    "#### Semantic Chunking"
   ]
  },
  {
   "cell_type": "code",
   "execution_count": 44,
   "metadata": {},
   "outputs": [],
   "source": [
    "import pymupdf\n",
    "from langchain_core.documents import Document\n",
    "\n",
    "semantic_chunker = SemanticChunker(embeddings=embedding_model, breakpoint_threshold_type=\"percentile\")\n",
    "text_chunks = semantic_chunker.create_documents([d.get_text() for d in doc])"
   ]
  },
  {
   "cell_type": "markdown",
   "metadata": {},
   "source": [
    "#### Hybrid Chunking"
   ]
  },
  {
   "cell_type": "code",
   "execution_count": 45,
   "metadata": {},
   "outputs": [],
   "source": [
    "# import sys\n",
    "# sys.path.insert(0, \"/Users/peerasit/senior_project/STELLA-Backend/\")\n",
    "# from chunking.ndc_file import ndcFileChunking\n",
    "\n",
    "# text_chunks = ndcFileChunking(content=\"../../chunking/pdfs/general/Thailand_INDCs_2015.pdf\", file_name=\"Thailand_INDCs_2015.pdf\")"
   ]
  },
  {
   "cell_type": "markdown",
   "metadata": {},
   "source": [
    "## Setup STELLA CORE DB"
   ]
  },
  {
   "cell_type": "code",
   "execution_count": 46,
   "metadata": {},
   "outputs": [
    {
     "name": "stdout",
     "output_type": "stream",
     "text": [
      "[CORE] Initializing Milvus Database Core...\n",
      "[DB] init Embedding Model...\n",
      "[DB] init Embedding Model Successfully.\n",
      "[DB] Found Database: ndc_evaluate\n",
      "[DB] Found Collection \"cnode_1\".\n",
      "[DB] Drop Collection \"cnode_1\"...\n",
      "cnode_1 has: 0 entities\n",
      "[DB] Drop Collection \"cnode_1\" Successfully.\n",
      "[DB] Create Collection \"cnode_1\"\n",
      "[DB] Collection \"cnode_1\" Is Ready.\n",
      "[DB] Found Collection \"gnode_1\".\n",
      "[DB] Drop Collection \"gnode_1\"...\n",
      "gnode_1 has: 7 entities\n",
      "[DB] Drop Collection \"gnode_1\" Successfully.\n",
      "[DB] Create Collection \"gnode_1\"\n",
      "[DB] Collection \"gnode_1\" Is Ready.\n",
      "[DB] Found Collection \"frontend_query_general_documents\".\n",
      "[DB] Drop Collection \"frontend_query_general_documents\"...\n",
      "frontend_query_general_documents has: 1 entities\n",
      "[DB] Drop Collection \"frontend_query_general_documents\" Successfully.\n",
      "[DB] Create Collection \"frontend_query_general_documents\"\n",
      "[DB] Collection \"frontend_query_general_documents\" Is Ready.\n",
      "Create Schma Successfuly.\n"
     ]
    }
   ],
   "source": [
    "import sys\n",
    "sys.path.insert(0, \"/Users/peerasit/senior_project/STELLA-Backend\")\n",
    "sys.path.insert(0, \"/Users/peerasit/senior_project/STELLA-Backend/milvus\")\n",
    "\n",
    "from milvus.core import Core\n",
    "from milvus.schema import INDEX_PARAMS, DATA_SOURCE_SCHEMA\n",
    "\n",
    "core = Core(\n",
    "            database_name=\"ndc_evaluate\",\n",
    "            schema=DATA_SOURCE_SCHEMA,\n",
    "            dense_embedding_model=embedding_model,\n",
    "            create_first_node=True,\n",
    "            system_prune_first_node=True,\n",
    "            token=\"\"\n",
    "        )"
   ]
  },
  {
   "cell_type": "markdown",
   "metadata": {},
   "source": [
    "## Add Document "
   ]
  },
  {
   "cell_type": "code",
   "execution_count": 47,
   "metadata": {},
   "outputs": [
    {
     "name": "stdout",
     "output_type": "stream",
     "text": [
      "<Collection>:\n",
      "-------------\n",
      "<name>: gnode_1\n",
      "<description>: Schema for Data Source Collection\n",
      "<schema>: {'auto_id': True, 'description': 'Schema for Data Source Collection', 'fields': [{'name': 'id', 'description': '', 'type': <DataType.INT64: 5>, 'is_primary': True, 'auto_id': True}, {'name': 'dense_vector', 'description': '', 'type': <DataType.FLOAT_VECTOR: 101>, 'params': {'dim': 1024}}, {'name': 'text', 'description': '', 'type': <DataType.VARCHAR: 21>, 'params': {'max_length': 8192}}, {'name': 'metadata', 'description': '', 'type': <DataType.JSON: 23>}], 'enable_dynamic_field': True}\n",
      "\n",
      "<class 'pymilvus.orm.collection.Collection'>\n",
      "[DB] Insert Query FrontEnd Successfuly.\n",
      "[DB] Create New Partition\n",
      "[DB] Partition ndc: 16 entities\n"
     ]
    }
   ],
   "source": [
    "core.add_document(name=\"ndc\", documents=text_chunks, node_type=\"g\", description=\"National disclosure standards for financial climate, climate risk, NFCCC\")"
   ]
  },
  {
   "cell_type": "markdown",
   "metadata": {},
   "source": [
    "## Setup Retrieval DB"
   ]
  },
  {
   "cell_type": "code",
   "execution_count": 48,
   "metadata": {},
   "outputs": [
    {
     "name": "stderr",
     "output_type": "stream",
     "text": [
      "DeprecationWarning: `metadata_field` is about to be deprecated, please set `enable_dynamic_field`=True instead.\n"
     ]
    }
   ],
   "source": [
    "config ={\n",
    "    \"k\": 4,\n",
    "    \"partition_names\": [\"ndc\"],\n",
    "}\n",
    "chunk_retriver = core.initVectorStore(collection_name=\"gnode_1\", partition_names=[\"ndc\"], search_kwargs=config)"
   ]
  },
  {
   "cell_type": "code",
   "execution_count": 49,
   "metadata": {},
   "outputs": [
    {
     "data": {
      "text/plain": [
       "[Document(metadata={}, page_content=''),\n",
       " Document(metadata={}, page_content='.......................ร่าง \\n....................พิมพ์ \\n.....................ทาน \\n....................ตรวจ \\n \\n.......................ร่าง \\n....................พิมพ์ \\n.....................ทาน \\n....................ตรวจ \\n \\n \\n \\n \\nNo 1006.3/ \\n \\n \\n \\n \\nOffice of Natural Resources and \\nEnvironmental Policy and Planning \\n60/1 Soi Phibun-Wattana 7, Rama VI Rd. Samsen-Nai, Phayathai, Bangkok 10400  \\nTHAILAND \\nTel. / Fax.'),\n",
       " Document(metadata={}, page_content='‐2‐\\xa0\\n\\xa0\\n- Power Development Plan B.E. 2558–2579 (2015-2036) \\n- Thailand Smart Grid Development Master Plan B.E. 2558-\\n2579 (2015-2036) \\n- Energy Efficiency Plan B.E. 2558–2579 (2015-2036)   \\n- Alternative Energy Development Plan B.E. 2558–2579 (2015-\\n2036) \\n- Environmentally Sustainable Transport System Plan B.E.'),\n",
       " Document(metadata={}, page_content='0 2265 6690  \\n \\nOctober B.E. 2558 (2015) \\n \\nDear  Executive Secretary,  \\n \\nSubject: Thailand’s Intended Nationally Determined Contribution (INDC) \\nThe Office of Natural Resources and Environmental Policy and Planning (ONEP), \\nin its capacity as Thailand’s national focal point to the United Nations Framework Convention \\non Climate Change, is pleased to communicate Thailand’s Intended Nationally Determined \\nContribution (INDC), as attached. Please accept the assurances of my highest consideration. Yours sincerely, \\n \\n \\n \\n \\n \\n \\n \\n \\n \\n \\n \\n \\n \\n \\n \\nMs. Christiana Figueres \\nExecutive Secretary \\nUNFCCC secretariat \\nP.O. Box 260124 \\nD-53153 Bonn \\nGermany \\n')]"
      ]
     },
     "execution_count": 49,
     "metadata": {},
     "output_type": "execute_result"
    }
   ],
   "source": [
    "chunk_retriver.invoke(\"มาตราการ\")"
   ]
  },
  {
   "cell_type": "markdown",
   "metadata": {},
   "source": [
    "## Setup LLM For Generate Synthesised Data"
   ]
  },
  {
   "cell_type": "code",
   "execution_count": 50,
   "metadata": {},
   "outputs": [],
   "source": [
    "import os\n",
    "from langchain_openai import ChatOpenAI\n",
    "from dotenv import load_dotenv\n",
    "\n",
    "load_dotenv()\n",
    "\n",
    "OPENAI_API_KEY = os.environ[\"OPENAI_API_KEY\"] = os.getenv(\"OPEN_AI_API_KEY\")"
   ]
  },
  {
   "cell_type": "markdown",
   "metadata": {},
   "source": [
    "### LLM RAG"
   ]
  },
  {
   "cell_type": "code",
   "execution_count": 51,
   "metadata": {},
   "outputs": [],
   "source": [
    "from langchain_core.prompts import ChatPromptTemplate\n",
    "\n",
    "rag_template = \"\"\"\\\n",
    "Use the following context to answer the user's query. If you cannot answer, please respond with 'I don't know'.\n",
    "\n",
    "User's Query:\n",
    "{question}\n",
    "\n",
    "Context:\n",
    "{context}\n",
    "\"\"\"\n",
    "\n",
    "rag_prompt = ChatPromptTemplate.from_template(rag_template)"
   ]
  },
  {
   "cell_type": "code",
   "execution_count": 52,
   "metadata": {},
   "outputs": [],
   "source": [
    "from langchain_core.runnables import RunnablePassthrough\n",
    "from langchain_core.output_parsers import StrOutputParser\n",
    "from langchain_openai import ChatOpenAI\n",
    "\n",
    "llm = ChatOpenAI(model=\"gpt-3.5-turbo\",temperature=0, max_tokens=4096)\n",
    "\n",
    "recursive_rag_chain = (\n",
    "    {\"context\" : chunk_retriver, \"question\" : RunnablePassthrough()}\n",
    "    | rag_prompt\n",
    "    | llm\n",
    "    | StrOutputParser()\n",
    ")"
   ]
  },
  {
   "cell_type": "code",
   "execution_count": 53,
   "metadata": {},
   "outputs": [],
   "source": [
    "synthetic_data_chunks = text_chunks\n",
    "synthetic_data_chunks_size = len(synthetic_data_chunks)"
   ]
  },
  {
   "cell_type": "markdown",
   "metadata": {},
   "source": [
    "## LLM Question"
   ]
  },
  {
   "cell_type": "code",
   "execution_count": 54,
   "metadata": {},
   "outputs": [],
   "source": [
    "question_prompt = \"\"\"\\\n",
    "You are a teacher preparing a test. Please create a question that can be answered by referencing the following context.\n",
    "\n",
    "Context:\n",
    "{context}\n",
    "\"\"\"\n",
    "\n",
    "question_prompt = ChatPromptTemplate.from_template(question_prompt)\n",
    "question_chain = question_prompt | llm | StrOutputParser()"
   ]
  },
  {
   "cell_type": "markdown",
   "metadata": {},
   "source": [
    "## LLM Ground Truth"
   ]
  },
  {
   "cell_type": "code",
   "execution_count": 55,
   "metadata": {},
   "outputs": [],
   "source": [
    "ground_truth_prompt = \"\"\"\\\n",
    "Use the following context and question to answer this question using *only* the provided context.\n",
    "\n",
    "Question:\n",
    "{question}\n",
    "\n",
    "Context:\n",
    "{context}\n",
    "\"\"\"\n",
    "\n",
    "ground_truth_prompt = ChatPromptTemplate.from_template(ground_truth_prompt)\n",
    "ground_truth_chain = ground_truth_prompt | llm | StrOutputParser()"
   ]
  },
  {
   "cell_type": "markdown",
   "metadata": {},
   "source": [
    "## Create Synthesised Data"
   ]
  },
  {
   "cell_type": "code",
   "execution_count": 56,
   "metadata": {},
   "outputs": [],
   "source": [
    "questions = []\n",
    "ground_truths_recursive = []\n",
    "contexts = []\n",
    "answers = []\n",
    "\n",
    "for chunk in synthetic_data_chunks:\n",
    "    # print(chunk)\n",
    "  questions.append(question_chain.invoke({\"context\" : chunk.page_content}))\n",
    "  # contexts.append(chunk.page_content)\n",
    "  # ground_truths_recursive.append(ground_truth_chain.invoke({\"question\" : questions[-1], \"context\" : str(contexts[-1])}))\n",
    "  ground_truths_recursive.append(ground_truth_chain.invoke({\"question\" : questions[-1], \"context\" : chunk.page_content}))\n",
    "  \n",
    "\n",
    "  contexts.append([d.page_content for d in chunk_retriver.get_relevant_documents(questions[-1])])\n",
    "  answers.append(recursive_rag_chain.invoke(questions[-1]))"
   ]
  },
  {
   "cell_type": "code",
   "execution_count": 57,
   "metadata": {},
   "outputs": [],
   "source": [
    "# [d.page_content for d in chunk_retriver.get_relevant_documents(\"d\")]"
   ]
  },
  {
   "cell_type": "code",
   "execution_count": 58,
   "metadata": {},
   "outputs": [
    {
     "data": {
      "text/plain": [
       "Dataset({\n",
       "    features: ['question', 'answer', 'contexts', 'ground_truth'],\n",
       "    num_rows: 16\n",
       "})"
      ]
     },
     "execution_count": 58,
     "metadata": {},
     "output_type": "execute_result"
    }
   ],
   "source": [
    "from datasets import load_dataset, Dataset\n",
    "\n",
    "qagc_list = []\n",
    "\n",
    "for question, answer, context, ground_truth in zip(questions, answers, contexts, ground_truths_recursive):\n",
    "  # print(\"q\",question)\n",
    "  # print(\"g\",ground_truth)\n",
    "  # print(\"a\",answer)\n",
    "  # print(\"c\", context)\n",
    "  qagc_list.append({\n",
    "      \"question\" : question,\n",
    "      \"answer\" : answer,\n",
    "      \"contexts\" : context,\n",
    "      \"ground_truth\" : ground_truth\n",
    "  })\n",
    "\n",
    "eval_dataset = Dataset.from_list(qagc_list)\n",
    "eval_dataset"
   ]
  },
  {
   "cell_type": "markdown",
   "metadata": {},
   "source": [
    "## Evaluation with RAGAS"
   ]
  },
  {
   "cell_type": "code",
   "execution_count": 59,
   "metadata": {},
   "outputs": [
    {
     "name": "stderr",
     "output_type": "stream",
     "text": [
      "Evaluating: 100%|██████████| 32/32 [00:17<00:00,  1.79it/s]\n"
     ]
    },
    {
     "data": {
      "text/plain": [
       "{'context_precision': 0.8212, 'context_recall': 0.9375}"
      ]
     },
     "execution_count": 59,
     "metadata": {},
     "output_type": "execute_result"
    }
   ],
   "source": [
    "from ragas.metrics import (\n",
    "    answer_relevancy,\n",
    "    faithfulness,\n",
    "    context_recall,\n",
    "    context_precision,\n",
    ")\n",
    "\n",
    "from ragas import evaluate\n",
    "\n",
    "result = evaluate(\n",
    "    eval_dataset,\n",
    "    metrics=[\n",
    "        # retrieval\n",
    "        context_precision,\n",
    "        context_recall,\n",
    "    # generation\n",
    "        # faithfulness,\n",
    "        # answer_relevancy,\n",
    "    ],\n",
    ")\n",
    "result"
   ]
  },
  {
   "cell_type": "code",
   "execution_count": 60,
   "metadata": {},
   "outputs": [
    {
     "data": {
      "text/html": [
       "<div>\n",
       "<style scoped>\n",
       "    .dataframe tbody tr th:only-of-type {\n",
       "        vertical-align: middle;\n",
       "    }\n",
       "\n",
       "    .dataframe tbody tr th {\n",
       "        vertical-align: top;\n",
       "    }\n",
       "\n",
       "    .dataframe thead th {\n",
       "        text-align: right;\n",
       "    }\n",
       "</style>\n",
       "<table border=\"1\" class=\"dataframe\">\n",
       "  <thead>\n",
       "    <tr style=\"text-align: right;\">\n",
       "      <th></th>\n",
       "      <th>user_input</th>\n",
       "      <th>retrieved_contexts</th>\n",
       "      <th>response</th>\n",
       "      <th>reference</th>\n",
       "      <th>context_precision</th>\n",
       "      <th>context_recall</th>\n",
       "    </tr>\n",
       "  </thead>\n",
       "  <tbody>\n",
       "    <tr>\n",
       "      <th>0</th>\n",
       "      <td>Question: What is the address of the Office of...</td>\n",
       "      <td>[.......................ร่าง \\n..................</td>\n",
       "      <td>Address of the Office of Natural Resources and...</td>\n",
       "      <td>The address of the Office of Natural Resources...</td>\n",
       "      <td>1.000000</td>\n",
       "      <td>1.0</td>\n",
       "    </tr>\n",
       "    <tr>\n",
       "      <th>1</th>\n",
       "      <td>Question: Who is the Executive Secretary of th...</td>\n",
       "      <td>[0 2265 6690  \\n \\nOctober B.E. 2558 (2015) \\n...</td>\n",
       "      <td>Answer: Ms. Christiana Figueres is the Executi...</td>\n",
       "      <td>Ms. Christiana Figueres</td>\n",
       "      <td>1.000000</td>\n",
       "      <td>1.0</td>\n",
       "    </tr>\n",
       "    <tr>\n",
       "      <th>2</th>\n",
       "      <td>Question:\\nWhat is Thailand's intended target ...</td>\n",
       "      <td>[‐1‐ \\n \\nSubmission by Thailand \\nIntended Na...</td>\n",
       "      <td>Thailand's intended target for reducing greenh...</td>\n",
       "      <td>Thailand's intended target for reducing greenh...</td>\n",
       "      <td>1.000000</td>\n",
       "      <td>1.0</td>\n",
       "    </tr>\n",
       "    <tr>\n",
       "      <th>3</th>\n",
       "      <td>Question: What plans were already approved or ...</td>\n",
       "      <td>[In addition, three \\nnational consultations w...</td>\n",
       "      <td>The plans already approved or in the pipeline ...</td>\n",
       "      <td>The plans already approved or in the pipeline ...</td>\n",
       "      <td>1.000000</td>\n",
       "      <td>1.0</td>\n",
       "    </tr>\n",
       "    <tr>\n",
       "      <th>4</th>\n",
       "      <td>Question: In what years do the Power Developme...</td>\n",
       "      <td>[‐2‐ \\n \\n- Power Development Plan B.E. 2558–2...</td>\n",
       "      <td>The Power Development Plan, Smart Grid Develop...</td>\n",
       "      <td>2558-2579 (2015-2036)</td>\n",
       "      <td>0.805556</td>\n",
       "      <td>1.0</td>\n",
       "    </tr>\n",
       "    <tr>\n",
       "      <th>5</th>\n",
       "      <td>Question:\\nWhat percentage of global greenhous...</td>\n",
       "      <td>[2556–2573 (2013-2030) \\n- National Industrial...</td>\n",
       "      <td>Thailand represented 0.84% of global greenhous...</td>\n",
       "      <td>Thailand represented 0.84% of global greenhous...</td>\n",
       "      <td>1.000000</td>\n",
       "      <td>1.0</td>\n",
       "    </tr>\n",
       "    <tr>\n",
       "      <th>6</th>\n",
       "      <td>Question: What percentage of electricity in Th...</td>\n",
       "      <td>[‐3‐ \\n \\n❑ Thailand has taken early actions i...</td>\n",
       "      <td>72%</td>\n",
       "      <td>72%</td>\n",
       "      <td>1.000000</td>\n",
       "      <td>1.0</td>\n",
       "    </tr>\n",
       "    <tr>\n",
       "      <th>7</th>\n",
       "      <td>Question:\\nWhat is the goal of the EEP in term...</td>\n",
       "      <td>[‐2‐ \\n \\n- Power Development Plan B.E. 2558–2...</td>\n",
       "      <td>The goal of the Energy Efficiency Plan (EEP) i...</td>\n",
       "      <td>The goal of the EEP in terms of reducing the c...</td>\n",
       "      <td>0.333333</td>\n",
       "      <td>1.0</td>\n",
       "    </tr>\n",
       "    <tr>\n",
       "      <th>8</th>\n",
       "      <td>Question: What are some of the major barriers ...</td>\n",
       "      <td>[❑ Major barriers to successful implementation...</td>\n",
       "      <td>Some of the major barriers to successful imple...</td>\n",
       "      <td>Some of the major barriers to successful imple...</td>\n",
       "      <td>0.750000</td>\n",
       "      <td>1.0</td>\n",
       "    </tr>\n",
       "    <tr>\n",
       "      <th>9</th>\n",
       "      <td>Question:\\nAccording to the context, what are ...</td>\n",
       "      <td>[‐4‐ \\n \\nshare technology knowledge to enable...</td>\n",
       "      <td>Some of the challenges faced by Thailand in re...</td>\n",
       "      <td>Some of the challenges faced by Thailand in re...</td>\n",
       "      <td>1.000000</td>\n",
       "      <td>1.0</td>\n",
       "    </tr>\n",
       "    <tr>\n",
       "      <th>10</th>\n",
       "      <td>Question: What is the guiding principle of Tha...</td>\n",
       "      <td>[‐5‐ \\n \\ntheories and methodologies for plann...</td>\n",
       "      <td>The guiding principle of Thailand's national r...</td>\n",
       "      <td>The guiding principle of Thailand's national r...</td>\n",
       "      <td>1.000000</td>\n",
       "      <td>1.0</td>\n",
       "    </tr>\n",
       "    <tr>\n",
       "      <th>11</th>\n",
       "      <td>In the novel \"To Kill a Mockingbird\" by Harper...</td>\n",
       "      <td>[, 0 2265 6690  \\n \\nOctober B.E. 2558 (2015) ...</td>\n",
       "      <td>I don't know.</td>\n",
       "      <td>Atticus Finch's two children in the novel \"To ...</td>\n",
       "      <td>0.000000</td>\n",
       "      <td>0.0</td>\n",
       "    </tr>\n",
       "    <tr>\n",
       "      <th>12</th>\n",
       "      <td>Question: According to the context, what are s...</td>\n",
       "      <td>[‐5‐ \\n \\ntheories and methodologies for plann...</td>\n",
       "      <td>Thailand's prioritized adaptation efforts to e...</td>\n",
       "      <td>According to the context, some of Thailand's p...</td>\n",
       "      <td>0.750000</td>\n",
       "      <td>1.0</td>\n",
       "    </tr>\n",
       "    <tr>\n",
       "      <th>13</th>\n",
       "      <td>Question: What is necessary for effective impl...</td>\n",
       "      <td>[This requires cautious application of local w...</td>\n",
       "      <td>To effectively implement adaptation efforts to...</td>\n",
       "      <td>necessary for effective implementation of adap...</td>\n",
       "      <td>1.000000</td>\n",
       "      <td>1.0</td>\n",
       "    </tr>\n",
       "    <tr>\n",
       "      <th>14</th>\n",
       "      <td>Question: According to the context, what are t...</td>\n",
       "      <td>[‐6‐ \\n \\nextremely important and can lead to ...</td>\n",
       "      <td>The three highly impacted sectors in Thailand ...</td>\n",
       "      <td>The three highly impacted sectors in Thailand ...</td>\n",
       "      <td>1.000000</td>\n",
       "      <td>1.0</td>\n",
       "    </tr>\n",
       "    <tr>\n",
       "      <th>15</th>\n",
       "      <td>Question: What is the vision laid out in the C...</td>\n",
       "      <td>[‐2‐ \\n \\n- Power Development Plan B.E. 2558–2...</td>\n",
       "      <td>The vision laid out in the Climate Change Mast...</td>\n",
       "      <td>The vision laid out in the Climate Change Mast...</td>\n",
       "      <td>0.500000</td>\n",
       "      <td>1.0</td>\n",
       "    </tr>\n",
       "  </tbody>\n",
       "</table>\n",
       "</div>"
      ],
      "text/plain": [
       "                                           user_input  \\\n",
       "0   Question: What is the address of the Office of...   \n",
       "1   Question: Who is the Executive Secretary of th...   \n",
       "2   Question:\\nWhat is Thailand's intended target ...   \n",
       "3   Question: What plans were already approved or ...   \n",
       "4   Question: In what years do the Power Developme...   \n",
       "5   Question:\\nWhat percentage of global greenhous...   \n",
       "6   Question: What percentage of electricity in Th...   \n",
       "7   Question:\\nWhat is the goal of the EEP in term...   \n",
       "8   Question: What are some of the major barriers ...   \n",
       "9   Question:\\nAccording to the context, what are ...   \n",
       "10  Question: What is the guiding principle of Tha...   \n",
       "11  In the novel \"To Kill a Mockingbird\" by Harper...   \n",
       "12  Question: According to the context, what are s...   \n",
       "13  Question: What is necessary for effective impl...   \n",
       "14  Question: According to the context, what are t...   \n",
       "15  Question: What is the vision laid out in the C...   \n",
       "\n",
       "                                   retrieved_contexts  \\\n",
       "0   [.......................ร่าง \\n..................   \n",
       "1   [0 2265 6690  \\n \\nOctober B.E. 2558 (2015) \\n...   \n",
       "2   [‐1‐ \\n \\nSubmission by Thailand \\nIntended Na...   \n",
       "3   [In addition, three \\nnational consultations w...   \n",
       "4   [‐2‐ \\n \\n- Power Development Plan B.E. 2558–2...   \n",
       "5   [2556–2573 (2013-2030) \\n- National Industrial...   \n",
       "6   [‐3‐ \\n \\n❑ Thailand has taken early actions i...   \n",
       "7   [‐2‐ \\n \\n- Power Development Plan B.E. 2558–2...   \n",
       "8   [❑ Major barriers to successful implementation...   \n",
       "9   [‐4‐ \\n \\nshare technology knowledge to enable...   \n",
       "10  [‐5‐ \\n \\ntheories and methodologies for plann...   \n",
       "11  [, 0 2265 6690  \\n \\nOctober B.E. 2558 (2015) ...   \n",
       "12  [‐5‐ \\n \\ntheories and methodologies for plann...   \n",
       "13  [This requires cautious application of local w...   \n",
       "14  [‐6‐ \\n \\nextremely important and can lead to ...   \n",
       "15  [‐2‐ \\n \\n- Power Development Plan B.E. 2558–2...   \n",
       "\n",
       "                                             response  \\\n",
       "0   Address of the Office of Natural Resources and...   \n",
       "1   Answer: Ms. Christiana Figueres is the Executi...   \n",
       "2   Thailand's intended target for reducing greenh...   \n",
       "3   The plans already approved or in the pipeline ...   \n",
       "4   The Power Development Plan, Smart Grid Develop...   \n",
       "5   Thailand represented 0.84% of global greenhous...   \n",
       "6                                                 72%   \n",
       "7   The goal of the Energy Efficiency Plan (EEP) i...   \n",
       "8   Some of the major barriers to successful imple...   \n",
       "9   Some of the challenges faced by Thailand in re...   \n",
       "10  The guiding principle of Thailand's national r...   \n",
       "11                                      I don't know.   \n",
       "12  Thailand's prioritized adaptation efforts to e...   \n",
       "13  To effectively implement adaptation efforts to...   \n",
       "14  The three highly impacted sectors in Thailand ...   \n",
       "15  The vision laid out in the Climate Change Mast...   \n",
       "\n",
       "                                            reference  context_precision  \\\n",
       "0   The address of the Office of Natural Resources...           1.000000   \n",
       "1                             Ms. Christiana Figueres           1.000000   \n",
       "2   Thailand's intended target for reducing greenh...           1.000000   \n",
       "3   The plans already approved or in the pipeline ...           1.000000   \n",
       "4                               2558-2579 (2015-2036)           0.805556   \n",
       "5   Thailand represented 0.84% of global greenhous...           1.000000   \n",
       "6                                                 72%           1.000000   \n",
       "7   The goal of the EEP in terms of reducing the c...           0.333333   \n",
       "8   Some of the major barriers to successful imple...           0.750000   \n",
       "9   Some of the challenges faced by Thailand in re...           1.000000   \n",
       "10  The guiding principle of Thailand's national r...           1.000000   \n",
       "11  Atticus Finch's two children in the novel \"To ...           0.000000   \n",
       "12  According to the context, some of Thailand's p...           0.750000   \n",
       "13  necessary for effective implementation of adap...           1.000000   \n",
       "14  The three highly impacted sectors in Thailand ...           1.000000   \n",
       "15  The vision laid out in the Climate Change Mast...           0.500000   \n",
       "\n",
       "    context_recall  \n",
       "0              1.0  \n",
       "1              1.0  \n",
       "2              1.0  \n",
       "3              1.0  \n",
       "4              1.0  \n",
       "5              1.0  \n",
       "6              1.0  \n",
       "7              1.0  \n",
       "8              1.0  \n",
       "9              1.0  \n",
       "10             1.0  \n",
       "11             0.0  \n",
       "12             1.0  \n",
       "13             1.0  \n",
       "14             1.0  \n",
       "15             1.0  "
      ]
     },
     "execution_count": 60,
     "metadata": {},
     "output_type": "execute_result"
    }
   ],
   "source": [
    "results_df = result.to_pandas()\n",
    "results_df"
   ]
  },
  {
   "cell_type": "code",
   "execution_count": 61,
   "metadata": {},
   "outputs": [],
   "source": [
    "# for i in results_df[\"retrieved_contexts\"]:\n",
    "#     print(len(i))"
   ]
  },
  {
   "cell_type": "code",
   "execution_count": 62,
   "metadata": {},
   "outputs": [
    {
     "data": {
      "text/plain": [
       "0.8211805554908564"
      ]
     },
     "execution_count": 62,
     "metadata": {},
     "output_type": "execute_result"
    }
   ],
   "source": [
    "results_df['context_precision'].mean()"
   ]
  },
  {
   "cell_type": "code",
   "execution_count": 63,
   "metadata": {},
   "outputs": [
    {
     "data": {
      "text/plain": [
       "0.8211805554908564"
      ]
     },
     "execution_count": 63,
     "metadata": {},
     "output_type": "execute_result"
    }
   ],
   "source": [
    "results_df['context_precision'].mean()"
   ]
  }
 ],
 "metadata": {
  "kernelspec": {
   "display_name": "venv",
   "language": "python",
   "name": "python3"
  },
  "language_info": {
   "codemirror_mode": {
    "name": "ipython",
    "version": 3
   },
   "file_extension": ".py",
   "mimetype": "text/x-python",
   "name": "python",
   "nbconvert_exporter": "python",
   "pygments_lexer": "ipython3",
   "version": "3.12.4"
  }
 },
 "nbformat": 4,
 "nbformat_minor": 2
}
