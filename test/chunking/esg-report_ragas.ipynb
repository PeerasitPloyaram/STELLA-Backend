{
 "cells": [
  {
   "cell_type": "code",
   "execution_count": 1,
   "metadata": {},
   "outputs": [
    {
     "name": "stderr",
     "output_type": "stream",
     "text": [
      "/Users/peerasit/senior_project/STELLA-Backend/venv/lib/python3.12/site-packages/tqdm/auto.py:21: TqdmWarning: IProgress not found. Please update jupyter and ipywidgets. See https://ipywidgets.readthedocs.io/en/stable/user_install.html\n",
      "  from .autonotebook import tqdm as notebook_tqdm\n"
     ]
    }
   ],
   "source": [
    "from langchain_experimental.text_splitter import SemanticChunker\n",
    "from langchain_huggingface import HuggingFaceEmbeddings\n",
    "\n",
    "embedding_model = HuggingFaceEmbeddings(model_name=\"intfloat/multilingual-e5-large-instruct\")"
   ]
  },
  {
   "cell_type": "markdown",
   "metadata": {},
   "source": [
    "## Prepare PDF File"
   ]
  },
  {
   "cell_type": "code",
   "execution_count": 48,
   "metadata": {},
   "outputs": [],
   "source": [
    "# # import pymupdf\n",
    "# # from langchain_core.documents import Document\n",
    "# # doc = pymupdf.open('../../chunking/pdfs/bts_esg_2023.pdf')\n",
    "\n",
    "# # import sys\n",
    "# # # sys.path.insert(0, \"/Users/peerasit/senior_project/STELLA-Backend\")\n",
    "# # from chunking.esg_file import extractAll\n",
    "# # doc = extractAll(file_name=\"../../chunking/pdfs/bts_esg_2023.pdf\")\n",
    "\n",
    "import pdfplumber\n",
    "\n",
    "doc = []\n",
    "with pdfplumber.open(\"../../chunking/pdfs/bts_esg_2023.pdf\") as pdf:\n",
    "    page_size = len(pdf.pages)\n",
    "    doc = [i.extract_text() for i in pdf.pages]"
   ]
  },
  {
   "cell_type": "markdown",
   "metadata": {},
   "source": [
    "#### Recursive Chunking"
   ]
  },
  {
   "cell_type": "code",
   "execution_count": 52,
   "metadata": {},
   "outputs": [],
   "source": [
    "from langchain_text_splitters import RecursiveCharacterTextSplitter\n",
    "\n",
    "text_splitter = RecursiveCharacterTextSplitter(\n",
    "    chunk_size=1200,\n",
    "    chunk_overlap=500,\n",
    "    # length_function=len,\n",
    "    is_separator_regex=False,\n",
    ")\n",
    "\n",
    "text_chunks = text_splitter.create_documents(doc)\n",
    "# text_chunks = text_splitter.create_documents([d.get_text() for d in doc])"
   ]
  },
  {
   "cell_type": "code",
   "execution_count": 53,
   "metadata": {},
   "outputs": [],
   "source": [
    "# len(text_chunks)"
   ]
  },
  {
   "cell_type": "markdown",
   "metadata": {},
   "source": [
    "#### Semantic Chunking"
   ]
  },
  {
   "cell_type": "code",
   "execution_count": 54,
   "metadata": {},
   "outputs": [],
   "source": [
    "# import pymupdf\n",
    "# from langchain_core.documents import Document\n",
    "\n",
    "# semantic_chunker = SemanticChunker(embeddings=embedding_model, breakpoint_threshold_type=\"percentile\")\n",
    "# # text_chunks = semantic_chunker.create_documents([d.get_text() for d in doc])\n",
    "# text_chunks = semantic_chunker.create_documents(doc)"
   ]
  },
  {
   "cell_type": "markdown",
   "metadata": {},
   "source": [
    "#### Hybrid Chunking"
   ]
  },
  {
   "cell_type": "code",
   "execution_count": 55,
   "metadata": {},
   "outputs": [],
   "source": [
    "# import sys\n",
    "# sys.path.insert(0, \"/Users/peerasit/senior_project/STELLA-Backend/\")\n",
    "# from  chunking.esg_file import esgFileChunking\n",
    "# text_chunks = (esgFileChunking(file_path=\"../../chunking/pdfs/bts_esg_2023.pdf\"))\n",
    "# # from chunking.ndc_file import ndcFileChunking\n",
    "\n",
    "# # text_chunks = ndcFileChunking(content=\"../../chunking/pdfs/general/Thailand_INDCs_2015.pdf\", file_name=\"Thailand_INDCs_2015.pdf\")"
   ]
  },
  {
   "cell_type": "markdown",
   "metadata": {},
   "source": [
    "## Setup STELLA CORE DB"
   ]
  },
  {
   "cell_type": "code",
   "execution_count": 56,
   "metadata": {},
   "outputs": [
    {
     "name": "stdout",
     "output_type": "stream",
     "text": [
      "[CORE] Initializing Milvus Database Core...\n",
      "[DB] init Embedding Model...\n",
      "[DB] init Embedding Model Successfully.\n",
      "[DB] Found Database: esg_evaluate\n",
      "[DB] Found Collection \"cnode_1\".\n",
      "[DB] Drop Collection \"cnode_1\"...\n",
      "cnode_1 has: 0 entities\n",
      "[DB] Drop Collection \"cnode_1\" Successfully.\n",
      "[DB] Create Collection \"cnode_1\"\n",
      "[DB] Collection \"cnode_1\" Is Ready.\n",
      "[DB] Found Collection \"gnode_1\".\n",
      "[DB] Drop Collection \"gnode_1\"...\n",
      "gnode_1 has: 69 entities\n",
      "[DB] Drop Collection \"gnode_1\" Successfully.\n",
      "[DB] Create Collection \"gnode_1\"\n",
      "[DB] Collection \"gnode_1\" Is Ready.\n",
      "[DB] Found Collection \"frontend_query_general_documents\".\n",
      "[DB] Drop Collection \"frontend_query_general_documents\"...\n",
      "frontend_query_general_documents has: 1 entities\n",
      "[DB] Drop Collection \"frontend_query_general_documents\" Successfully.\n",
      "[DB] Create Collection \"frontend_query_general_documents\"\n",
      "[DB] Collection \"frontend_query_general_documents\" Is Ready.\n",
      "Create Schma Successfuly.\n"
     ]
    }
   ],
   "source": [
    "import sys\n",
    "sys.path.insert(0, \"/Users/peerasit/senior_project/STELLA-Backend\")\n",
    "sys.path.insert(0, \"/Users/peerasit/senior_project/STELLA-Backend/milvus\")\n",
    "\n",
    "from milvus.core import Core\n",
    "from milvus.schema import INDEX_PARAMS, DATA_SOURCE_SCHEMA\n",
    "\n",
    "core = Core(\n",
    "            database_name=\"esg_evaluate\",\n",
    "            schema=DATA_SOURCE_SCHEMA,\n",
    "            dense_embedding_model=embedding_model,\n",
    "            create_first_node=True,\n",
    "            system_prune_first_node=True,\n",
    "            token=\"\"\n",
    "        )"
   ]
  },
  {
   "cell_type": "markdown",
   "metadata": {},
   "source": [
    "## Add Document "
   ]
  },
  {
   "cell_type": "code",
   "execution_count": 57,
   "metadata": {},
   "outputs": [
    {
     "name": "stdout",
     "output_type": "stream",
     "text": [
      "<Collection>:\n",
      "-------------\n",
      "<name>: gnode_1\n",
      "<description>: Schema for Data Source Collection\n",
      "<schema>: {'auto_id': True, 'description': 'Schema for Data Source Collection', 'fields': [{'name': 'id', 'description': '', 'type': <DataType.INT64: 5>, 'is_primary': True, 'auto_id': True}, {'name': 'dense_vector', 'description': '', 'type': <DataType.FLOAT_VECTOR: 101>, 'params': {'dim': 1024}}, {'name': 'text', 'description': '', 'type': <DataType.VARCHAR: 21>, 'params': {'max_length': 8192}}, {'name': 'metadata', 'description': '', 'type': <DataType.JSON: 23>}], 'enable_dynamic_field': True}\n",
      "\n",
      "<class 'pymilvus.orm.collection.Collection'>\n",
      "[DB] Insert Query FrontEnd Successfuly.\n",
      "[DB] Create New Partition\n",
      "[DB] Partition esg: 71 entities\n"
     ]
    }
   ],
   "source": [
    "core.add_document(name=\"esg\", documents=text_chunks, node_type=\"g\", description=\"this is esg file\")"
   ]
  },
  {
   "cell_type": "markdown",
   "metadata": {},
   "source": [
    "## Setup Retrieval DB"
   ]
  },
  {
   "cell_type": "code",
   "execution_count": 58,
   "metadata": {},
   "outputs": [
    {
     "name": "stderr",
     "output_type": "stream",
     "text": [
      "DeprecationWarning: `metadata_field` is about to be deprecated, please set `enable_dynamic_field`=True instead.\n"
     ]
    }
   ],
   "source": [
    "config ={\n",
    "    \"k\": 4,\n",
    "    \"partition_names\": [\"esg\"],\n",
    "}\n",
    "chunk_retriver = core.initVectorStore(collection_name=\"gnode_1\", partition_names=[\"esg\"], search_kwargs=config)"
   ]
  },
  {
   "cell_type": "code",
   "execution_count": 59,
   "metadata": {},
   "outputs": [
    {
     "data": {
      "text/plain": [
       "[Document(metadata={}, page_content='3.1 ขอบเขตการเปิดเผยการจัดการน้ำ\\nประจำปี\\nรายละเอียด\\n2565 2566\\nประเภทขอบเขต บริษัท -\\nจำนวนขอบเขตทั้งหมด - -\\nจำนวนที่เปิดเผย - -\\n3.2 ปริมาณการใช้น้ำของบริษัท จำแนกตามแหล่งน้ำ\\nประจำปี\\nรายละเอียด หน่วย\\n2564 2565 2566\\nเป้าหมายของปริมาณการใช้น้ำ ลูกบาศก์เมตร 220,000.00 220,000.00 -\\nปริมาณการใช้น้ำรวม ลูกบาศก์เมตร 208,800.00 199,500.00 -\\nปริมาณการใช้น้ำประปาหรือน้ำจากองค์กรอื่น ลูกบาศก์เมตร 208,800.00 199,500.00 -\\nปริมาณการใช้น้ำผิวดิน ลูกบาศก์เมตร - - -\\nปริมาณการใช้น้ำบาดาล ลูกบาศก์เมตร - - -\\nปริมาณการใช้น้ำทะเล ลูกบาศก์เมตร - - -\\nปริมาณการใช้น้ำจากกระบวนการผลิต ลูกบาศก์เมตร - - -\\nผลต่างระหว่างปริมาณการใช้น้ำรวมเทียบกับเป้าหมาย(*) ลูกบาศก์เมตร -11,200.00 -20,500.00 -\\nร้อยละของผลต่างระหว่างปริมาณการใช้น้ำรวมเทียบกับ\\n% -5.09 -9.32 -\\nเป้าหมาย(*)\\nลูกบาศก์เมตร /\\nอัตราส่วนปริมาณการใช้น้ำรวมต่อจำนวนพนักงานรวม 38.98 33.93 -\\nคน /\\nปี\\nลูกบาศก์เมตร /\\nอัตราส่วนปริมาณการใช้น้ำรวมต่อรายได้รวม(**) - - -\\nราย\\nได้พันบาท\\nคำอธิบายเพิ่มเติม:\\n(*) ผลต่างเป็นลบ หมายถึง ปริมาณการใช้น้ำรวมต่ำกว่าเป้าหมายที่กำหนดไว้ และหากผลต่างเป็นบวก หมายถึง ปริมาณการใช้น้ำรวมสูงกว่าเป้าหมายที่กำหนดไว้\\n(**) รายได้รวมและค่าใช้จ่ายรวมจากงบการเงินรวม'),\n",
       " Document(metadata={}, page_content='4 การจัดการขยะและของเสีย\\n4.1 ขอบเขตการเปิดเผยการจัดการขยะและของเสีย\\nประจำปี\\nรายละเอียด\\n2565 2566\\nประเภทขอบเขต บริษัท -\\nจำนวนขอบเขตทั้งหมด - -\\nจำนวนที่เปิดเผย - -\\n4.2 ปริมาณขยะและของเสียของบริษัท(*)\\nประจำปี\\nรายละเอียด หน่วย\\n2564 2565 2566\\nปริมาณขยะและของเสียรวม กิโลกรัม 598,320.00 815,550.00 -\\nปริมาณขยะและของเสียไม่อันตราย กิโลกรัม 503,230.00 659,320.00 -\\nปริมาณขยะและของเสียอันตราย กิโลกรัม 95,090.00 156,230.00 -\\nกิโลกรัม /\\nอัตราส่วนปริมาณขยะและของเสียรวมต่อรายได้รวม(**) - - -\\nรายได้พัน\\nบาท\\nอัตราส่วนปริมาณขยะและของเสียไม่อันตรายรวมต่อ กิโลกรัม /\\n- - -\\nรายได้รวม(**) รายได้พัน\\nบาท\\nอัตราส่วนปริมาณขยะและของเสียอันตรายรวมต่อราย กิโลกรัม /\\n- - -\\nได้รวม(**) รายได้พัน\\nบาท\\nคำอธิบายเพิ่มเติม:\\n(*) ไม่รวมปริมาณขยะและของเสียที่เกิดจากกิจกรรมภายนอกองค์กรซึ่งองค์กรไม่ได้เป็นผู้รับผิดชอบค่าใช้จ่าย\\n(**) รายได้รวมและค่าใช้จ่ายรวมจากงบการเงินรวม\\n4.3 ปริมาณขยะและของเสียที่นำไป Reuse/Recycle ของบริษัท\\nประจำปี\\nรายละเอียด หน่วย\\n2564 2565 2566\\nปริมาณขยะและของเสียที่นำไปใช้ซ้ำ (Reuse) / รีไซเคิล\\nกิโลกรัม 36,610.00 87,480.00 -\\n(Recycle) รวม\\nปริมาณขยะและของเสียไม่อันตรายที่นำไปใช้ซ้ำ (Reuse)\\nกิโลกรัม 33,960.00 53,790.00 -\\n/ รีไซเคิล (Recycle)\\nปริมาณขยะและของเสียอันตรายที่นำไปใช้ซ้ำ (Reuse) / รี'),\n",
       " Document(metadata={}, page_content='2.4 การพัฒนาพนักงาน\\n2.4.1 ชั่วโมงอบรมความรู้เฉลี่ยของพนักงาน\\nประจำปี\\nรายละเอียด หน่วย\\n2564 2565 2566\\nจำนวนชั่วโมงอบรมความรู้เฉลี่ยของพนักงาน ชั่วโมง / คน / ปี 125.75 34.27 -\\n2.4.2 ค่าใช้จ่ายในการอบรมความรู้และพัฒนาพนักงาน\\nประจำปี\\nรายละเอียด หน่วย\\n2564 2565 2566\\nค่าใช้จ่ายในการฝึกอบรมและพัฒนาพนักงาน บาท 15,960,000.00 6,223,193.70 -\\n2.5 ความปลอดภัย อาชีวอนามัย และสภาพแวดล้อมในการทำงานของพนักงาน\\n2.5.1 จำนวนชั่วโมงการทำงาน\\nประจำปี\\nรายละเอียด หน่วย\\n2564 2565 2566\\nจำนวนชั่วโมงการทำงานรวมของพนักงานรวม ชั่วโมง 7,333,627.00 7,948,816.00 -\\n2.5.2 สถิติการบาดเจ็บหรืออุบัติเหตุจากการทำงาน\\nประจำปี\\nรายละเอียด หน่วย\\n2564 2565 2566\\nจำนวนเหตุการณ์บาดเจ็บหรืออุบัติเหตุจากการทำงานของ\\nครั้ง 3.00 3.00 -\\nพนักงานจนถึงขั้นหยุดงาน\\nจำนวนพนักงานที่ได้รับบาดเจ็บจากการทำงานถึงขั้นหยุด\\nคน 2 3 -\\nงานตั้งแต่ 1 วันขึ้นไป\\nร้อยละของจำนวนพนักงานที่ได้รับบาดเจ็บจากการทำงาน\\n% 0.04 0.05 -\\nถึงขั้นหยุดงานตั้งแต่ 1 วันขึ้นไป\\nจำนวนพนักงานที่เสียชีวิตจากการทำงาน คน 0 0 -\\nร้อยละของจำนวนพนักงานที่เสียชีวิตจากการทำงาน % 0.00 0.00 -'),\n",
       " Document(metadata={}, page_content='3.3 ปริมาณน้ำทิ้งของบริษัท จำแนกตามแหล่งปล่อย\\nประจำปี\\nรายละเอียด หน่วย\\n2564 2565 2566\\nปริมาณน้ำทิ้งรวม ลูกบาศก์เมตร 0.00 0.00 -\\nปริมาณน้ำทิ้งที่ปล่อยสู่องค์กรอื่น ลูกบาศก์เมตร - - -\\nปริมาณน้ำทิ้งที่ปล่อยสู่แหล่งน้ำผิวดิน ลูกบาศก์เมตร - - -\\nปริมาณน้ำทิ้งที่ปล่อยสู่แหล่งน้ำบาดาล ลูกบาศก์เมตร - - -\\nปริมาณน้ำทิ้งที่ปล่อยสู่ทะเล ลูกบาศก์เมตร - - -\\n3.4 ปริมาณการใช้น้ำของบริษัท\\nประจำปี\\nรายละเอียด หน่วย\\n2564 2565 2566\\nปริมาณการใช้น้ำสุทธิ ลูกบาศก์เมตร 208,800.00 199,500.00 -\\n3.5 ปริมาณการใช้น้ำต่อหน่วยของบริษัท\\nประจำปี\\nรายละเอียด หน่วย\\n2564 2565 2566\\nลูกบาศก์เมตร /\\nอัตราส่วนปริมาณการใช้น้ำสุทธิต่อรายได้รวม(*) - - -\\nราย ได้พันบาท\\nลูกบาศก์เมตร /\\nปริมาณการใช้น้ำสุทธิต่อหน่วย - - -\\nตารางเมตร\\nคำอธิบายเพิ่มเติม:\\n(*) รายได้รวมและค่าใช้จ่ายรวมจากงบการเงินรวม\\n3.6 ค่าใช้จ่ายการใช้น้ำของบริษัท\\nประจำปี\\nรายละเอียด หน่วย\\n2564 2565 2566\\nค่าใช้จ่ายการใช้น้ำรวม บาท 0.00 0.00 -\\nค่าใช้จ่ายการใช้น้ำประปาหรือน้ำจากองค์กรอื่น บาท - - -\\nค่าใช้จ่ายการใช้น้ำอื่น ๆ บาท - - -')]"
      ]
     },
     "execution_count": 59,
     "metadata": {},
     "output_type": "execute_result"
    }
   ],
   "source": [
    "chunk_retriver.invoke(\"มาตราการ\")"
   ]
  },
  {
   "cell_type": "markdown",
   "metadata": {},
   "source": [
    "## Setup LLM For Generate Synthesised Data"
   ]
  },
  {
   "cell_type": "code",
   "execution_count": 60,
   "metadata": {},
   "outputs": [],
   "source": [
    "import os\n",
    "from langchain_openai import ChatOpenAI\n",
    "from dotenv import load_dotenv\n",
    "\n",
    "load_dotenv()\n",
    "\n",
    "OPENAI_API_KEY = os.environ[\"OPENAI_API_KEY\"] = os.getenv(\"OPEN_AI_API_KEY\")"
   ]
  },
  {
   "cell_type": "markdown",
   "metadata": {},
   "source": [
    "### LLM RAG"
   ]
  },
  {
   "cell_type": "code",
   "execution_count": 61,
   "metadata": {},
   "outputs": [],
   "source": [
    "from langchain_core.prompts import ChatPromptTemplate\n",
    "\n",
    "rag_template = \"\"\"\\\n",
    "Use the following context to answer the user's query. If you cannot answer, please respond with 'I don't know'.\n",
    "\n",
    "User's Query:\n",
    "{question}\n",
    "\n",
    "Context:\n",
    "{context}\n",
    "\"\"\"\n",
    "\n",
    "rag_prompt = ChatPromptTemplate.from_template(rag_template)"
   ]
  },
  {
   "cell_type": "code",
   "execution_count": 62,
   "metadata": {},
   "outputs": [],
   "source": [
    "from langchain_core.runnables import RunnablePassthrough\n",
    "from langchain_core.output_parsers import StrOutputParser\n",
    "from langchain_openai import ChatOpenAI\n",
    "\n",
    "llm = ChatOpenAI(model=\"gpt-3.5-turbo\",temperature=0, max_tokens=4096)\n",
    "\n",
    "recursive_rag_chain = (\n",
    "    {\"context\" : chunk_retriver, \"question\" : RunnablePassthrough()}\n",
    "    | rag_prompt\n",
    "    | llm\n",
    "    | StrOutputParser()\n",
    ")"
   ]
  },
  {
   "cell_type": "code",
   "execution_count": 63,
   "metadata": {},
   "outputs": [],
   "source": [
    "synthetic_data_chunks = text_chunks\n",
    "synthetic_data_chunks_size = len(synthetic_data_chunks)"
   ]
  },
  {
   "cell_type": "markdown",
   "metadata": {},
   "source": [
    "## LLM Question"
   ]
  },
  {
   "cell_type": "code",
   "execution_count": 64,
   "metadata": {},
   "outputs": [],
   "source": [
    "question_prompt = \"\"\"\\\n",
    "You are a teacher preparing a test. Please create a question that can be answered by referencing the following context.\n",
    "\n",
    "Context:\n",
    "{context}\n",
    "\"\"\"\n",
    "\n",
    "question_prompt = ChatPromptTemplate.from_template(question_prompt)\n",
    "question_chain = question_prompt | llm | StrOutputParser()"
   ]
  },
  {
   "cell_type": "markdown",
   "metadata": {},
   "source": [
    "## LLM Ground Truth"
   ]
  },
  {
   "cell_type": "code",
   "execution_count": 65,
   "metadata": {},
   "outputs": [],
   "source": [
    "ground_truth_prompt = \"\"\"\\\n",
    "Use the following context and question to answer this question using *only* the provided context.\n",
    "\n",
    "Question:\n",
    "{question}\n",
    "\n",
    "Context:\n",
    "{context}\n",
    "\"\"\"\n",
    "\n",
    "ground_truth_prompt = ChatPromptTemplate.from_template(ground_truth_prompt)\n",
    "ground_truth_chain = ground_truth_prompt | llm | StrOutputParser()"
   ]
  },
  {
   "cell_type": "markdown",
   "metadata": {},
   "source": [
    "## Create Synthesised Data"
   ]
  },
  {
   "cell_type": "code",
   "execution_count": 66,
   "metadata": {},
   "outputs": [],
   "source": [
    "questions = []\n",
    "ground_truths_recursive = []\n",
    "contexts = []\n",
    "answers = []\n",
    "\n",
    "c = 0\n",
    "for chunk in synthetic_data_chunks:\n",
    "  # print(c)\n",
    "  questions.append(question_chain.invoke({\"context\" : chunk.page_content}))\n",
    "  # contexts.append(chunk.page_content)\n",
    "  # ground_truths_recursive.append(ground_truth_chain.invoke({\"question\" : questions[-1], \"context\" : str(contexts[-1])}))\n",
    "  ground_truths_recursive.append(ground_truth_chain.invoke({\"question\" : questions[-1], \"context\" : chunk.page_content}))\n",
    "  \n",
    "\n",
    "  contexts.append([d.page_content for d in chunk_retriver.get_relevant_documents(questions[-1])])\n",
    "  answers.append(recursive_rag_chain.invoke(questions[-1]))\n",
    "  # c += 1"
   ]
  },
  {
   "cell_type": "code",
   "execution_count": 67,
   "metadata": {},
   "outputs": [],
   "source": [
    "# [d.page_content for d in chunk_retriver.get_relevant_documents(\"d\")]"
   ]
  },
  {
   "cell_type": "code",
   "execution_count": 68,
   "metadata": {},
   "outputs": [
    {
     "data": {
      "text/plain": [
       "Dataset({\n",
       "    features: ['question', 'answer', 'contexts', 'ground_truth'],\n",
       "    num_rows: 71\n",
       "})"
      ]
     },
     "execution_count": 68,
     "metadata": {},
     "output_type": "execute_result"
    }
   ],
   "source": [
    "from datasets import load_dataset, Dataset\n",
    "\n",
    "qagc_list = []\n",
    "\n",
    "for question, answer, context, ground_truth in zip(questions, answers, contexts, ground_truths_recursive):\n",
    "  # print(\"q\",question)\n",
    "  # print(\"g\",ground_truth)\n",
    "  # print(\"a\",answer)\n",
    "  # print(\"c\", context)\n",
    "  qagc_list.append({\n",
    "      \"question\" : question,\n",
    "      \"answer\" : answer,\n",
    "      \"contexts\" : context,\n",
    "      \"ground_truth\" : ground_truth\n",
    "  })\n",
    "\n",
    "eval_dataset = Dataset.from_list(qagc_list)\n",
    "eval_dataset"
   ]
  },
  {
   "cell_type": "markdown",
   "metadata": {},
   "source": [
    "## Evaluation with RAGAS"
   ]
  },
  {
   "cell_type": "code",
   "execution_count": 69,
   "metadata": {},
   "outputs": [
    {
     "name": "stderr",
     "output_type": "stream",
     "text": [
      "Evaluating: 100%|██████████| 142/142 [02:42<00:00,  1.14s/it]\n"
     ]
    },
    {
     "data": {
      "text/plain": [
       "{'context_precision': 0.7371, 'context_recall': 0.8303}"
      ]
     },
     "execution_count": 69,
     "metadata": {},
     "output_type": "execute_result"
    }
   ],
   "source": [
    "from ragas.metrics import (\n",
    "    answer_relevancy,\n",
    "    faithfulness,\n",
    "    context_recall,\n",
    "    context_precision,\n",
    ")\n",
    "\n",
    "from ragas import evaluate\n",
    "\n",
    "result = evaluate(\n",
    "    eval_dataset,\n",
    "    metrics=[\n",
    "        # retrieval\n",
    "        context_precision,\n",
    "        context_recall,\n",
    "    # generation\n",
    "        # faithfulness,\n",
    "        # answer_relevancy,\n",
    "    ],\n",
    ")\n",
    "result"
   ]
  },
  {
   "cell_type": "code",
   "execution_count": 70,
   "metadata": {},
   "outputs": [
    {
     "data": {
      "text/html": [
       "<div>\n",
       "<style scoped>\n",
       "    .dataframe tbody tr th:only-of-type {\n",
       "        vertical-align: middle;\n",
       "    }\n",
       "\n",
       "    .dataframe tbody tr th {\n",
       "        vertical-align: top;\n",
       "    }\n",
       "\n",
       "    .dataframe thead th {\n",
       "        text-align: right;\n",
       "    }\n",
       "</style>\n",
       "<table border=\"1\" class=\"dataframe\">\n",
       "  <thead>\n",
       "    <tr style=\"text-align: right;\">\n",
       "      <th></th>\n",
       "      <th>user_input</th>\n",
       "      <th>retrieved_contexts</th>\n",
       "      <th>response</th>\n",
       "      <th>reference</th>\n",
       "      <th>context_precision</th>\n",
       "      <th>context_recall</th>\n",
       "    </tr>\n",
       "  </thead>\n",
       "  <tbody>\n",
       "    <tr>\n",
       "      <th>0</th>\n",
       "      <td>Question: Does BTS Group Limited have an Envir...</td>\n",
       "      <td>[ข้อมูลการดำเนินงานด้าน ESG\\nบริษัท: บริษัท บี...</td>\n",
       "      <td>Yes, BTS Group Limited has an Environmental Ma...</td>\n",
       "      <td>Yes, BTS Group Limited has an Environmental Ma...</td>\n",
       "      <td>0.750000</td>\n",
       "      <td>1.0</td>\n",
       "    </tr>\n",
       "    <tr>\n",
       "      <th>1</th>\n",
       "      <td>Based on the context provided, please answer t...</td>\n",
       "      <td>[ร้อยละของผลต่างระหว่างปริมาณการใช้ไฟฟ้ารวมเที...</td>\n",
       "      <td>I don't know.</td>\n",
       "      <td>The difference between the total electricity c...</td>\n",
       "      <td>1.000000</td>\n",
       "      <td>1.0</td>\n",
       "    </tr>\n",
       "    <tr>\n",
       "      <th>2</th>\n",
       "      <td>Based on the context provided, please calculat...</td>\n",
       "      <td>[ร้อยละของผลต่างระหว่างปริมาณการใช้ไฟฟ้ารวมเที...</td>\n",
       "      <td>I don't know.</td>\n",
       "      <td>To calculate the percentage difference between...</td>\n",
       "      <td>0.000000</td>\n",
       "      <td>1.0</td>\n",
       "    </tr>\n",
       "    <tr>\n",
       "      <th>3</th>\n",
       "      <td>What is the percentage of total electricity ex...</td>\n",
       "      <td>[ร้อยละของค่าใช้จ่ายการใช้ไฟฟ้ารวมต่อรายได้รวม...</td>\n",
       "      <td>I don't know.</td>\n",
       "      <td>To calculate the percentage of total electrici...</td>\n",
       "      <td>0.000000</td>\n",
       "      <td>1.0</td>\n",
       "    </tr>\n",
       "    <tr>\n",
       "      <th>4</th>\n",
       "      <td>Based on the context provided, please answer t...</td>\n",
       "      <td>[ก๊าซธรรมชาติ ลูกบาศก์ฟุต 24,829.82 29,287.78 ...</td>\n",
       "      <td>I don't know.</td>\n",
       "      <td>Based on the context provided, the total amoun...</td>\n",
       "      <td>1.000000</td>\n",
       "      <td>1.0</td>\n",
       "    </tr>\n",
       "    <tr>\n",
       "      <th>...</th>\n",
       "      <td>...</td>\n",
       "      <td>...</td>\n",
       "      <td>...</td>\n",
       "      <td>...</td>\n",
       "      <td>...</td>\n",
       "      <td>...</td>\n",
       "    </tr>\n",
       "    <tr>\n",
       "      <th>66</th>\n",
       "      <td>Question: What is the annual meeting fee for M...</td>\n",
       "      <td>[3.2 การเข้าร่วมประชุมของคณะกรรมการบริษัท\\nจำน...</td>\n",
       "      <td>I don't know.</td>\n",
       "      <td>The annual meeting fee for Mr. Surapong Leohay...</td>\n",
       "      <td>0.000000</td>\n",
       "      <td>0.0</td>\n",
       "    </tr>\n",
       "    <tr>\n",
       "      <th>67</th>\n",
       "      <td>Question: What is the total compensation of th...</td>\n",
       "      <td>[รวม - 340,000.00 6,564,000.00 -\\n3.4.3 ค่าตอบ...</td>\n",
       "      <td>Total compensation of the company's board of d...</td>\n",
       "      <td>The total compensation of the company's board ...</td>\n",
       "      <td>0.916667</td>\n",
       "      <td>1.0</td>\n",
       "    </tr>\n",
       "    <tr>\n",
       "      <th>68</th>\n",
       "      <td>Based on the context provided, please answer t...</td>\n",
       "      <td>[3.4.5 ค่าตอบแทนรวมของผู้บริหาร\\nประจำปี\\nรายล...</td>\n",
       "      <td>I don't know.</td>\n",
       "      <td>No, the Employee Joint Investment Program (EJI...</td>\n",
       "      <td>1.000000</td>\n",
       "      <td>1.0</td>\n",
       "    </tr>\n",
       "    <tr>\n",
       "      <th>69</th>\n",
       "      <td>Question: Which individuals are listed as memb...</td>\n",
       "      <td>[(กรรมการ)\\n6. นาย กวิน\\n- 8/8 100.00 เข้าร่วม...</td>\n",
       "      <td>Members of the committee listed in the given c...</td>\n",
       "      <td>Members of the committee listed in the given c...</td>\n",
       "      <td>1.000000</td>\n",
       "      <td>0.7</td>\n",
       "    </tr>\n",
       "    <tr>\n",
       "      <th>70</th>\n",
       "      <td>Question:\\nWhat are the standards referenced f...</td>\n",
       "      <td>[performances/relevant-policies/20210616-bts-s...</td>\n",
       "      <td>The standards referenced for disclosing sustai...</td>\n",
       "      <td>The standards referenced for disclosing sustai...</td>\n",
       "      <td>1.000000</td>\n",
       "      <td>1.0</td>\n",
       "    </tr>\n",
       "  </tbody>\n",
       "</table>\n",
       "<p>71 rows × 6 columns</p>\n",
       "</div>"
      ],
      "text/plain": [
       "                                           user_input  \\\n",
       "0   Question: Does BTS Group Limited have an Envir...   \n",
       "1   Based on the context provided, please answer t...   \n",
       "2   Based on the context provided, please calculat...   \n",
       "3   What is the percentage of total electricity ex...   \n",
       "4   Based on the context provided, please answer t...   \n",
       "..                                                ...   \n",
       "66  Question: What is the annual meeting fee for M...   \n",
       "67  Question: What is the total compensation of th...   \n",
       "68  Based on the context provided, please answer t...   \n",
       "69  Question: Which individuals are listed as memb...   \n",
       "70  Question:\\nWhat are the standards referenced f...   \n",
       "\n",
       "                                   retrieved_contexts  \\\n",
       "0   [ข้อมูลการดำเนินงานด้าน ESG\\nบริษัท: บริษัท บี...   \n",
       "1   [ร้อยละของผลต่างระหว่างปริมาณการใช้ไฟฟ้ารวมเที...   \n",
       "2   [ร้อยละของผลต่างระหว่างปริมาณการใช้ไฟฟ้ารวมเที...   \n",
       "3   [ร้อยละของค่าใช้จ่ายการใช้ไฟฟ้ารวมต่อรายได้รวม...   \n",
       "4   [ก๊าซธรรมชาติ ลูกบาศก์ฟุต 24,829.82 29,287.78 ...   \n",
       "..                                                ...   \n",
       "66  [3.2 การเข้าร่วมประชุมของคณะกรรมการบริษัท\\nจำน...   \n",
       "67  [รวม - 340,000.00 6,564,000.00 -\\n3.4.3 ค่าตอบ...   \n",
       "68  [3.4.5 ค่าตอบแทนรวมของผู้บริหาร\\nประจำปี\\nรายล...   \n",
       "69  [(กรรมการ)\\n6. นาย กวิน\\n- 8/8 100.00 เข้าร่วม...   \n",
       "70  [performances/relevant-policies/20210616-bts-s...   \n",
       "\n",
       "                                             response  \\\n",
       "0   Yes, BTS Group Limited has an Environmental Ma...   \n",
       "1                                       I don't know.   \n",
       "2                                       I don't know.   \n",
       "3                                       I don't know.   \n",
       "4                                       I don't know.   \n",
       "..                                                ...   \n",
       "66                                      I don't know.   \n",
       "67  Total compensation of the company's board of d...   \n",
       "68                                      I don't know.   \n",
       "69  Members of the committee listed in the given c...   \n",
       "70  The standards referenced for disclosing sustai...   \n",
       "\n",
       "                                            reference  context_precision  \\\n",
       "0   Yes, BTS Group Limited has an Environmental Ma...           0.750000   \n",
       "1   The difference between the total electricity c...           1.000000   \n",
       "2   To calculate the percentage difference between...           0.000000   \n",
       "3   To calculate the percentage of total electrici...           0.000000   \n",
       "4   Based on the context provided, the total amoun...           1.000000   \n",
       "..                                                ...                ...   \n",
       "66  The annual meeting fee for Mr. Surapong Leohay...           0.000000   \n",
       "67  The total compensation of the company's board ...           0.916667   \n",
       "68  No, the Employee Joint Investment Program (EJI...           1.000000   \n",
       "69  Members of the committee listed in the given c...           1.000000   \n",
       "70  The standards referenced for disclosing sustai...           1.000000   \n",
       "\n",
       "    context_recall  \n",
       "0              1.0  \n",
       "1              1.0  \n",
       "2              1.0  \n",
       "3              1.0  \n",
       "4              1.0  \n",
       "..             ...  \n",
       "66             0.0  \n",
       "67             1.0  \n",
       "68             1.0  \n",
       "69             0.7  \n",
       "70             1.0  \n",
       "\n",
       "[71 rows x 6 columns]"
      ]
     },
     "execution_count": 70,
     "metadata": {},
     "output_type": "execute_result"
    }
   ],
   "source": [
    "results_df = result.to_pandas()\n",
    "results_df"
   ]
  },
  {
   "cell_type": "code",
   "execution_count": 71,
   "metadata": {},
   "outputs": [],
   "source": [
    "# for i in results_df[\"retrieved_contexts\"]:\n",
    "#     print(len(i))"
   ]
  },
  {
   "cell_type": "code",
   "execution_count": 72,
   "metadata": {},
   "outputs": [
    {
     "data": {
      "text/plain": [
       "0.737089201830125"
      ]
     },
     "execution_count": 72,
     "metadata": {},
     "output_type": "execute_result"
    }
   ],
   "source": [
    "results_df['context_precision'].mean()"
   ]
  },
  {
   "cell_type": "code",
   "execution_count": 73,
   "metadata": {},
   "outputs": [
    {
     "data": {
      "text/plain": [
       "0.737089201830125"
      ]
     },
     "execution_count": 73,
     "metadata": {},
     "output_type": "execute_result"
    }
   ],
   "source": [
    "results_df['context_precision'].mean()"
   ]
  }
 ],
 "metadata": {
  "kernelspec": {
   "display_name": "venv",
   "language": "python",
   "name": "python3"
  },
  "language_info": {
   "codemirror_mode": {
    "name": "ipython",
    "version": 3
   },
   "file_extension": ".py",
   "mimetype": "text/x-python",
   "name": "python",
   "nbconvert_exporter": "python",
   "pygments_lexer": "ipython3",
   "version": "3.12.4"
  }
 },
 "nbformat": 4,
 "nbformat_minor": 2
}
