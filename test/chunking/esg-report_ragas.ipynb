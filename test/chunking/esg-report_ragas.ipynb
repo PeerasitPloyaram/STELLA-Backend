{
 "cells": [
  {
   "cell_type": "code",
   "execution_count": 1,
   "metadata": {},
   "outputs": [
    {
     "name": "stderr",
     "output_type": "stream",
     "text": [
      "/Users/peerasit/senior_project/STELLA-Backend/venv/lib/python3.12/site-packages/tqdm/auto.py:21: TqdmWarning: IProgress not found. Please update jupyter and ipywidgets. See https://ipywidgets.readthedocs.io/en/stable/user_install.html\n",
      "  from .autonotebook import tqdm as notebook_tqdm\n"
     ]
    }
   ],
   "source": [
    "from langchain_experimental.text_splitter import SemanticChunker\n",
    "from langchain_huggingface import HuggingFaceEmbeddings\n",
    "\n",
    "embedding_model = HuggingFaceEmbeddings(model_name=\"intfloat/multilingual-e5-large-instruct\")"
   ]
  },
  {
   "cell_type": "markdown",
   "metadata": {},
   "source": [
    "## Prepare PDF File"
   ]
  },
  {
   "cell_type": "code",
   "execution_count": 62,
   "metadata": {},
   "outputs": [],
   "source": [
    "# import pymupdf\n",
    "# from langchain_core.documents import Document\n",
    "# doc = pymupdf.open('../../chunking/pdfs/bts_esg_2023.pdf')\n",
    "\n",
    "# import sys\n",
    "# # sys.path.insert(0, \"/Users/peerasit/senior_project/STELLA-Backend\")\n",
    "# from chunking.esg_file import extractAll\n",
    "# doc = extractAll(file_name=\"../../chunking/pdfs/bts_esg_2023.pdf\")\n",
    "\n",
    "# import pdfplumber\n",
    "\n",
    "doc = []\n",
    "with pdfplumber.open(\"../../chunking/pdfs/bts_esg_2023.pdf\") as pdf:\n",
    "    page_size = len(pdf.pages)\n",
    "    doc = [i.extract_text() for i in pdf.pages]"
   ]
  },
  {
   "cell_type": "markdown",
   "metadata": {},
   "source": [
    "#### Recursive Chunking"
   ]
  },
  {
   "cell_type": "code",
   "execution_count": 64,
   "metadata": {},
   "outputs": [],
   "source": [
    "from langchain_text_splitters import RecursiveCharacterTextSplitter\n",
    "\n",
    "text_splitter = RecursiveCharacterTextSplitter(\n",
    "    chunk_size=500,\n",
    "    chunk_overlap=100,\n",
    "    # length_function=len,\n",
    "    is_separator_regex=False,\n",
    ")\n",
    "\n",
    "text_chunks = text_splitter.create_documents(doc)\n",
    "# text_chunks = text_splitter.create_documents([d.get_text() for d in doc])"
   ]
  },
  {
   "cell_type": "code",
   "execution_count": 65,
   "metadata": {},
   "outputs": [
    {
     "data": {
      "text/plain": [
       "146"
      ]
     },
     "execution_count": 65,
     "metadata": {},
     "output_type": "execute_result"
    }
   ],
   "source": [
    "len(text_chunks)"
   ]
  },
  {
   "cell_type": "markdown",
   "metadata": {},
   "source": [
    "#### Semantic Chunking"
   ]
  },
  {
   "cell_type": "code",
   "execution_count": 42,
   "metadata": {},
   "outputs": [],
   "source": [
    "# import pymupdf\n",
    "# from langchain_core.documents import Document\n",
    "\n",
    "# semantic_chunker = SemanticChunker(embeddings=embedding_model, breakpoint_threshold_type=\"percentile\")\n",
    "# text_chunks = semantic_chunker.create_documents([d.get_text() for d in doc])"
   ]
  },
  {
   "cell_type": "markdown",
   "metadata": {},
   "source": [
    "#### Hybrid Chunking"
   ]
  },
  {
   "cell_type": "code",
   "execution_count": 43,
   "metadata": {},
   "outputs": [],
   "source": [
    "# import sys\n",
    "# sys.path.insert(0, \"/Users/peerasit/senior_project/STELLA-Backend/\")\n",
    "# from chunking.ndc_file import ndcFileChunking\n",
    "\n",
    "# text_chunks = ndcFileChunking(content=\"../../chunking/pdfs/general/Thailand_INDCs_2015.pdf\", file_name=\"Thailand_INDCs_2015.pdf\")"
   ]
  },
  {
   "cell_type": "markdown",
   "metadata": {},
   "source": [
    "## Setup STELLA CORE DB"
   ]
  },
  {
   "cell_type": "code",
   "execution_count": 66,
   "metadata": {},
   "outputs": [
    {
     "name": "stdout",
     "output_type": "stream",
     "text": [
      "[CORE] Initializing Milvus Database Core...\n",
      "[DB] init Embedding Model...\n",
      "[DB] init Embedding Model Successfully.\n",
      "[DB] Found Database: esg_evaluate\n",
      "[DB] Found Collection \"cnode_1\".\n",
      "[DB] Drop Collection \"cnode_1\"...\n",
      "cnode_1 has: 0 entities\n",
      "[DB] Drop Collection \"cnode_1\" Successfully.\n",
      "[DB] Create Collection \"cnode_1\"\n",
      "[DB] Collection \"cnode_1\" Is Ready.\n",
      "[DB] Found Collection \"gnode_1\".\n",
      "[DB] Drop Collection \"gnode_1\"...\n",
      "gnode_1 has: 147 entities\n",
      "[DB] Drop Collection \"gnode_1\" Successfully.\n",
      "[DB] Create Collection \"gnode_1\"\n",
      "[DB] Collection \"gnode_1\" Is Ready.\n",
      "[DB] Found Collection \"frontend_query_general_documents\".\n",
      "[DB] Drop Collection \"frontend_query_general_documents\"...\n",
      "frontend_query_general_documents has: 1 entities\n",
      "[DB] Drop Collection \"frontend_query_general_documents\" Successfully.\n",
      "[DB] Create Collection \"frontend_query_general_documents\"\n",
      "[DB] Collection \"frontend_query_general_documents\" Is Ready.\n",
      "Create Schma Successfuly.\n"
     ]
    }
   ],
   "source": [
    "import sys\n",
    "sys.path.insert(0, \"/Users/peerasit/senior_project/STELLA-Backend\")\n",
    "sys.path.insert(0, \"/Users/peerasit/senior_project/STELLA-Backend/milvus\")\n",
    "\n",
    "from milvus.core import Core\n",
    "from milvus.schema import INDEX_PARAMS, DATA_SOURCE_SCHEMA\n",
    "\n",
    "core = Core(\n",
    "            database_name=\"esg_evaluate\",\n",
    "            schema=DATA_SOURCE_SCHEMA,\n",
    "            dense_embedding_model=embedding_model,\n",
    "            create_first_node=True,\n",
    "            system_prune_first_node=True,\n",
    "            token=\"\"\n",
    "        )"
   ]
  },
  {
   "cell_type": "markdown",
   "metadata": {},
   "source": [
    "## Add Document "
   ]
  },
  {
   "cell_type": "code",
   "execution_count": 67,
   "metadata": {},
   "outputs": [
    {
     "name": "stdout",
     "output_type": "stream",
     "text": [
      "<Collection>:\n",
      "-------------\n",
      "<name>: gnode_1\n",
      "<description>: Schema for Data Source Collection\n",
      "<schema>: {'auto_id': True, 'description': 'Schema for Data Source Collection', 'fields': [{'name': 'id', 'description': '', 'type': <DataType.INT64: 5>, 'is_primary': True, 'auto_id': True}, {'name': 'dense_vector', 'description': '', 'type': <DataType.FLOAT_VECTOR: 101>, 'params': {'dim': 1024}}, {'name': 'text', 'description': '', 'type': <DataType.VARCHAR: 21>, 'params': {'max_length': 8192}}, {'name': 'metadata', 'description': '', 'type': <DataType.JSON: 23>}], 'enable_dynamic_field': True}\n",
      "\n",
      "<class 'pymilvus.orm.collection.Collection'>\n",
      "[DB] Insert Query FrontEnd Successfuly.\n",
      "[DB] Create New Partition\n",
      "[DB] Partition esg: 146 entities\n"
     ]
    }
   ],
   "source": [
    "core.add_document(name=\"esg\", documents=text_chunks, node_type=\"g\", description=\"this is esg file\")"
   ]
  },
  {
   "cell_type": "markdown",
   "metadata": {},
   "source": [
    "## Setup Retrieval DB"
   ]
  },
  {
   "cell_type": "code",
   "execution_count": 68,
   "metadata": {},
   "outputs": [
    {
     "name": "stderr",
     "output_type": "stream",
     "text": [
      "DeprecationWarning: `metadata_field` is about to be deprecated, please set `enable_dynamic_field`=True instead.\n"
     ]
    }
   ],
   "source": [
    "config ={\n",
    "    \"k\": 4,\n",
    "    \"partition_names\": [\"esg\"],\n",
    "}\n",
    "chunk_retriver = core.initVectorStore(collection_name=\"gnode_1\", partition_names=[\"esg\"], search_kwargs=config)"
   ]
  },
  {
   "cell_type": "code",
   "execution_count": 69,
   "metadata": {},
   "outputs": [
    {
     "data": {
      "text/plain": [
       "[Document(metadata={}, page_content='วันที่อนุมัติและเผยแพร่ 23/06/2566'),\n",
       " Document(metadata={}, page_content='วันที่อนุมัติและเผยแพร่ 23/06/2566'),\n",
       " Document(metadata={}, page_content='บริษัท: แจ้งเบาะแสและคุ้มครองผู้ร้องเรียน x การป้องกันการใช้ข้อมูลภายในเพื่อแสวงหา\\nผลประโยชน์'),\n",
       " Document(metadata={}, page_content='การกำกับดูแลความเสี่ยงองค์กร คณะกรรมการบริหารความเสี่ยง\\nการสรรหา คณะกรรมการสรรหาและกำหนดค่าตอบแทน\\nการพิจารณาค่าตอบแทน คณะกรรมการสรรหาและกำหนดค่าตอบแทน\\nบรรษัทภิบาล คณะกรรมการพัฒนาเพื่อความยั่งยืน\\nการพัฒนาความยั่งยืนขององค์กร คณะกรรมการพัฒนาเพื่อความยั่งยืน')]"
      ]
     },
     "execution_count": 69,
     "metadata": {},
     "output_type": "execute_result"
    }
   ],
   "source": [
    "chunk_retriver.invoke(\"มาตราการ\")"
   ]
  },
  {
   "cell_type": "markdown",
   "metadata": {},
   "source": [
    "## Setup LLM For Generate Synthesised Data"
   ]
  },
  {
   "cell_type": "code",
   "execution_count": 70,
   "metadata": {},
   "outputs": [],
   "source": [
    "import os\n",
    "from langchain_openai import ChatOpenAI\n",
    "from dotenv import load_dotenv\n",
    "\n",
    "load_dotenv()\n",
    "\n",
    "OPENAI_API_KEY = os.environ[\"OPENAI_API_KEY\"] = os.getenv(\"OPEN_AI_API_KEY\")"
   ]
  },
  {
   "cell_type": "markdown",
   "metadata": {},
   "source": [
    "### LLM RAG"
   ]
  },
  {
   "cell_type": "code",
   "execution_count": 71,
   "metadata": {},
   "outputs": [],
   "source": [
    "from langchain_core.prompts import ChatPromptTemplate\n",
    "\n",
    "rag_template = \"\"\"\\\n",
    "Use the following context to answer the user's query. If you cannot answer, please respond with 'I don't know'.\n",
    "\n",
    "User's Query:\n",
    "{question}\n",
    "\n",
    "Context:\n",
    "{context}\n",
    "\"\"\"\n",
    "\n",
    "rag_prompt = ChatPromptTemplate.from_template(rag_template)"
   ]
  },
  {
   "cell_type": "code",
   "execution_count": 72,
   "metadata": {},
   "outputs": [],
   "source": [
    "from langchain_core.runnables import RunnablePassthrough\n",
    "from langchain_core.output_parsers import StrOutputParser\n",
    "from langchain_openai import ChatOpenAI\n",
    "\n",
    "llm = ChatOpenAI(model=\"gpt-3.5-turbo\",temperature=0, max_tokens=4096)\n",
    "\n",
    "recursive_rag_chain = (\n",
    "    {\"context\" : chunk_retriver, \"question\" : RunnablePassthrough()}\n",
    "    | rag_prompt\n",
    "    | llm\n",
    "    | StrOutputParser()\n",
    ")"
   ]
  },
  {
   "cell_type": "code",
   "execution_count": 73,
   "metadata": {},
   "outputs": [],
   "source": [
    "synthetic_data_chunks = text_chunks\n",
    "synthetic_data_chunks_size = len(synthetic_data_chunks)"
   ]
  },
  {
   "cell_type": "markdown",
   "metadata": {},
   "source": [
    "## LLM Question"
   ]
  },
  {
   "cell_type": "code",
   "execution_count": 74,
   "metadata": {},
   "outputs": [],
   "source": [
    "question_prompt = \"\"\"\\\n",
    "You are a teacher preparing a test. Please create a question that can be answered by referencing the following context.\n",
    "\n",
    "Context:\n",
    "{context}\n",
    "\"\"\"\n",
    "\n",
    "question_prompt = ChatPromptTemplate.from_template(question_prompt)\n",
    "question_chain = question_prompt | llm | StrOutputParser()"
   ]
  },
  {
   "cell_type": "markdown",
   "metadata": {},
   "source": [
    "## LLM Ground Truth"
   ]
  },
  {
   "cell_type": "code",
   "execution_count": 75,
   "metadata": {},
   "outputs": [],
   "source": [
    "ground_truth_prompt = \"\"\"\\\n",
    "Use the following context and question to answer this question using *only* the provided context.\n",
    "\n",
    "Question:\n",
    "{question}\n",
    "\n",
    "Context:\n",
    "{context}\n",
    "\"\"\"\n",
    "\n",
    "ground_truth_prompt = ChatPromptTemplate.from_template(ground_truth_prompt)\n",
    "ground_truth_chain = ground_truth_prompt | llm | StrOutputParser()"
   ]
  },
  {
   "cell_type": "markdown",
   "metadata": {},
   "source": [
    "## Create Synthesised Data"
   ]
  },
  {
   "cell_type": "code",
   "execution_count": 76,
   "metadata": {},
   "outputs": [],
   "source": [
    "questions = []\n",
    "ground_truths_recursive = []\n",
    "contexts = []\n",
    "answers = []\n",
    "\n",
    "c = 0\n",
    "for chunk in synthetic_data_chunks:\n",
    "  # print(c)\n",
    "  questions.append(question_chain.invoke({\"context\" : chunk.page_content}))\n",
    "  # contexts.append(chunk.page_content)\n",
    "  # ground_truths_recursive.append(ground_truth_chain.invoke({\"question\" : questions[-1], \"context\" : str(contexts[-1])}))\n",
    "  ground_truths_recursive.append(ground_truth_chain.invoke({\"question\" : questions[-1], \"context\" : chunk.page_content}))\n",
    "  \n",
    "\n",
    "  contexts.append([d.page_content for d in chunk_retriver.get_relevant_documents(questions[-1])])\n",
    "  answers.append(recursive_rag_chain.invoke(questions[-1]))\n",
    "  # c += 1"
   ]
  },
  {
   "cell_type": "code",
   "execution_count": 77,
   "metadata": {},
   "outputs": [],
   "source": [
    "# [d.page_content for d in chunk_retriver.get_relevant_documents(\"d\")]"
   ]
  },
  {
   "cell_type": "code",
   "execution_count": 78,
   "metadata": {},
   "outputs": [
    {
     "data": {
      "text/plain": [
       "Dataset({\n",
       "    features: ['question', 'answer', 'contexts', 'ground_truth'],\n",
       "    num_rows: 146\n",
       "})"
      ]
     },
     "execution_count": 78,
     "metadata": {},
     "output_type": "execute_result"
    }
   ],
   "source": [
    "from datasets import load_dataset, Dataset\n",
    "\n",
    "qagc_list = []\n",
    "\n",
    "for question, answer, context, ground_truth in zip(questions, answers, contexts, ground_truths_recursive):\n",
    "  # print(\"q\",question)\n",
    "  # print(\"g\",ground_truth)\n",
    "  # print(\"a\",answer)\n",
    "  # print(\"c\", context)\n",
    "  qagc_list.append({\n",
    "      \"question\" : question,\n",
    "      \"answer\" : answer,\n",
    "      \"contexts\" : context,\n",
    "      \"ground_truth\" : ground_truth\n",
    "  })\n",
    "\n",
    "eval_dataset = Dataset.from_list(qagc_list)\n",
    "eval_dataset"
   ]
  },
  {
   "cell_type": "markdown",
   "metadata": {},
   "source": [
    "## Evaluation with RAGAS"
   ]
  },
  {
   "cell_type": "code",
   "execution_count": 79,
   "metadata": {},
   "outputs": [
    {
     "name": "stderr",
     "output_type": "stream",
     "text": [
      "Evaluating:  72%|███████▏  | 209/292 [02:30<05:12,  3.77s/it]Exception raised in Job[103]: RateLimitError(Error code: 429 - {'error': {'message': 'Rate limit reached for gpt-4o-mini in organization org-jupNxilFfd1cJCkkq5Zqau32 on requests per day (RPD): Limit 10000, Used 10000, Requested 1. Please try again in 8.64s. Visit https://platform.openai.com/account/rate-limits to learn more.', 'type': 'requests', 'param': None, 'code': 'rate_limit_exceeded'}})\n",
      "Evaluating:  72%|███████▏  | 211/292 [02:57<12:41,  9.41s/it]Exception raised in Job[123]: RateLimitError(Error code: 429 - {'error': {'message': 'Rate limit reached for gpt-4o-mini in organization org-jupNxilFfd1cJCkkq5Zqau32 on requests per day (RPD): Limit 10000, Used 10000, Requested 1. Please try again in 8.64s. Visit https://platform.openai.com/account/rate-limits to learn more.', 'type': 'requests', 'param': None, 'code': 'rate_limit_exceeded'}})\n",
      "Evaluating:  73%|███████▎  | 214/292 [03:22<11:41,  9.00s/it]Exception raised in Job[95]: TimeoutError()\n",
      "Evaluating:  74%|███████▍  | 216/292 [03:30<08:09,  6.45s/it]Exception raised in Job[107]: TimeoutError()\n",
      "Evaluating:  76%|███████▌  | 221/292 [04:35<15:03, 12.73s/it]Exception raised in Job[191]: TimeoutError()\n",
      "Evaluating:  76%|███████▌  | 222/292 [04:50<15:39, 13.43s/it]Exception raised in Job[193]: TimeoutError()\n",
      "Evaluating:  77%|███████▋  | 225/292 [05:05<09:30,  8.51s/it]Exception raised in Job[209]: TimeoutError()\n",
      "Evaluating:  77%|███████▋  | 226/292 [05:07<07:06,  6.45s/it]Exception raised in Job[218]: TimeoutError()\n",
      "Evaluating:  78%|███████▊  | 227/292 [05:15<07:31,  6.94s/it]Exception raised in Job[222]: TimeoutError()\n",
      "Evaluating:  78%|███████▊  | 229/292 [05:25<06:16,  5.98s/it]Exception raised in Job[224]: TimeoutError()\n",
      "Evaluating:  79%|███████▉  | 232/292 [05:42<06:13,  6.22s/it]Exception raised in Job[226]: TimeoutError()\n",
      "Evaluating:  80%|███████▉  | 233/292 [05:57<08:34,  8.72s/it]Exception raised in Job[228]: TimeoutError()\n",
      "Evaluating:  80%|████████  | 235/292 [06:24<10:32, 11.10s/it]Exception raised in Job[230]: TimeoutError()\n",
      "Evaluating:  81%|████████  | 237/292 [06:32<06:42,  7.32s/it]Exception raised in Job[232]: TimeoutError()\n",
      "Evaluating:  82%|████████▏ | 240/292 [06:50<06:01,  6.95s/it]Exception raised in Job[234]: TimeoutError()\n",
      "Evaluating:  84%|████████▎ | 244/292 [07:26<06:41,  8.36s/it]Exception raised in Job[236]: TimeoutError()\n",
      "Evaluating:  84%|████████▍ | 245/292 [07:35<06:47,  8.67s/it]Exception raised in Job[238]: TimeoutError()\n",
      "Evaluating:  84%|████████▍ | 246/292 [07:51<08:24, 10.96s/it]Exception raised in Job[240]: TimeoutError()\n",
      "Evaluating:  85%|████████▍ | 247/292 [08:05<08:52, 11.84s/it]Exception raised in Job[242]: TimeoutError()\n",
      "Evaluating:  85%|████████▌ | 249/292 [08:16<05:51,  8.18s/it]Exception raised in Job[244]: TimeoutError()\n",
      "Evaluating:  86%|████████▌ | 250/292 [08:25<05:49,  8.31s/it]Exception raised in Job[246]: TimeoutError()\n",
      "Evaluating:  86%|████████▋ | 252/292 [08:44<06:13,  9.33s/it]Exception raised in Job[248]: TimeoutError()\n",
      "Evaluating:  87%|████████▋ | 254/292 [08:59<04:59,  7.88s/it]Exception raised in Job[249]: TimeoutError()\n",
      "Evaluating:  88%|████████▊ | 256/292 [09:17<04:39,  7.77s/it]Exception raised in Job[250]: TimeoutError()\n",
      "Evaluating:  88%|████████▊ | 258/292 [09:25<03:14,  5.72s/it]Exception raised in Job[252]: TimeoutError()\n",
      "Evaluating:  92%|█████████▏| 268/292 [13:44<04:01, 10.05s/it]Exception raised in Job[256]: TimeoutError()\n",
      "Evaluating:  92%|█████████▏| 269/292 [13:44<02:44,  7.14s/it]Exception raised in Job[258]: TimeoutError()\n",
      "Evaluating:  93%|█████████▎| 271/292 [14:11<03:47, 10.84s/it]Exception raised in Job[260]: TimeoutError()\n",
      "Evaluating:  93%|█████████▎| 272/292 [14:13<02:42,  8.10s/it]Exception raised in Job[262]: TimeoutError()\n",
      "Evaluating:  93%|█████████▎| 273/292 [14:43<04:39, 14.74s/it]Exception raised in Job[264]: TimeoutError()\n",
      "Evaluating:  94%|█████████▍| 275/292 [14:57<02:55, 10.31s/it]Exception raised in Job[268]: TimeoutError()\n",
      "Evaluating:  95%|█████████▍| 277/292 [15:45<04:01, 16.08s/it]Exception raised in Job[270]: TimeoutError()\n",
      "Evaluating:  95%|█████████▌| 278/292 [15:52<03:06, 13.32s/it]Exception raised in Job[271]: TimeoutError()\n",
      "Evaluating:  96%|█████████▌| 279/292 [15:54<02:11, 10.14s/it]Exception raised in Job[272]: TimeoutError()\n",
      "Evaluating:  96%|█████████▌| 280/292 [16:02<01:53,  9.49s/it]Exception raised in Job[274]: TimeoutError()\n",
      "Evaluating:  96%|█████████▌| 281/292 [16:10<01:37,  8.84s/it]Exception raised in Job[278]: TimeoutError()\n",
      "Evaluating:  97%|█████████▋| 282/292 [16:12<01:10,  7.06s/it]Exception raised in Job[280]: TimeoutError()\n",
      "Evaluating:  97%|█████████▋| 283/292 [16:14<00:47,  5.29s/it]Exception raised in Job[287]: APIConnectionError(Connection error.)\n",
      "Exception raised in Job[290]: APIConnectionError(Connection error.)\n",
      "Evaluating:  97%|█████████▋| 284/292 [16:19<00:42,  5.35s/it]Exception raised in Job[276]: TimeoutError()\n",
      "Evaluating:  98%|█████████▊| 286/292 [16:20<00:18,  3.16s/it]Exception raised in Job[282]: APIConnectionError(Connection error.)\n",
      "Evaluating:  98%|█████████▊| 287/292 [16:21<00:13,  2.64s/it]Exception raised in Job[286]: APIConnectionError(Connection error.)\n",
      "Evaluating:  99%|█████████▊| 288/292 [16:22<00:08,  2.23s/it]Exception raised in Job[289]: APIConnectionError(Connection error.)\n",
      "Evaluating:  99%|█████████▉| 289/292 [16:28<00:09,  3.11s/it]Exception raised in Job[284]: APIConnectionError(Connection error.)\n",
      "Evaluating:  99%|█████████▉| 290/292 [16:31<00:06,  3.08s/it]Exception raised in Job[288]: APIConnectionError(Connection error.)\n",
      "Evaluating: 100%|█████████▉| 291/292 [16:34<00:03,  3.06s/it]Exception raised in Job[285]: TimeoutError()\n",
      "Evaluating: 100%|██████████| 292/292 [16:53<00:00,  3.47s/it]\n"
     ]
    },
    {
     "data": {
      "text/plain": [
       "{'context_precision': 0.6726, 'context_recall': 0.7157}"
      ]
     },
     "execution_count": 79,
     "metadata": {},
     "output_type": "execute_result"
    }
   ],
   "source": [
    "from ragas.metrics import (\n",
    "    answer_relevancy,\n",
    "    faithfulness,\n",
    "    context_recall,\n",
    "    context_precision,\n",
    ")\n",
    "\n",
    "from ragas import evaluate\n",
    "\n",
    "result = evaluate(\n",
    "    eval_dataset,\n",
    "    metrics=[\n",
    "        # retrieval\n",
    "        context_precision,\n",
    "        context_recall,\n",
    "    # generation\n",
    "        # faithfulness,\n",
    "        # answer_relevancy,\n",
    "    ],\n",
    ")\n",
    "result"
   ]
  },
  {
   "cell_type": "code",
   "execution_count": 80,
   "metadata": {},
   "outputs": [
    {
     "data": {
      "text/html": [
       "<div>\n",
       "<style scoped>\n",
       "    .dataframe tbody tr th:only-of-type {\n",
       "        vertical-align: middle;\n",
       "    }\n",
       "\n",
       "    .dataframe tbody tr th {\n",
       "        vertical-align: top;\n",
       "    }\n",
       "\n",
       "    .dataframe thead th {\n",
       "        text-align: right;\n",
       "    }\n",
       "</style>\n",
       "<table border=\"1\" class=\"dataframe\">\n",
       "  <thead>\n",
       "    <tr style=\"text-align: right;\">\n",
       "      <th></th>\n",
       "      <th>user_input</th>\n",
       "      <th>retrieved_contexts</th>\n",
       "      <th>response</th>\n",
       "      <th>reference</th>\n",
       "      <th>context_precision</th>\n",
       "      <th>context_recall</th>\n",
       "    </tr>\n",
       "  </thead>\n",
       "  <tbody>\n",
       "    <tr>\n",
       "      <th>0</th>\n",
       "      <td>Question:\\nDoes BTS Group Limited have an Envi...</td>\n",
       "      <td>[ข้อมูลการดำเนินงานด้าน ESG\\nบริษัท: บริษัท บี...</td>\n",
       "      <td>Yes, BTS Group Limited has an Environmental Ma...</td>\n",
       "      <td>Yes, BTS Group Limited has an Environmental Ma...</td>\n",
       "      <td>1.000000</td>\n",
       "      <td>1.0</td>\n",
       "    </tr>\n",
       "    <tr>\n",
       "      <th>1</th>\n",
       "      <td>Question: What are some of the environmental m...</td>\n",
       "      <td>[เอกสารนโยบายและแนวปฏิบัติด้านสิ่งแวดล้อมของบร...</td>\n",
       "      <td>Some of the environmental management practices...</td>\n",
       "      <td>The environmental management practices outline...</td>\n",
       "      <td>1.000000</td>\n",
       "      <td>1.0</td>\n",
       "    </tr>\n",
       "    <tr>\n",
       "      <th>2</th>\n",
       "      <td>Question: What was the target amount of electr...</td>\n",
       "      <td>[ปริมาณการซื้อหรือผลิตไฟฟ้ามาใช้จากแหล่งพลังงา...</td>\n",
       "      <td>I don't know.</td>\n",
       "      <td>The target amount of electricity usage for the...</td>\n",
       "      <td>0.583333</td>\n",
       "      <td>1.0</td>\n",
       "    </tr>\n",
       "    <tr>\n",
       "      <th>3</th>\n",
       "      <td>Question: What is the difference between the t...</td>\n",
       "      <td>[ปริมาณการซื้อหรือผลิตไฟฟ้ามาใช้จากแหล่งพลังงา...</td>\n",
       "      <td>The difference between the total electricity c...</td>\n",
       "      <td>The difference between the total electricity c...</td>\n",
       "      <td>1.000000</td>\n",
       "      <td>1.0</td>\n",
       "    </tr>\n",
       "    <tr>\n",
       "      <th>4</th>\n",
       "      <td>Question: In which year did the company exceed...</td>\n",
       "      <td>[ร้อยละของผลต่างระหว่างปริมาณการใช้ไฟฟ้ารวมเที...</td>\n",
       "      <td>I don't know.</td>\n",
       "      <td>Based on the context provided, the company exc...</td>\n",
       "      <td>0.750000</td>\n",
       "      <td>0.0</td>\n",
       "    </tr>\n",
       "    <tr>\n",
       "      <th>...</th>\n",
       "      <td>...</td>\n",
       "      <td>...</td>\n",
       "      <td>...</td>\n",
       "      <td>...</td>\n",
       "      <td>...</td>\n",
       "      <td>...</td>\n",
       "    </tr>\n",
       "    <tr>\n",
       "      <th>141</th>\n",
       "      <td>Question: Who are the members of the committee...</td>\n",
       "      <td>[การแต่งตั้งกลับเข้ามาใหม่\\nเพศ: ชาย ตำแหน่งกร...</td>\n",
       "      <td>Answer: The members of the committee for evalu...</td>\n",
       "      <td>Members of the committee for evaluating job pe...</td>\n",
       "      <td>NaN</td>\n",
       "      <td>0.0</td>\n",
       "    </tr>\n",
       "    <tr>\n",
       "      <th>142</th>\n",
       "      <td>Question: What is the link to the sustainabili...</td>\n",
       "      <td>[performances/relevant-policies/20210616-bts-s...</td>\n",
       "      <td>Link to the sustainability policy of the compa...</td>\n",
       "      <td>The link to the sustainability policy of the c...</td>\n",
       "      <td>NaN</td>\n",
       "      <td>NaN</td>\n",
       "    </tr>\n",
       "    <tr>\n",
       "      <th>143</th>\n",
       "      <td>Question: What are the standards for sustainab...</td>\n",
       "      <td>[performances/relevant-policies/20210616-bts-s...</td>\n",
       "      <td>The company references the GRI Standards, UN G...</td>\n",
       "      <td>The standards for sustainability reporting tha...</td>\n",
       "      <td>NaN</td>\n",
       "      <td>NaN</td>\n",
       "    </tr>\n",
       "    <tr>\n",
       "      <th>144</th>\n",
       "      <td>Question:\\nWhat disclaimer is provided in the ...</td>\n",
       "      <td>[Task Force on Climate-related Financial Discl...</td>\n",
       "      <td>The disclaimer provided in the context regardi...</td>\n",
       "      <td>The disclaimer provided in the context regardi...</td>\n",
       "      <td>NaN</td>\n",
       "      <td>NaN</td>\n",
       "    </tr>\n",
       "    <tr>\n",
       "      <th>145</th>\n",
       "      <td>Question: On what date was the approval and pu...</td>\n",
       "      <td>[วันที่อนุมัติและเผยแพร่ 23/06/2566, วันที่อนุ...</td>\n",
       "      <td>Answer: The approval and publication were made...</td>\n",
       "      <td>The approval and publication was made on 23/06...</td>\n",
       "      <td>NaN</td>\n",
       "      <td>1.0</td>\n",
       "    </tr>\n",
       "  </tbody>\n",
       "</table>\n",
       "<p>146 rows × 6 columns</p>\n",
       "</div>"
      ],
      "text/plain": [
       "                                            user_input  \\\n",
       "0    Question:\\nDoes BTS Group Limited have an Envi...   \n",
       "1    Question: What are some of the environmental m...   \n",
       "2    Question: What was the target amount of electr...   \n",
       "3    Question: What is the difference between the t...   \n",
       "4    Question: In which year did the company exceed...   \n",
       "..                                                 ...   \n",
       "141  Question: Who are the members of the committee...   \n",
       "142  Question: What is the link to the sustainabili...   \n",
       "143  Question: What are the standards for sustainab...   \n",
       "144  Question:\\nWhat disclaimer is provided in the ...   \n",
       "145  Question: On what date was the approval and pu...   \n",
       "\n",
       "                                    retrieved_contexts  \\\n",
       "0    [ข้อมูลการดำเนินงานด้าน ESG\\nบริษัท: บริษัท บี...   \n",
       "1    [เอกสารนโยบายและแนวปฏิบัติด้านสิ่งแวดล้อมของบร...   \n",
       "2    [ปริมาณการซื้อหรือผลิตไฟฟ้ามาใช้จากแหล่งพลังงา...   \n",
       "3    [ปริมาณการซื้อหรือผลิตไฟฟ้ามาใช้จากแหล่งพลังงา...   \n",
       "4    [ร้อยละของผลต่างระหว่างปริมาณการใช้ไฟฟ้ารวมเที...   \n",
       "..                                                 ...   \n",
       "141  [การแต่งตั้งกลับเข้ามาใหม่\\nเพศ: ชาย ตำแหน่งกร...   \n",
       "142  [performances/relevant-policies/20210616-bts-s...   \n",
       "143  [performances/relevant-policies/20210616-bts-s...   \n",
       "144  [Task Force on Climate-related Financial Discl...   \n",
       "145  [วันที่อนุมัติและเผยแพร่ 23/06/2566, วันที่อนุ...   \n",
       "\n",
       "                                              response  \\\n",
       "0    Yes, BTS Group Limited has an Environmental Ma...   \n",
       "1    Some of the environmental management practices...   \n",
       "2                                        I don't know.   \n",
       "3    The difference between the total electricity c...   \n",
       "4                                        I don't know.   \n",
       "..                                                 ...   \n",
       "141  Answer: The members of the committee for evalu...   \n",
       "142  Link to the sustainability policy of the compa...   \n",
       "143  The company references the GRI Standards, UN G...   \n",
       "144  The disclaimer provided in the context regardi...   \n",
       "145  Answer: The approval and publication were made...   \n",
       "\n",
       "                                             reference  context_precision  \\\n",
       "0    Yes, BTS Group Limited has an Environmental Ma...           1.000000   \n",
       "1    The environmental management practices outline...           1.000000   \n",
       "2    The target amount of electricity usage for the...           0.583333   \n",
       "3    The difference between the total electricity c...           1.000000   \n",
       "4    Based on the context provided, the company exc...           0.750000   \n",
       "..                                                 ...                ...   \n",
       "141  Members of the committee for evaluating job pe...                NaN   \n",
       "142  The link to the sustainability policy of the c...                NaN   \n",
       "143  The standards for sustainability reporting tha...                NaN   \n",
       "144  The disclaimer provided in the context regardi...                NaN   \n",
       "145  The approval and publication was made on 23/06...                NaN   \n",
       "\n",
       "     context_recall  \n",
       "0               1.0  \n",
       "1               1.0  \n",
       "2               1.0  \n",
       "3               1.0  \n",
       "4               0.0  \n",
       "..              ...  \n",
       "141             0.0  \n",
       "142             NaN  \n",
       "143             NaN  \n",
       "144             NaN  \n",
       "145             1.0  \n",
       "\n",
       "[146 rows x 6 columns]"
      ]
     },
     "execution_count": 80,
     "metadata": {},
     "output_type": "execute_result"
    }
   ],
   "source": [
    "results_df = result.to_pandas()\n",
    "results_df"
   ]
  },
  {
   "cell_type": "code",
   "execution_count": 81,
   "metadata": {},
   "outputs": [],
   "source": [
    "# for i in results_df[\"retrieved_contexts\"]:\n",
    "#     print(len(i))"
   ]
  },
  {
   "cell_type": "code",
   "execution_count": 82,
   "metadata": {},
   "outputs": [
    {
     "data": {
      "text/plain": [
       "0.6726190475771452"
      ]
     },
     "execution_count": 82,
     "metadata": {},
     "output_type": "execute_result"
    }
   ],
   "source": [
    "results_df['context_precision'].mean()"
   ]
  },
  {
   "cell_type": "code",
   "execution_count": 83,
   "metadata": {},
   "outputs": [
    {
     "data": {
      "text/plain": [
       "0.6726190475771452"
      ]
     },
     "execution_count": 83,
     "metadata": {},
     "output_type": "execute_result"
    }
   ],
   "source": [
    "results_df['context_precision'].mean()"
   ]
  }
 ],
 "metadata": {
  "kernelspec": {
   "display_name": "venv",
   "language": "python",
   "name": "python3"
  },
  "language_info": {
   "codemirror_mode": {
    "name": "ipython",
    "version": 3
   },
   "file_extension": ".py",
   "mimetype": "text/x-python",
   "name": "python",
   "nbconvert_exporter": "python",
   "pygments_lexer": "ipython3",
   "version": "3.12.4"
  }
 },
 "nbformat": 4,
 "nbformat_minor": 2
}
