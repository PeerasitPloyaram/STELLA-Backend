{
 "cells": [
  {
   "cell_type": "code",
   "execution_count": 75,
   "metadata": {},
   "outputs": [],
   "source": [
    "from langchain_experimental.text_splitter import SemanticChunker\n",
    "from langchain_huggingface import HuggingFaceEmbeddings\n",
    "\n",
    "embedding_model = HuggingFaceEmbeddings(model_name=\"intfloat/multilingual-e5-large-instruct\")"
   ]
  },
  {
   "cell_type": "markdown",
   "metadata": {},
   "source": [
    "# Prepare PDF FILE"
   ]
  },
  {
   "cell_type": "code",
   "execution_count": 76,
   "metadata": {},
   "outputs": [],
   "source": [
    "import pymupdf\n",
    "from langchain_core.documents import Document\n",
    "\n",
    "doc = pymupdf.open('../../chunking/pdfs/bts_56-1_2023.pdf')"
   ]
  },
  {
   "cell_type": "markdown",
   "metadata": {},
   "source": [
    "#### Recursive Chunking"
   ]
  },
  {
   "cell_type": "code",
   "execution_count": 77,
   "metadata": {},
   "outputs": [],
   "source": [
    "from langchain_text_splitters import RecursiveCharacterTextSplitter\n",
    "\n",
    "text_splitter = RecursiveCharacterTextSplitter(\n",
    "    chunk_size=1600,\n",
    "    chunk_overlap=500\n",
    ")\n",
    "\n",
    "text_chunks = text_splitter.create_documents([d.get_text() for d in doc])"
   ]
  },
  {
   "cell_type": "markdown",
   "metadata": {},
   "source": [
    "#### Sematic chunking format markdown"
   ]
  },
  {
   "cell_type": "code",
   "execution_count": 78,
   "metadata": {},
   "outputs": [],
   "source": [
    "# import pymupdf4llm\n",
    "# doc2 = pymupdf4llm.to_markdown('../../data_sources/ba_56-1_2023.PDF', page_chunks=True)\n",
    "# semantic_chunk = SemanticChunker(embeddings=embedding_model, breakpoint_threshold_type=\"percentile\")\n",
    "# text_chunks = semantic_chunk.create_documents([d[\"text\"] for d in doc2])"
   ]
  },
  {
   "cell_type": "markdown",
   "metadata": {},
   "source": [
    "#### Semantic Chunking text"
   ]
  },
  {
   "cell_type": "code",
   "execution_count": 79,
   "metadata": {},
   "outputs": [],
   "source": [
    "# import pymupdf\n",
    "# from langchain_core.documents import Document\n",
    "\n",
    "# doc = pymupdf.open(\"../../chunking/pdfs/bts_56-1_2023.pdf\")\n",
    "# semantic_chunker = SemanticChunker(embeddings=embedding_model, breakpoint_threshold_type=\"percentile\")\n",
    "# text_chunks = semantic_chunker.create_documents([d.get_text() for d in doc])"
   ]
  },
  {
   "cell_type": "markdown",
   "metadata": {},
   "source": [
    "#### Hybrid Chunking (Structure Chunking + Semantic Chunking)"
   ]
  },
  {
   "cell_type": "code",
   "execution_count": 80,
   "metadata": {},
   "outputs": [],
   "source": [
    "# import sys\n",
    "# sys.path.insert(0, \"/Users/peerasit/senior_project/STELLA-Backend/\")\n",
    "# from chunking.one_report_file import oneReportFileChunking\n",
    "\n",
    "# text_chunks = oneReportFileChunking(content=\"../../chunking/pdfs/bts_56-1_2023.pdf\", file_name=\"bts_56-1_2023.pdf\")"
   ]
  },
  {
   "cell_type": "markdown",
   "metadata": {},
   "source": [
    "## STELLA CORE DB"
   ]
  },
  {
   "cell_type": "code",
   "execution_count": 81,
   "metadata": {},
   "outputs": [
    {
     "name": "stdout",
     "output_type": "stream",
     "text": [
      "[CORE] Initializing Milvus Database Core...\n",
      "[DB] init Embedding Model...\n",
      "[DB] init Embedding Model Successfully.\n",
      "[DB] Found Database: semantic_ragas\n",
      "[DB] Found Collection \"cnode_1\".\n",
      "[DB] Drop Collection \"cnode_1\"...\n",
      "cnode_1 has: 43 entities\n",
      "[DB] Drop Collection \"cnode_1\" Successfully.\n",
      "[DB] Create Collection \"cnode_1\"\n",
      "[DB] Collection \"cnode_1\" Is Ready.\n",
      "[DB] Found Collection \"gnode_1\".\n",
      "[DB] Drop Collection \"gnode_1\"...\n",
      "gnode_1 has: 0 entities\n",
      "[DB] Drop Collection \"gnode_1\" Successfully.\n",
      "[DB] Create Collection \"gnode_1\"\n",
      "[DB] Collection \"gnode_1\" Is Ready.\n",
      "[DB] Found Collection \"frontend_query_general_documents\".\n",
      "[DB] Drop Collection \"frontend_query_general_documents\"...\n",
      "frontend_query_general_documents has: 0 entities\n",
      "[DB] Drop Collection \"frontend_query_general_documents\" Successfully.\n",
      "[DB] Create Collection \"frontend_query_general_documents\"\n",
      "[DB] Collection \"frontend_query_general_documents\" Is Ready.\n",
      "Create Schma Successfuly.\n"
     ]
    }
   ],
   "source": [
    "import sys\n",
    "sys.path.insert(0, \"/Users/peerasit/senior_project/STELLA-Backend\")\n",
    "sys.path.insert(0, \"/Users/peerasit/senior_project/STELLA-Backend/milvus\")\n",
    "\n",
    "from milvus.core import Core\n",
    "from milvus.schema import INDEX_PARAMS, DATA_SOURCE_SCHEMA\n",
    "\n",
    "# core = Core(schema=DATA_SOURCE_SCHEMA, dense_embedding_model=embedding_model, collection_name=\"semantic\", system_prune=True, database_name=\"semantic_ragas\")\n",
    "core = Core(\n",
    "            database_name=\"semantic_ragas\",\n",
    "            schema=DATA_SOURCE_SCHEMA,\n",
    "            dense_embedding_model=embedding_model,\n",
    "            create_first_node=True,\n",
    "            system_prune_first_node=True,\n",
    "            token=\"\"\n",
    "        )\n",
    "\n",
    "# core.add_document(text_chunks)"
   ]
  },
  {
   "cell_type": "code",
   "execution_count": 82,
   "metadata": {},
   "outputs": [
    {
     "name": "stdout",
     "output_type": "stream",
     "text": [
      "<Collection>:\n",
      "-------------\n",
      "<name>: cnode_1\n",
      "<description>: Schema for Data Source Collection\n",
      "<schema>: {'auto_id': True, 'description': 'Schema for Data Source Collection', 'fields': [{'name': 'id', 'description': '', 'type': <DataType.INT64: 5>, 'is_primary': True, 'auto_id': True}, {'name': 'dense_vector', 'description': '', 'type': <DataType.FLOAT_VECTOR: 101>, 'params': {'dim': 1024}}, {'name': 'text', 'description': '', 'type': <DataType.VARCHAR: 21>, 'params': {'max_length': 8192}}, {'name': 'metadata', 'description': '', 'type': <DataType.JSON: 23>}], 'enable_dynamic_field': True}\n",
      "\n",
      "<class 'pymilvus.orm.collection.Collection'>\n",
      "[DB] Commit new Company\n",
      "[DB] Create New Partition\n",
      "[DB] Partition bts: 40 entities\n"
     ]
    }
   ],
   "source": [
    "core.add_document(name=\"bts\", documents=text_chunks, node_type=\"c\", sector_id=20)"
   ]
  },
  {
   "cell_type": "code",
   "execution_count": 83,
   "metadata": {},
   "outputs": [
    {
     "name": "stderr",
     "output_type": "stream",
     "text": [
      "DeprecationWarning: `metadata_field` is about to be deprecated, please set `enable_dynamic_field`=True instead.\n"
     ]
    }
   ],
   "source": [
    "config ={\n",
    "    \"k\": 4,\n",
    "    \"partition_names\": [\"bts\"],\n",
    "}\n",
    "chunk_retriver = core.initVectorStore(collection_name=\"cnode_1\", partition_names=[\"bts\"], search_kwargs=config)"
   ]
  },
  {
   "cell_type": "code",
   "execution_count": 84,
   "metadata": {},
   "outputs": [
    {
     "data": {
      "text/plain": [
       "[Document(metadata={}, page_content='การกำกับดูแลกิจการ\\nนโยบายการกำกับดูแลกิจการ'),\n",
       " Document(metadata={}, page_content='การกำกับดูแลกิจการ\\nโครงสร้างการกำกับดูแลกิจการ\\nและข้อมูลสำคัญเกี่ยวกับ\\nคณะกรรมการ คณะกรรมการชุดย่อย ผู้บริหาร\\nพนักงานและอื่นๆ'),\n",
       " Document(metadata={}, page_content='การประกอบธุรกิจและผลการดำเนินงาน\\nโครงสร้างและการดำเนินงานของกลุ่มบริษัท'),\n",
       " Document(metadata={}, page_content='การกำกับดูแลกิจการ\\nรายงานผลการดำเนินงานสำคัญ\\nด้านการกำกับดูแลกิจการ')]"
      ]
     },
     "execution_count": 84,
     "metadata": {},
     "output_type": "execute_result"
    }
   ],
   "source": [
    "chunk_retriver.invoke(\"องประกอบของคณะกรรมการบริษัท\")"
   ]
  },
  {
   "cell_type": "markdown",
   "metadata": {},
   "source": [
    "## Setup LLM For Generate Synthesised Data"
   ]
  },
  {
   "cell_type": "code",
   "execution_count": 85,
   "metadata": {},
   "outputs": [],
   "source": [
    "import os\n",
    "from langchain_openai import ChatOpenAI\n",
    "from dotenv import load_dotenv\n",
    "load_dotenv()\n",
    "\n",
    "OPENAI_API_KEY = os.environ[\"OPENAI_API_KEY\"] = os.getenv(\"OPEN_AI_API_KEY\")"
   ]
  },
  {
   "cell_type": "markdown",
   "metadata": {},
   "source": [
    "# LLM RAG"
   ]
  },
  {
   "cell_type": "code",
   "execution_count": 86,
   "metadata": {},
   "outputs": [],
   "source": [
    "from langchain_core.prompts import ChatPromptTemplate\n",
    "\n",
    "rag_template = \"\"\"\\\n",
    "Use the following context to answer the user's query. If you cannot answer, please respond with 'I don't know'.\n",
    "\n",
    "User's Query:\n",
    "{question}\n",
    "\n",
    "Context:\n",
    "{context}\n",
    "\"\"\"\n",
    "\n",
    "rag_prompt = ChatPromptTemplate.from_template(rag_template)"
   ]
  },
  {
   "cell_type": "code",
   "execution_count": 87,
   "metadata": {},
   "outputs": [],
   "source": [
    "from langchain_core.runnables import RunnablePassthrough\n",
    "from langchain_core.output_parsers import StrOutputParser\n",
    "from langchain_openai import ChatOpenAI\n",
    "\n",
    "llm = ChatOpenAI(model=\"gpt-3.5-turbo\",temperature=0, max_tokens=4096)\n",
    "\n",
    "recursive_rag_chain = (\n",
    "    {\"context\" : chunk_retriver, \"question\" : RunnablePassthrough()}\n",
    "    | rag_prompt\n",
    "    | llm\n",
    "    | StrOutputParser()\n",
    ")"
   ]
  },
  {
   "cell_type": "code",
   "execution_count": 88,
   "metadata": {},
   "outputs": [],
   "source": [
    "synthetic_data_chunks = text_chunks"
   ]
  },
  {
   "cell_type": "markdown",
   "metadata": {},
   "source": [
    "# LLM Question"
   ]
  },
  {
   "cell_type": "code",
   "execution_count": 89,
   "metadata": {},
   "outputs": [],
   "source": [
    "question_prompt = \"\"\"\\\n",
    "You are a teacher preparing a test. Please create a question that can be answered by referencing the following context.\n",
    "\n",
    "Context:\n",
    "{context}\n",
    "\"\"\"\n",
    "\n",
    "question_prompt = ChatPromptTemplate.from_template(question_prompt)\n",
    "question_chain = question_prompt | llm | StrOutputParser()"
   ]
  },
  {
   "cell_type": "markdown",
   "metadata": {},
   "source": [
    "# LLM Ground Truth"
   ]
  },
  {
   "cell_type": "code",
   "execution_count": 90,
   "metadata": {},
   "outputs": [],
   "source": [
    "ground_truth_prompt = \"\"\"\\\n",
    "Use the following context and question to answer this question using *only* the provided context.\n",
    "\n",
    "Question:\n",
    "{question}\n",
    "\n",
    "Context:\n",
    "{context}\n",
    "\"\"\"\n",
    "\n",
    "ground_truth_prompt = ChatPromptTemplate.from_template(ground_truth_prompt)\n",
    "ground_truth_chain = ground_truth_prompt | llm | StrOutputParser()"
   ]
  },
  {
   "cell_type": "markdown",
   "metadata": {},
   "source": [
    "## Create Synthesized Data"
   ]
  },
  {
   "cell_type": "code",
   "execution_count": 91,
   "metadata": {},
   "outputs": [],
   "source": [
    "questions = []\n",
    "ground_truths_recursive = []\n",
    "contexts = []\n",
    "answers = []\n",
    "\n",
    "for chunk in synthetic_data_chunks:\n",
    "  questions.append(question_chain.invoke({\"context\" : chunk.page_content}))\n",
    "  ground_truths_recursive.append(ground_truth_chain.invoke({\"question\" : questions[-1], \"context\" : chunk.page_content}))\n",
    "  contexts.append([d.page_content for d in chunk_retriver.get_relevant_documents(questions[-1])])\n",
    "  answers.append(recursive_rag_chain.invoke(questions[-1]))"
   ]
  },
  {
   "cell_type": "markdown",
   "metadata": {},
   "source": [
    "# Create Synthesized Data for Evaluation"
   ]
  },
  {
   "cell_type": "code",
   "execution_count": 92,
   "metadata": {},
   "outputs": [
    {
     "data": {
      "text/plain": [
       "Dataset({\n",
       "    features: ['question', 'answer', 'contexts', 'ground_truth'],\n",
       "    num_rows: 40\n",
       "})"
      ]
     },
     "execution_count": 92,
     "metadata": {},
     "output_type": "execute_result"
    }
   ],
   "source": [
    "from datasets import load_dataset, Dataset\n",
    "\n",
    "qagc_list = []\n",
    "\n",
    "for question, answer, context, ground_truth in zip(questions, answers, contexts, ground_truths_recursive):\n",
    "  qagc_list.append({\n",
    "      \"question\" : question,\n",
    "      \"answer\" : answer,\n",
    "      \"contexts\" : context,\n",
    "      \"ground_truth\" : ground_truth\n",
    "  })\n",
    "\n",
    "eval_dataset = Dataset.from_list(qagc_list)\n",
    "eval_dataset"
   ]
  },
  {
   "cell_type": "code",
   "execution_count": 93,
   "metadata": {},
   "outputs": [
    {
     "data": {
      "text/plain": [
       "{'question': 'What is the potential risk for shareholders when a company issues additional common shares to support the exercise of rights under warrants, according to the context provided?',\n",
       " 'answer': 'The potential risk for shareholders when a company issues additional common shares to support the exercise of rights under warrants is control dilution, which may impact the proportion of shares held by investors.',\n",
       " 'contexts': ['ความเสี่ยงต่อการลงทุนของผู้ถือหลักทรัพย์ (2.2.2)\\n • การลงทุนของผู้ถือหลักทรัพย์\\nความเสี่ยงจากการออกหุ้นสามัญเพิ่มทุนเพื่อรองรับการใช้สิทธิตามใบสำคัญแสดงของบริษัทฯ อาจส่งผลกระทบต่อ สัดส่วนการถือหุ้นของผู้ลงทุน\\n(Control Dilution)\\nมาตรการจัดการความเสี่ยง: มี\\nหัวข้อความเสี่ยงที่เกี่ยวข้อง\\n • การลงทุนของผู้ถือหลักทรัพย์\\nความเสี่ยงจากการมีผู้ถือหุ้นรายใหญ่ >25%\\nมาตรการจัดการความเสี่ยง: มี\\nหัวข้อความเสี่ยงที่เกี่ยวข้อง\\n10',\n",
       "  'การกำกับดูแลกิจการ\\nโครงสร้างการกำกับดูแลกิจการ\\nและข้อมูลสำคัญเกี่ยวกับ\\nคณะกรรมการ คณะกรรมการชุดย่อย ผู้บริหาร\\nพนักงานและอื่นๆ',\n",
       "  'การประกอบธุรกิจและผลการดำเนินงาน\\nการบริหารจัดการความเสี่ยง',\n",
       "  'การกำกับดูแลกิจการ\\nรายงานผลการดำเนินงานสำคัญ\\nด้านการกำกับดูแลกิจการ'],\n",
       " 'ground_truth': 'The potential risk for shareholders when a company issues additional common shares to support the exercise of rights under warrants is control dilution.'}"
      ]
     },
     "execution_count": 93,
     "metadata": {},
     "output_type": "execute_result"
    }
   ],
   "source": [
    "eval_dataset[13]\n"
   ]
  },
  {
   "cell_type": "markdown",
   "metadata": {},
   "source": [
    "# Evaluation with RAGAS"
   ]
  },
  {
   "cell_type": "code",
   "execution_count": 94,
   "metadata": {},
   "outputs": [
    {
     "name": "stderr",
     "output_type": "stream",
     "text": [
      "Evaluating: 100%|██████████| 80/80 [00:44<00:00,  1.78it/s]\n"
     ]
    },
    {
     "data": {
      "text/plain": [
       "{'context_precision': 0.6931, 'context_recall': 0.6875}"
      ]
     },
     "execution_count": 94,
     "metadata": {},
     "output_type": "execute_result"
    }
   ],
   "source": [
    "from ragas.metrics import (\n",
    "    answer_relevancy,\n",
    "    faithfulness,\n",
    "    context_recall,\n",
    "    context_precision,\n",
    ")\n",
    "\n",
    "from ragas import evaluate\n",
    "\n",
    "result = evaluate(\n",
    "    eval_dataset,\n",
    "    metrics=[\n",
    "        context_precision,\n",
    "        context_recall,\n",
    "        # faithfulness,\n",
    "        # answer_relevancy,\n",
    "    ],\n",
    ")\n",
    "result"
   ]
  },
  {
   "cell_type": "code",
   "execution_count": 95,
   "metadata": {},
   "outputs": [
    {
     "data": {
      "text/html": [
       "<div>\n",
       "<style scoped>\n",
       "    .dataframe tbody tr th:only-of-type {\n",
       "        vertical-align: middle;\n",
       "    }\n",
       "\n",
       "    .dataframe tbody tr th {\n",
       "        vertical-align: top;\n",
       "    }\n",
       "\n",
       "    .dataframe thead th {\n",
       "        text-align: right;\n",
       "    }\n",
       "</style>\n",
       "<table border=\"1\" class=\"dataframe\">\n",
       "  <thead>\n",
       "    <tr style=\"text-align: right;\">\n",
       "      <th></th>\n",
       "      <th>user_input</th>\n",
       "      <th>retrieved_contexts</th>\n",
       "      <th>response</th>\n",
       "      <th>reference</th>\n",
       "      <th>context_precision</th>\n",
       "      <th>context_recall</th>\n",
       "    </tr>\n",
       "  </thead>\n",
       "  <tbody>\n",
       "    <tr>\n",
       "      <th>0</th>\n",
       "      <td>Question:\\nWhat is the name of the company men...</td>\n",
       "      <td>[การประกอบธุรกิจและผลการดำเนินงาน\\nโครงสร้างแล...</td>\n",
       "      <td>I don't know.</td>\n",
       "      <td>บีทีเอส กรุ๊ป โฮลดิ้งส์ จำกัด (มหาชน)</td>\n",
       "      <td>0.000000</td>\n",
       "      <td>0.000000</td>\n",
       "    </tr>\n",
       "    <tr>\n",
       "      <th>1</th>\n",
       "      <td>Based on the context provided, please explain ...</td>\n",
       "      <td>[การประกอบธุรกิจและผลการดำเนินงาน\\nการบริหารจั...</td>\n",
       "      <td>Based on the context provided, the section tit...</td>\n",
       "      <td>The section titled \"การบริหารจัดการความเสี่ยง\"...</td>\n",
       "      <td>1.000000</td>\n",
       "      <td>0.333333</td>\n",
       "    </tr>\n",
       "    <tr>\n",
       "      <th>2</th>\n",
       "      <td>Question: อธิบายความสำคัญของโครงสร้างและการดำเ...</td>\n",
       "      <td>[การประกอบธุรกิจและผลการดำเนินงาน\\nโครงสร้างแล...</td>\n",
       "      <td>โครงสร้างและการดำเนินงานของกลุ่มบริษัทเป็นสิ่ง...</td>\n",
       "      <td>โครงสร้างและการดำเนินงานของกลุ่มบริษัทเป็นสิ่ง...</td>\n",
       "      <td>1.000000</td>\n",
       "      <td>1.000000</td>\n",
       "    </tr>\n",
       "    <tr>\n",
       "      <th>3</th>\n",
       "      <td>What is the full name of the company mentioned...</td>\n",
       "      <td>[การประกอบธุรกิจและผลการดำเนินงาน\\nโครงสร้างแล...</td>\n",
       "      <td>I don't know.</td>\n",
       "      <td>The full name of the company mentioned in the ...</td>\n",
       "      <td>0.000000</td>\n",
       "      <td>0.000000</td>\n",
       "    </tr>\n",
       "    <tr>\n",
       "      <th>4</th>\n",
       "      <td>Based on the context provided, please calculat...</td>\n",
       "      <td>[ลักษณะการประกอบธุรกิจ (1.2)\\nโครงสร้างรายได้ ...</td>\n",
       "      <td>I don't know.</td>\n",
       "      <td>To calculate the percentage of revenue from op...</td>\n",
       "      <td>1.000000</td>\n",
       "      <td>0.500000</td>\n",
       "    </tr>\n",
       "    <tr>\n",
       "      <th>5</th>\n",
       "      <td>Based on the context provided, please calculat...</td>\n",
       "      <td>[แบบ 56-1 One Report\\n(Structured Data Report)...</td>\n",
       "      <td>The total revenue from other sources for the y...</td>\n",
       "      <td>Total revenue from other sources for the year ...</td>\n",
       "      <td>0.500000</td>\n",
       "      <td>1.000000</td>\n",
       "    </tr>\n",
       "    <tr>\n",
       "      <th>6</th>\n",
       "      <td>Question: What is the importance of risk manag...</td>\n",
       "      <td>[การประกอบธุรกิจและผลการดำเนินงาน\\nการบริหารจั...</td>\n",
       "      <td>The importance of risk management in business ...</td>\n",
       "      <td>ความสำคัญของการบริหารจัดการความเสี่ยงในธุรกิจแ...</td>\n",
       "      <td>1.000000</td>\n",
       "      <td>1.000000</td>\n",
       "    </tr>\n",
       "    <tr>\n",
       "      <th>7</th>\n",
       "      <td>Based on the context provided, please explain ...</td>\n",
       "      <td>[การบริหารจัดการความเสี่ยง\\nปัจจัยความเสี่ยงต่...</td>\n",
       "      <td>Factors that pose risks to a company's busines...</td>\n",
       "      <td>Factors that pose risks to a company's busines...</td>\n",
       "      <td>1.000000</td>\n",
       "      <td>1.000000</td>\n",
       "    </tr>\n",
       "    <tr>\n",
       "      <th>8</th>\n",
       "      <td>Based on the context provided, please explain ...</td>\n",
       "      <td>[ความเสี่ยงด้านกลยุทธ์และการประกอบธุรกิจ (Stra...</td>\n",
       "      <td>Strategic risk refers to the potential for adv...</td>\n",
       "      <td>Strategic risk in business operations refers t...</td>\n",
       "      <td>1.000000</td>\n",
       "      <td>0.500000</td>\n",
       "    </tr>\n",
       "    <tr>\n",
       "      <th>9</th>\n",
       "      <td>Based on the context provided, please explain ...</td>\n",
       "      <td>[• การดำเนินโครงการในอนาคตไม่เป็นไปตามแผน\\n • ...</td>\n",
       "      <td>Relying on a small number of suppliers or dist...</td>\n",
       "      <td>Relying on a small number of suppliers or dist...</td>\n",
       "      <td>1.000000</td>\n",
       "      <td>1.000000</td>\n",
       "    </tr>\n",
       "    <tr>\n",
       "      <th>10</th>\n",
       "      <td>Based on the context provided, please explain ...</td>\n",
       "      <td>[• การทุจริตคอร์รัปชัน\\nความเสี่ยงด้านการเงิน ...</td>\n",
       "      <td>The financial risk related to changes in finan...</td>\n",
       "      <td>The financial risk related to changes in finan...</td>\n",
       "      <td>1.000000</td>\n",
       "      <td>0.500000</td>\n",
       "    </tr>\n",
       "    <tr>\n",
       "      <th>11</th>\n",
       "      <td>Based on the context provided, please explain ...</td>\n",
       "      <td>[• ความปลอดภัยของข้อมูลหรือระบบคอมพิวเตอร์และก...</td>\n",
       "      <td>Compliance risk refers to the potential for a ...</td>\n",
       "      <td>Compliance risk refers to the risk of not comp...</td>\n",
       "      <td>1.000000</td>\n",
       "      <td>1.000000</td>\n",
       "    </tr>\n",
       "    <tr>\n",
       "      <th>12</th>\n",
       "      <td>Based on the context provided, please explain ...</td>\n",
       "      <td>[• ความปลอดภัยของข้อมูลหรือระบบคอมพิวเตอร์และก...</td>\n",
       "      <td>Compliance Risk refers to the potential risk o...</td>\n",
       "      <td>Compliance Risk refers to the risk of violatin...</td>\n",
       "      <td>1.000000</td>\n",
       "      <td>0.500000</td>\n",
       "    </tr>\n",
       "    <tr>\n",
       "      <th>13</th>\n",
       "      <td>What is the potential risk for shareholders wh...</td>\n",
       "      <td>[ความเสี่ยงต่อการลงทุนของผู้ถือหลักทรัพย์ (2.2...</td>\n",
       "      <td>The potential risk for shareholders when a com...</td>\n",
       "      <td>The potential risk for shareholders when a com...</td>\n",
       "      <td>1.000000</td>\n",
       "      <td>1.000000</td>\n",
       "    </tr>\n",
       "    <tr>\n",
       "      <th>14</th>\n",
       "      <td>Question: What is the key to driving sustainab...</td>\n",
       "      <td>[การประกอบธุรกิจและผลการดำเนินงาน\\nการขับเคลื่...</td>\n",
       "      <td>I don't know.</td>\n",
       "      <td>The key to driving sustainable business growth...</td>\n",
       "      <td>0.750000</td>\n",
       "      <td>1.000000</td>\n",
       "    </tr>\n",
       "    <tr>\n",
       "      <th>15</th>\n",
       "      <td>Based on the provided data, calculate the tota...</td>\n",
       "      <td>[2565\\n2566\\n2567\\nปริมาณการใช้น้ำรวม (ลูกบาศก...</td>\n",
       "      <td>I don't know.</td>\n",
       "      <td>To calculate the total amount of diesel fuel u...</td>\n",
       "      <td>0.000000</td>\n",
       "      <td>0.000000</td>\n",
       "    </tr>\n",
       "    <tr>\n",
       "      <th>16</th>\n",
       "      <td>Based on the context provided, please answer t...</td>\n",
       "      <td>[2565\\n2566\\n2567\\nปริมาณการใช้น้ำรวม (ลูกบาศก...</td>\n",
       "      <td>I don't know.</td>\n",
       "      <td>The total amount of non-hazardous waste genera...</td>\n",
       "      <td>1.000000</td>\n",
       "      <td>1.000000</td>\n",
       "    </tr>\n",
       "    <tr>\n",
       "      <th>17</th>\n",
       "      <td>Based on the context provided, please explain ...</td>\n",
       "      <td>[การจัดการความยั่งยืนในมิติสังคม (3.4)\\nนโยบาย...</td>\n",
       "      <td>I don't know.</td>\n",
       "      <td>Based on the context provided, the company's p...</td>\n",
       "      <td>1.000000</td>\n",
       "      <td>1.000000</td>\n",
       "    </tr>\n",
       "    <tr>\n",
       "      <th>18</th>\n",
       "      <td>Based on the context provided, please answer t...</td>\n",
       "      <td>[จำนวนเหตุการณ์บาดเจ็บจากการทำงานของพนักงาน\\nจ...</td>\n",
       "      <td>I don't know.</td>\n",
       "      <td>Based on the context provided, the proportion ...</td>\n",
       "      <td>1.000000</td>\n",
       "      <td>1.000000</td>\n",
       "    </tr>\n",
       "    <tr>\n",
       "      <th>19</th>\n",
       "      <td>Question: What is the term in Thai for \"corpor...</td>\n",
       "      <td>[การกำกับดูแลกิจการ\\nนโยบายการกำกับดูแลกิจการ,...</td>\n",
       "      <td>Answer: การกำกับดูแลกิจการ (kān kạb dū læ kịt ...</td>\n",
       "      <td>The term in Thai for \"corporate governance\" is...</td>\n",
       "      <td>0.916667</td>\n",
       "      <td>1.000000</td>\n",
       "    </tr>\n",
       "    <tr>\n",
       "      <th>20</th>\n",
       "      <td>Based on the context provided, please explain ...</td>\n",
       "      <td>[การกำกับดูแลกิจการ\\nนโยบายการกำกับดูแลกิจการ,...</td>\n",
       "      <td>Based on the context provided, the company has...</td>\n",
       "      <td>Based on the context provided, the corporate g...</td>\n",
       "      <td>0.333333</td>\n",
       "      <td>1.000000</td>\n",
       "    </tr>\n",
       "    <tr>\n",
       "      <th>21</th>\n",
       "      <td>Question: What is the term in Thai for \"corpor...</td>\n",
       "      <td>[การกำกับดูแลกิจการ\\nนโยบายการกำกับดูแลกิจการ,...</td>\n",
       "      <td>Answer: การกำกับดูแลกิจการ (kān kạb dū læ kịt ...</td>\n",
       "      <td>The term in Thai for \"corporate governance\" is...</td>\n",
       "      <td>0.916667</td>\n",
       "      <td>1.000000</td>\n",
       "    </tr>\n",
       "    <tr>\n",
       "      <th>22</th>\n",
       "      <td>. What is the total number of members in the b...</td>\n",
       "      <td>[การกำกับดูแลกิจการ\\nโครงสร้างการกำกับดูแลกิจก...</td>\n",
       "      <td>A) 11</td>\n",
       "      <td>The total number of members in the board of di...</td>\n",
       "      <td>0.638889</td>\n",
       "      <td>1.000000</td>\n",
       "    </tr>\n",
       "    <tr>\n",
       "      <th>23</th>\n",
       "      <td>โลจิสติกส์, การเงิน, การตลาด, การจัดการ\\nทรัพย...</td>\n",
       "      <td>[• การดำเนินโครงการในอนาคตไม่เป็นไปตามแผน\\n • ...</td>\n",
       "      <td>I don't know.</td>\n",
       "      <td>โลจิสติกส์, เทคโนโลยีสารสนเทศและการสื่อสาร, กา...</td>\n",
       "      <td>0.000000</td>\n",
       "      <td>0.500000</td>\n",
       "    </tr>\n",
       "    <tr>\n",
       "      <th>24</th>\n",
       "      <td>Based on the context provided, please identify...</td>\n",
       "      <td>[สาขา: วิศวกรรม\\nสัญชาติไทย: ใช่\\nถิ่นที่อยู่ใ...</td>\n",
       "      <td>นาย การุญ จันทรางศุ</td>\n",
       "      <td>นาย สุรพงษ์ เลาหะอัญญา</td>\n",
       "      <td>0.000000</td>\n",
       "      <td>0.000000</td>\n",
       "    </tr>\n",
       "    <tr>\n",
       "      <th>25</th>\n",
       "      <td>Based on the context provided, please identify...</td>\n",
       "      <td>[การกำกับดูแลกิจการ\\nโครงสร้างการกำกับดูแลกิจก...</td>\n",
       "      <td>นาย ไพศาล ธรสารสมบัติ</td>\n",
       "      <td>Based on the context provided, นาย ไพศาล ธรสาร...</td>\n",
       "      <td>0.583333</td>\n",
       "      <td>1.000000</td>\n",
       "    </tr>\n",
       "    <tr>\n",
       "      <th>26</th>\n",
       "      <td>What is the nationality of นาย ไพศาล ธรสารสมบัติ?</td>\n",
       "      <td>[สาขา: วิศวกรรม\\nสัญชาติไทย: ใช่\\nถิ่นที่อยู่ใ...</td>\n",
       "      <td>นาย ไพศาล ธรสารสมบัติ is of Thai nationality.</td>\n",
       "      <td>The nationality of นาย ไพศาล ธรสารสมบัติ is Thai.</td>\n",
       "      <td>1.000000</td>\n",
       "      <td>1.000000</td>\n",
       "    </tr>\n",
       "    <tr>\n",
       "      <th>27</th>\n",
       "      <td>Based on the context provided, please identify...</td>\n",
       "      <td>[รายชื่อกรรมการที่ลาออก/พ้นจากตำแหน่งระหว่างปี...</td>\n",
       "      <td>The committee member ceased to hold their posi...</td>\n",
       "      <td>The committee member ceased to hold their posi...</td>\n",
       "      <td>1.000000</td>\n",
       "      <td>1.000000</td>\n",
       "    </tr>\n",
       "    <tr>\n",
       "      <th>28</th>\n",
       "      <td>Based on the context provided, please identify...</td>\n",
       "      <td>[ข้อมูลเกี่ยวกับคณะกรรมการชุดย่อย (7.3)\\nข้อมู...</td>\n",
       "      <td>Based on the context provided, the individual ...</td>\n",
       "      <td>Based on the context provided, the individual ...</td>\n",
       "      <td>1.000000</td>\n",
       "      <td>0.000000</td>\n",
       "    </tr>\n",
       "    <tr>\n",
       "      <th>29</th>\n",
       "      <td>Based on the context provided, please identify...</td>\n",
       "      <td>[นาย เจริญ วรรธนะสิน\\nเพศ: ชาย\\nอายุ: 87 ปี\\nว...</td>\n",
       "      <td>นาย คีรี กาญจนพาสน์ holds the position of Chai...</td>\n",
       "      <td>Based on the context provided, the individual ...</td>\n",
       "      <td>0.333333</td>\n",
       "      <td>1.000000</td>\n",
       "    </tr>\n",
       "    <tr>\n",
       "      <th>30</th>\n",
       "      <td>Based on the context provided, please identify...</td>\n",
       "      <td>[การประกอบธุรกิจและผลการดำเนินงาน\\nการบริหารจั...</td>\n",
       "      <td>I don't know.</td>\n",
       "      <td>Based on the context provided, the name of the...</td>\n",
       "      <td>0.500000</td>\n",
       "      <td>0.000000</td>\n",
       "    </tr>\n",
       "    <tr>\n",
       "      <th>31</th>\n",
       "      <td>Based on the context provided, please list the...</td>\n",
       "      <td>[นาย เจริญ วรรธนะสิน\\nเพศ: ชาย\\nอายุ: 87 ปี\\nว...</td>\n",
       "      <td>I don't know.</td>\n",
       "      <td>1. นาย กวิน กาญจนพาสน์ - กรรมการผู้อำนวยการใหญ...</td>\n",
       "      <td>0.416667</td>\n",
       "      <td>0.000000</td>\n",
       "    </tr>\n",
       "    <tr>\n",
       "      <th>32</th>\n",
       "      <td>Based on the context provided, please identify...</td>\n",
       "      <td>[นาย เจริญ วรรธนะสิน\\nเพศ: ชาย\\nอายุ: 87 ปี\\nว...</td>\n",
       "      <td>I don't know.</td>\n",
       "      <td>Based on the context provided, the individual ...</td>\n",
       "      <td>0.250000</td>\n",
       "      <td>1.000000</td>\n",
       "    </tr>\n",
       "    <tr>\n",
       "      <th>33</th>\n",
       "      <td>Question: What is the total compensation of th...</td>\n",
       "      <td>[จำนวนค่าตอบแทนรวมของผู้บริหาร\\n2565\\n2566\\n25...</td>\n",
       "      <td>I don't know.</td>\n",
       "      <td>The total compensation of the executives in 25...</td>\n",
       "      <td>0.833333</td>\n",
       "      <td>1.000000</td>\n",
       "    </tr>\n",
       "    <tr>\n",
       "      <th>34</th>\n",
       "      <td>Question: What is the importance of reporting ...</td>\n",
       "      <td>[การกำกับดูแลกิจการ\\nรายงานผลการดำเนินงานสำคัญ...</td>\n",
       "      <td>Reporting key performance indicators in corpor...</td>\n",
       "      <td>Reporting key performance indicators in corpor...</td>\n",
       "      <td>0.000000</td>\n",
       "      <td>0.666667</td>\n",
       "    </tr>\n",
       "    <tr>\n",
       "      <th>35</th>\n",
       "      <td>Based on the context provided, please list the...</td>\n",
       "      <td>[รายงานผลการดำเนินงานสำคัญด้านการกำกับดูแลกิจก...</td>\n",
       "      <td>I don't know.</td>\n",
       "      <td>The new board members appointed in the past ye...</td>\n",
       "      <td>1.000000</td>\n",
       "      <td>0.000000</td>\n",
       "    </tr>\n",
       "    <tr>\n",
       "      <th>36</th>\n",
       "      <td>Based on the context provided, please identify...</td>\n",
       "      <td>[การพัฒนากรรมการในรอบปีที่ผ่านมา\\nรายชื่อกรรมก...</td>\n",
       "      <td>นาย ไพศาล ธรสารสมบัติ held a position as a com...</td>\n",
       "      <td>นาย การุญ จันทรางศุ held a position as a commi...</td>\n",
       "      <td>1.000000</td>\n",
       "      <td>0.000000</td>\n",
       "    </tr>\n",
       "    <tr>\n",
       "      <th>37</th>\n",
       "      <td>Based on the context provided, please list the...</td>\n",
       "      <td>[การพัฒนากรรมการในรอบปีที่ผ่านมา\\nรายชื่อกรรมก...</td>\n",
       "      <td>นาย คีรี กาญจนพาสน์\\nนาย รังสิน กฤตลักษณ์\\nนาย...</td>\n",
       "      <td>คีรี กาญจนพาสน์\\nรังสิน กฤตลักษณ์\\nชิ เคือง คง...</td>\n",
       "      <td>1.000000</td>\n",
       "      <td>1.000000</td>\n",
       "    </tr>\n",
       "    <tr>\n",
       "      <th>38</th>\n",
       "      <td>Based on the context provided, please answer t...</td>\n",
       "      <td>[การพัฒนากรรมการในรอบปีที่ผ่านมา\\nรายชื่อกรรมก...</td>\n",
       "      <td>The annual meeting fee for committee member nu...</td>\n",
       "      <td>The annual meeting fee for committee member nu...</td>\n",
       "      <td>0.500000</td>\n",
       "      <td>1.000000</td>\n",
       "    </tr>\n",
       "    <tr>\n",
       "      <th>39</th>\n",
       "      <td>Based on the context provided, please answer t...</td>\n",
       "      <td>[การกำกับดูแลกิจการ\\nรายงานผลการดำเนินงานสำคัญ...</td>\n",
       "      <td>I don't know.</td>\n",
       "      <td>The Audit Committee met 4 times in the past year.</td>\n",
       "      <td>0.250000</td>\n",
       "      <td>1.000000</td>\n",
       "    </tr>\n",
       "  </tbody>\n",
       "</table>\n",
       "</div>"
      ],
      "text/plain": [
       "                                           user_input  \\\n",
       "0   Question:\\nWhat is the name of the company men...   \n",
       "1   Based on the context provided, please explain ...   \n",
       "2   Question: อธิบายความสำคัญของโครงสร้างและการดำเ...   \n",
       "3   What is the full name of the company mentioned...   \n",
       "4   Based on the context provided, please calculat...   \n",
       "5   Based on the context provided, please calculat...   \n",
       "6   Question: What is the importance of risk manag...   \n",
       "7   Based on the context provided, please explain ...   \n",
       "8   Based on the context provided, please explain ...   \n",
       "9   Based on the context provided, please explain ...   \n",
       "10  Based on the context provided, please explain ...   \n",
       "11  Based on the context provided, please explain ...   \n",
       "12  Based on the context provided, please explain ...   \n",
       "13  What is the potential risk for shareholders wh...   \n",
       "14  Question: What is the key to driving sustainab...   \n",
       "15  Based on the provided data, calculate the tota...   \n",
       "16  Based on the context provided, please answer t...   \n",
       "17  Based on the context provided, please explain ...   \n",
       "18  Based on the context provided, please answer t...   \n",
       "19  Question: What is the term in Thai for \"corpor...   \n",
       "20  Based on the context provided, please explain ...   \n",
       "21  Question: What is the term in Thai for \"corpor...   \n",
       "22  . What is the total number of members in the b...   \n",
       "23  โลจิสติกส์, การเงิน, การตลาด, การจัดการ\\nทรัพย...   \n",
       "24  Based on the context provided, please identify...   \n",
       "25  Based on the context provided, please identify...   \n",
       "26  What is the nationality of นาย ไพศาล ธรสารสมบัติ?   \n",
       "27  Based on the context provided, please identify...   \n",
       "28  Based on the context provided, please identify...   \n",
       "29  Based on the context provided, please identify...   \n",
       "30  Based on the context provided, please identify...   \n",
       "31  Based on the context provided, please list the...   \n",
       "32  Based on the context provided, please identify...   \n",
       "33  Question: What is the total compensation of th...   \n",
       "34  Question: What is the importance of reporting ...   \n",
       "35  Based on the context provided, please list the...   \n",
       "36  Based on the context provided, please identify...   \n",
       "37  Based on the context provided, please list the...   \n",
       "38  Based on the context provided, please answer t...   \n",
       "39  Based on the context provided, please answer t...   \n",
       "\n",
       "                                   retrieved_contexts  \\\n",
       "0   [การประกอบธุรกิจและผลการดำเนินงาน\\nโครงสร้างแล...   \n",
       "1   [การประกอบธุรกิจและผลการดำเนินงาน\\nการบริหารจั...   \n",
       "2   [การประกอบธุรกิจและผลการดำเนินงาน\\nโครงสร้างแล...   \n",
       "3   [การประกอบธุรกิจและผลการดำเนินงาน\\nโครงสร้างแล...   \n",
       "4   [ลักษณะการประกอบธุรกิจ (1.2)\\nโครงสร้างรายได้ ...   \n",
       "5   [แบบ 56-1 One Report\\n(Structured Data Report)...   \n",
       "6   [การประกอบธุรกิจและผลการดำเนินงาน\\nการบริหารจั...   \n",
       "7   [การบริหารจัดการความเสี่ยง\\nปัจจัยความเสี่ยงต่...   \n",
       "8   [ความเสี่ยงด้านกลยุทธ์และการประกอบธุรกิจ (Stra...   \n",
       "9   [• การดำเนินโครงการในอนาคตไม่เป็นไปตามแผน\\n • ...   \n",
       "10  [• การทุจริตคอร์รัปชัน\\nความเสี่ยงด้านการเงิน ...   \n",
       "11  [• ความปลอดภัยของข้อมูลหรือระบบคอมพิวเตอร์และก...   \n",
       "12  [• ความปลอดภัยของข้อมูลหรือระบบคอมพิวเตอร์และก...   \n",
       "13  [ความเสี่ยงต่อการลงทุนของผู้ถือหลักทรัพย์ (2.2...   \n",
       "14  [การประกอบธุรกิจและผลการดำเนินงาน\\nการขับเคลื่...   \n",
       "15  [2565\\n2566\\n2567\\nปริมาณการใช้น้ำรวม (ลูกบาศก...   \n",
       "16  [2565\\n2566\\n2567\\nปริมาณการใช้น้ำรวม (ลูกบาศก...   \n",
       "17  [การจัดการความยั่งยืนในมิติสังคม (3.4)\\nนโยบาย...   \n",
       "18  [จำนวนเหตุการณ์บาดเจ็บจากการทำงานของพนักงาน\\nจ...   \n",
       "19  [การกำกับดูแลกิจการ\\nนโยบายการกำกับดูแลกิจการ,...   \n",
       "20  [การกำกับดูแลกิจการ\\nนโยบายการกำกับดูแลกิจการ,...   \n",
       "21  [การกำกับดูแลกิจการ\\nนโยบายการกำกับดูแลกิจการ,...   \n",
       "22  [การกำกับดูแลกิจการ\\nโครงสร้างการกำกับดูแลกิจก...   \n",
       "23  [• การดำเนินโครงการในอนาคตไม่เป็นไปตามแผน\\n • ...   \n",
       "24  [สาขา: วิศวกรรม\\nสัญชาติไทย: ใช่\\nถิ่นที่อยู่ใ...   \n",
       "25  [การกำกับดูแลกิจการ\\nโครงสร้างการกำกับดูแลกิจก...   \n",
       "26  [สาขา: วิศวกรรม\\nสัญชาติไทย: ใช่\\nถิ่นที่อยู่ใ...   \n",
       "27  [รายชื่อกรรมการที่ลาออก/พ้นจากตำแหน่งระหว่างปี...   \n",
       "28  [ข้อมูลเกี่ยวกับคณะกรรมการชุดย่อย (7.3)\\nข้อมู...   \n",
       "29  [นาย เจริญ วรรธนะสิน\\nเพศ: ชาย\\nอายุ: 87 ปี\\nว...   \n",
       "30  [การประกอบธุรกิจและผลการดำเนินงาน\\nการบริหารจั...   \n",
       "31  [นาย เจริญ วรรธนะสิน\\nเพศ: ชาย\\nอายุ: 87 ปี\\nว...   \n",
       "32  [นาย เจริญ วรรธนะสิน\\nเพศ: ชาย\\nอายุ: 87 ปี\\nว...   \n",
       "33  [จำนวนค่าตอบแทนรวมของผู้บริหาร\\n2565\\n2566\\n25...   \n",
       "34  [การกำกับดูแลกิจการ\\nรายงานผลการดำเนินงานสำคัญ...   \n",
       "35  [รายงานผลการดำเนินงานสำคัญด้านการกำกับดูแลกิจก...   \n",
       "36  [การพัฒนากรรมการในรอบปีที่ผ่านมา\\nรายชื่อกรรมก...   \n",
       "37  [การพัฒนากรรมการในรอบปีที่ผ่านมา\\nรายชื่อกรรมก...   \n",
       "38  [การพัฒนากรรมการในรอบปีที่ผ่านมา\\nรายชื่อกรรมก...   \n",
       "39  [การกำกับดูแลกิจการ\\nรายงานผลการดำเนินงานสำคัญ...   \n",
       "\n",
       "                                             response  \\\n",
       "0                                       I don't know.   \n",
       "1   Based on the context provided, the section tit...   \n",
       "2   โครงสร้างและการดำเนินงานของกลุ่มบริษัทเป็นสิ่ง...   \n",
       "3                                       I don't know.   \n",
       "4                                       I don't know.   \n",
       "5   The total revenue from other sources for the y...   \n",
       "6   The importance of risk management in business ...   \n",
       "7   Factors that pose risks to a company's busines...   \n",
       "8   Strategic risk refers to the potential for adv...   \n",
       "9   Relying on a small number of suppliers or dist...   \n",
       "10  The financial risk related to changes in finan...   \n",
       "11  Compliance risk refers to the potential for a ...   \n",
       "12  Compliance Risk refers to the potential risk o...   \n",
       "13  The potential risk for shareholders when a com...   \n",
       "14                                      I don't know.   \n",
       "15                                      I don't know.   \n",
       "16                                      I don't know.   \n",
       "17                                      I don't know.   \n",
       "18                                      I don't know.   \n",
       "19  Answer: การกำกับดูแลกิจการ (kān kạb dū læ kịt ...   \n",
       "20  Based on the context provided, the company has...   \n",
       "21  Answer: การกำกับดูแลกิจการ (kān kạb dū læ kịt ...   \n",
       "22                                              A) 11   \n",
       "23                                      I don't know.   \n",
       "24                                นาย การุญ จันทรางศุ   \n",
       "25                              นาย ไพศาล ธรสารสมบัติ   \n",
       "26      นาย ไพศาล ธรสารสมบัติ is of Thai nationality.   \n",
       "27  The committee member ceased to hold their posi...   \n",
       "28  Based on the context provided, the individual ...   \n",
       "29  นาย คีรี กาญจนพาสน์ holds the position of Chai...   \n",
       "30                                      I don't know.   \n",
       "31                                      I don't know.   \n",
       "32                                      I don't know.   \n",
       "33                                      I don't know.   \n",
       "34  Reporting key performance indicators in corpor...   \n",
       "35                                      I don't know.   \n",
       "36  นาย ไพศาล ธรสารสมบัติ held a position as a com...   \n",
       "37  นาย คีรี กาญจนพาสน์\\nนาย รังสิน กฤตลักษณ์\\nนาย...   \n",
       "38  The annual meeting fee for committee member nu...   \n",
       "39                                      I don't know.   \n",
       "\n",
       "                                            reference  context_precision  \\\n",
       "0               บีทีเอส กรุ๊ป โฮลดิ้งส์ จำกัด (มหาชน)           0.000000   \n",
       "1   The section titled \"การบริหารจัดการความเสี่ยง\"...           1.000000   \n",
       "2   โครงสร้างและการดำเนินงานของกลุ่มบริษัทเป็นสิ่ง...           1.000000   \n",
       "3   The full name of the company mentioned in the ...           0.000000   \n",
       "4   To calculate the percentage of revenue from op...           1.000000   \n",
       "5   Total revenue from other sources for the year ...           0.500000   \n",
       "6   ความสำคัญของการบริหารจัดการความเสี่ยงในธุรกิจแ...           1.000000   \n",
       "7   Factors that pose risks to a company's busines...           1.000000   \n",
       "8   Strategic risk in business operations refers t...           1.000000   \n",
       "9   Relying on a small number of suppliers or dist...           1.000000   \n",
       "10  The financial risk related to changes in finan...           1.000000   \n",
       "11  Compliance risk refers to the risk of not comp...           1.000000   \n",
       "12  Compliance Risk refers to the risk of violatin...           1.000000   \n",
       "13  The potential risk for shareholders when a com...           1.000000   \n",
       "14  The key to driving sustainable business growth...           0.750000   \n",
       "15  To calculate the total amount of diesel fuel u...           0.000000   \n",
       "16  The total amount of non-hazardous waste genera...           1.000000   \n",
       "17  Based on the context provided, the company's p...           1.000000   \n",
       "18  Based on the context provided, the proportion ...           1.000000   \n",
       "19  The term in Thai for \"corporate governance\" is...           0.916667   \n",
       "20  Based on the context provided, the corporate g...           0.333333   \n",
       "21  The term in Thai for \"corporate governance\" is...           0.916667   \n",
       "22  The total number of members in the board of di...           0.638889   \n",
       "23  โลจิสติกส์, เทคโนโลยีสารสนเทศและการสื่อสาร, กา...           0.000000   \n",
       "24                             นาย สุรพงษ์ เลาหะอัญญา           0.000000   \n",
       "25  Based on the context provided, นาย ไพศาล ธรสาร...           0.583333   \n",
       "26  The nationality of นาย ไพศาล ธรสารสมบัติ is Thai.           1.000000   \n",
       "27  The committee member ceased to hold their posi...           1.000000   \n",
       "28  Based on the context provided, the individual ...           1.000000   \n",
       "29  Based on the context provided, the individual ...           0.333333   \n",
       "30  Based on the context provided, the name of the...           0.500000   \n",
       "31  1. นาย กวิน กาญจนพาสน์ - กรรมการผู้อำนวยการใหญ...           0.416667   \n",
       "32  Based on the context provided, the individual ...           0.250000   \n",
       "33  The total compensation of the executives in 25...           0.833333   \n",
       "34  Reporting key performance indicators in corpor...           0.000000   \n",
       "35  The new board members appointed in the past ye...           1.000000   \n",
       "36  นาย การุญ จันทรางศุ held a position as a commi...           1.000000   \n",
       "37  คีรี กาญจนพาสน์\\nรังสิน กฤตลักษณ์\\nชิ เคือง คง...           1.000000   \n",
       "38  The annual meeting fee for committee member nu...           0.500000   \n",
       "39  The Audit Committee met 4 times in the past year.           0.250000   \n",
       "\n",
       "    context_recall  \n",
       "0         0.000000  \n",
       "1         0.333333  \n",
       "2         1.000000  \n",
       "3         0.000000  \n",
       "4         0.500000  \n",
       "5         1.000000  \n",
       "6         1.000000  \n",
       "7         1.000000  \n",
       "8         0.500000  \n",
       "9         1.000000  \n",
       "10        0.500000  \n",
       "11        1.000000  \n",
       "12        0.500000  \n",
       "13        1.000000  \n",
       "14        1.000000  \n",
       "15        0.000000  \n",
       "16        1.000000  \n",
       "17        1.000000  \n",
       "18        1.000000  \n",
       "19        1.000000  \n",
       "20        1.000000  \n",
       "21        1.000000  \n",
       "22        1.000000  \n",
       "23        0.500000  \n",
       "24        0.000000  \n",
       "25        1.000000  \n",
       "26        1.000000  \n",
       "27        1.000000  \n",
       "28        0.000000  \n",
       "29        1.000000  \n",
       "30        0.000000  \n",
       "31        0.000000  \n",
       "32        1.000000  \n",
       "33        1.000000  \n",
       "34        0.666667  \n",
       "35        0.000000  \n",
       "36        0.000000  \n",
       "37        1.000000  \n",
       "38        1.000000  \n",
       "39        1.000000  "
      ]
     },
     "execution_count": 95,
     "metadata": {},
     "output_type": "execute_result"
    }
   ],
   "source": [
    "results_df = result.to_pandas()\n",
    "results_df"
   ]
  },
  {
   "cell_type": "code",
   "execution_count": 96,
   "metadata": {},
   "outputs": [
    {
     "data": {
      "text/plain": [
       "{'question': 'Based on the context provided, please list the names of the new board members appointed in the past year.',\n",
       " 'answer': \"I don't know.\",\n",
       " 'contexts': ['รายงานผลการดำเนินงานสำคัญด้านการกำกับดูแลกิจการ\\nสรุปผลการปฏิบัติหน้าที่ของคณะกรรมการในรอบปีที่ผ่านมา (8.1)\\nการสรรหาคณะกรรมการ / การพัฒนากรรมการ / การประเมินผลการปฎิบัติหน้าที่ของกรรมการ (8.1.1)\\nรายชื่อกรรมการใหม่ที่ได้รับการแต่งตั้งในรอบปีที่ผ่านมา\\n • รายชื่อกรรมการที่หมดวาระและได้รับการแต่งตั้งกลับเข้ามาใหม่\\nข้อมูลทั่วไป\\nตำแหน่งของกรรมการ\\nวันเริ่มดำรงตำแหน่ง\\nประสบการณ์และความชำนาญ\\nนาย รังสิน กฤตลักษณ์\\nเพศ: ชาย\\nอายุ: 62 ปี\\nวุฒิการศึกษา: ปริญญาโท\\nสาขา: บริหารธุรกิจ\\nสัญชาติไทย: ใช่\\nถิ่นที่อยู่ในประเทศไทย: ใช่\\n1.\\nกรรมการ\\n(กรรมการที่เป็นผู้บริหาร)\\nประเภทของกรรมการ: กรรมการ\\nที่หมดวาระและได้รับการแต่งตั้ง\\nกลับเข้ามาใหม่\\nวันที่ดำรงตำแหน่ง:\\n18 ธ.ค. 2549\\nพัฒนาอสังหาริมทรัพย์, ขนส่งและ\\nโลจิสติกส์, เทคโนโลยีสารสนเทศ\\nและการสื่อสาร, กฎหมาย, การ\\nตลาด, บัญชี, การเงิน, ความ\\nรับผิดชอบต่อสังคม, การจัดการ\\nทรัพยากรมนุษย์, ความยั่งยืน, จัดซื้อ,\\nการจัดการเทคโนโลยีสารสนเทศ,\\nสถาปัตยกรรม, บรรษัทภิบาล/ การ\\nกำกับดูแล\\nนาย กวิน กาญจนพาสน์\\nเพศ: ชาย\\nอายุ: 49 ปี\\nวุฒิการศึกษา: ต่ำกว่าปริญญาตรี\\nสาขา: -\\nสัญชาติไทย: ใช่\\nถิ่นที่อยู่ในประเทศไทย: ใช่\\n2.\\nกรรมการ\\n(กรรมการที่เป็นผู้บริหาร)\\nประเภทของกรรมการ: กรรมการ\\nที่หมดวาระและได้รับการแต่งตั้ง\\nกลับเข้ามาใหม่\\nวันที่ดำรงตำแหน่ง:\\n29 ก.ค. 2553\\nประกันภัยและประกันชีวิต, พัฒนา\\nอสังหาริมทรัพย์, ขนส่งและ\\nโลจิสติกส์, สื่อและสิ่งพิมพ์,\\nเทคโนโลยีสารสนเทศและการ\\nสื่อสาร, การตลาด, การเงิน, การ\\nตลาดดิจิทัล, วิศวกรรม, การจัดการ\\nองค์กร, ผู้นำ, การจัดการกลยุทธ์,\\nการจัดการความเสี่ยง\\nนาย การุญ จันทรางศุ\\nเพศ: ชาย\\nอายุ: 75 ปี\\nวุฒิการศึกษา: ปริญญาเอก\\nสาขา: วิศวกรรม\\nสัญชาติไทย: ใช่\\nถิ่นที่อยู่ในประเทศไทย: ใช่\\n3.\\nกรรมการ\\n(กรรมการที่ไม่เป็นผู้บริหาร,\\nกรรมการอิสระ)\\nประเภทของกรรมการ: กรรมการ',\n",
       "  'นาย เจริญ วรรธนะสิน\\nเพศ: ชาย\\nอายุ: 87 ปี\\nวุฒิการศึกษา: ต่ำกว่าปริญญาตรี\\nสาขา: บริหารธุรกิจ\\nสัญชาติไทย: ใช่\\nถิ่นที่อยู่ในประเทศไทย: ใช่\\n7.\\nกรรมการ\\n(กรรมการที่ไม่เป็นผู้บริหาร,\\nกรรมการอิสระ)\\nประเภทของกรรมการ: กรรมการ\\nเดิม\\n29 ก.ค. 2553\\nการตลาด, ความรับผิดชอบต่อสังคม,\\nความยั่งยืน, การจัดการความเสี่ยง,\\nการจัดการองค์กร\\nนาย ยิง ชิว เฮนรี่ ชอง\\nเพศ: ชาย\\nอายุ: 76 ปี\\nวุฒิการศึกษา: ปริญญาโท\\nสาขา: การจัดการ\\nสัญชาติไทย: ไม่ใช่\\nถิ่นที่อยู่ในประเทศไทย: ไม่ใช่\\n8.\\nกรรมการ\\n(กรรมการที่ไม่เป็นผู้บริหาร,\\nกรรมการอิสระ)\\nประเภทของกรรมการ: กรรมการ\\nเดิม\\n29 ก.ค. 2553\\nเทคโนโลยีสารสนเทศและการ\\nสื่อสาร, การตลาด, การเงิน, การ\\nจัดการเทคโนโลยีสารสนเทศ, การ\\nจัดการองค์กร, การจัดการข้อมูล,\\nเงินทุนและหลักทรัพย์\\nนาง พิจิตรา มหาพล\\nเพศ: หญิง\\nอายุ: 73 ปี\\nวุฒิการศึกษา: ปริญญาตรี\\nสาขา: -\\nสัญชาติไทย: ใช่\\nถิ่นที่อยู่ในประเทศไทย: ใช่\\n9.\\nกรรมการ\\n(กรรมการที่ไม่เป็นผู้บริหาร,\\nกรรมการอิสระ)\\nประเภทของกรรมการ: กรรมการ\\nเดิม\\n28 มี.ค. 2559\\nพัฒนาอสังหาริมทรัพย์, สื่อและ\\nสิ่งพิมพ์, ขนส่งและโลจิสติกส์,\\nการเงิน, บัญชี, การจัดการความ\\nเสี่ยง, การตรวจสอบ, ตรวจสอบ\\nภายใน\\nนาย การุญ จันทรางศุ\\nเพศ: ชาย\\nอายุ: 75 ปี\\nวุฒิการศึกษา: ปริญญาเอก\\nสาขา: วิศวกรรม\\nสัญชาติไทย: ใช่\\nถิ่นที่อยู่ในประเทศไทย: ใช่\\n10.\\nกรรมการ\\n(กรรมการที่ไม่เป็นผู้บริหาร,\\nกรรมการอิสระ)\\nประเภทของกรรมการ: กรรมการ\\nที่หมดวาระและได้รับการแต่งตั้ง\\nกลับเข้ามาใหม่\\n23 ก.ค. 2561\\nพัฒนาอสังหาริมทรัพย์, ขนส่งและ\\nโลจิสติกส์, เทคโนโลยีสารสนเทศ\\nและการสื่อสาร, วิศวกรรม, การ\\nจัดการความเสี่ยง\\nนาย ไพศาล ธรสารสมบัติ\\nเพศ: ชาย\\nอายุ: 59 ปี\\nวุฒิการศึกษา: ต่ำกว่าปริญญาตรี\\nสาขา: บริหารธุรกิจ\\nสัญชาติไทย: ใช่\\nถิ่นที่อยู่ในประเทศไทย: ใช่\\n11.\\nกรรมการ\\n(กรรมการที่ไม่เป็นผู้บริหาร,\\nกรรมการอิสระ)',\n",
       "  'สาขา: วิศวกรรม\\nสัญชาติไทย: ใช่\\nถิ่นที่อยู่ในประเทศไทย: ใช่\\n10.\\nกรรมการ\\n(กรรมการที่ไม่เป็นผู้บริหาร,\\nกรรมการอิสระ)\\nประเภทของกรรมการ: กรรมการ\\nที่หมดวาระและได้รับการแต่งตั้ง\\nกลับเข้ามาใหม่\\n23 ก.ค. 2561\\nพัฒนาอสังหาริมทรัพย์, ขนส่งและ\\nโลจิสติกส์, เทคโนโลยีสารสนเทศ\\nและการสื่อสาร, วิศวกรรม, การ\\nจัดการความเสี่ยง\\nนาย ไพศาล ธรสารสมบัติ\\nเพศ: ชาย\\nอายุ: 59 ปี\\nวุฒิการศึกษา: ต่ำกว่าปริญญาตรี\\nสาขา: บริหารธุรกิจ\\nสัญชาติไทย: ใช่\\nถิ่นที่อยู่ในประเทศไทย: ใช่\\n11.\\nกรรมการ\\n(กรรมการที่ไม่เป็นผู้บริหาร,\\nกรรมการอิสระ)\\nประเภทของกรรมการ: กรรมการ\\nเดิม\\n14 ก.พ. 2563\\nเหล็ก และ ผลิตภัณฑ์โลหะ,\\nเศรษฐศาสตร์, บัญชี, การเงิน, การ\\nจัดการองค์กร, การจัดการความ\\nเสี่ยง, กฎหมาย, การตลาด, ความ\\nรับผิดชอบต่อสังคม, ความยั่งยืน\\n18',\n",
       "  'นาย รังสิน กฤตลักษณ์\\nเพศ: ชาย\\nอายุ: 62 ปี\\nวุฒิการศึกษา: ปริญญาโท\\nสาขา: บริหารธุรกิจ\\nสัญชาติไทย: ใช่\\nถิ่นที่อยู่ในประเทศไทย: ใช่\\n2.\\nกรรมการ\\n(กรรมการที่เป็นผู้บริหาร)\\nประเภทของกรรมการ: กรรมการ\\nที่หมดวาระและได้รับการแต่งตั้ง\\nกลับเข้ามาใหม่\\n18 ธ.ค. 2549\\nพัฒนาอสังหาริมทรัพย์, ขนส่งและ\\nโลจิสติกส์, เทคโนโลยีสารสนเทศ\\nและการสื่อสาร, กฎหมาย, การ\\nตลาด, บัญชี, การเงิน, ความ\\nรับผิดชอบต่อสังคม, การจัดการ\\nทรัพยากรมนุษย์, ความยั่งยืน, จัดซื้อ,\\nการจัดการเทคโนโลยีสารสนเทศ,\\nสถาปัตยกรรม, บรรษัทภิบาล/ การ\\nกำกับดูแล\\nนาย ชิ เคือง คง\\nเพศ: ชาย\\nอายุ: 49 ปี\\nวุฒิการศึกษา: ปริญญาโท\\nสาขา: บริหารธุรกิจ\\nสัญชาติไทย: ไม่ใช่\\nถิ่นที่อยู่ในประเทศไทย: ใช่\\n3.\\nกรรมการ\\n(กรรมการที่เป็นผู้บริหาร)\\nประเภทของกรรมการ: กรรมการ\\nเดิม\\n18 ธ.ค. 2549\\nประกันภัยและประกันชีวิต, พัฒนา\\nอสังหาริมทรัพย์, สื่อและสิ่งพิมพ์,\\nขนส่งและโลจิสติกส์, การเงิน, การ\\nตลาดดิจิทัล, ผู้นำ, การจัดการ\\nกลยุทธ์, การจัดการความเสี่ยง, การ\\nจัดทำงบประมาณ, เทคโนโลยี\\nสารสนเทศและการสื่อสาร, อาหาร\\nและเครื่องดื่ม\\nนาย สุจินต์ หวั่งหลี\\nเพศ: ชาย\\nอายุ: 88 ปี\\nวุฒิการศึกษา: ปริญญาตรี\\nสาขา: วิศวกรรม\\nสัญชาติไทย: ใช่\\nถิ่นที่อยู่ในประเทศไทย: ใช่\\n4.\\nกรรมการ\\n(กรรมการที่ไม่เป็นผู้บริหาร,\\nกรรมการอิสระ)\\nประเภทของกรรมการ: กรรมการ\\nเดิม\\n29 ก.ค. 2553\\nประกันภัยและประกันชีวิต, การเงิน,\\nการจัดการองค์กร, ผู้นำ, การจัดการ\\nกลยุทธ์, การเจรจาต่อรอง, การ\\nวิเคราะห์ข้อมูล\\nนาย กวิน กาญจนพาสน์\\nเพศ: ชาย\\nอายุ: 49 ปี\\nวุฒิการศึกษา: ต่ำกว่าปริญญาตรี\\nสาขา: -\\nสัญชาติไทย: ใช่\\nถิ่นที่อยู่ในประเทศไทย: ใช่\\n5.\\nกรรมการ\\n(กรรมการที่เป็นผู้บริหาร)\\nประเภทของกรรมการ: กรรมการ\\nที่หมดวาระและได้รับการแต่งตั้ง\\nกลับเข้ามาใหม่\\n29 ก.ค. 2553\\nประกันภัยและประกันชีวิต, พัฒนา\\nอสังหาริมทรัพย์, ขนส่งและ'],\n",
       " 'ground_truth': 'The new board members appointed in the past year are:\\n1. นาย รังสิน กฤตลักษณ์\\n2. นาย กวิน กาญจนพาสน์\\n3. นาย การุญ จันทรางศุ'}"
      ]
     },
     "execution_count": 96,
     "metadata": {},
     "output_type": "execute_result"
    }
   ],
   "source": [
    "eval_dataset[35]"
   ]
  },
  {
   "cell_type": "code",
   "execution_count": 97,
   "metadata": {},
   "outputs": [
    {
     "data": {
      "text/plain": [
       "0.6930555555127662"
      ]
     },
     "execution_count": 97,
     "metadata": {},
     "output_type": "execute_result"
    }
   ],
   "source": [
    "results_df['context_precision'].mean()"
   ]
  },
  {
   "cell_type": "code",
   "execution_count": 98,
   "metadata": {},
   "outputs": [
    {
     "data": {
      "text/plain": [
       "0.6875"
      ]
     },
     "execution_count": 98,
     "metadata": {},
     "output_type": "execute_result"
    }
   ],
   "source": [
    "results_df['context_recall'].mean()"
   ]
  }
 ],
 "metadata": {
  "kernelspec": {
   "display_name": "venv",
   "language": "python",
   "name": "python3"
  },
  "language_info": {
   "codemirror_mode": {
    "name": "ipython",
    "version": 3
   },
   "file_extension": ".py",
   "mimetype": "text/x-python",
   "name": "python",
   "nbconvert_exporter": "python",
   "pygments_lexer": "ipython3",
   "version": "3.12.4"
  }
 },
 "nbformat": 4,
 "nbformat_minor": 2
}
