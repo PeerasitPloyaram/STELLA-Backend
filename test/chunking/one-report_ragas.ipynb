{
 "cells": [
  {
   "cell_type": "code",
   "execution_count": 1,
   "metadata": {},
   "outputs": [
    {
     "name": "stderr",
     "output_type": "stream",
     "text": [
      "/Users/peerasit/senior_project/STELLA-Backend/venv/lib/python3.12/site-packages/tqdm/auto.py:21: TqdmWarning: IProgress not found. Please update jupyter and ipywidgets. See https://ipywidgets.readthedocs.io/en/stable/user_install.html\n",
      "  from .autonotebook import tqdm as notebook_tqdm\n"
     ]
    }
   ],
   "source": [
    "from langchain_experimental.text_splitter import SemanticChunker\n",
    "from langchain_huggingface import HuggingFaceEmbeddings\n",
    "\n",
    "embedding_model = HuggingFaceEmbeddings(model_name=\"intfloat/multilingual-e5-large-instruct\")"
   ]
  },
  {
   "cell_type": "markdown",
   "metadata": {},
   "source": [
    "# Prepare PDF FILE"
   ]
  },
  {
   "cell_type": "markdown",
   "metadata": {},
   "source": [
    "#### Sematic chunking format markdown"
   ]
  },
  {
   "cell_type": "code",
   "execution_count": 2,
   "metadata": {},
   "outputs": [],
   "source": [
    "# import pymupdf4llm\n",
    "# doc2 = pymupdf4llm.to_markdown('../../data_sources/ba_56-1_2023.PDF', page_chunks=True)\n",
    "# semantic_chunk = SemanticChunker(embeddings=embedding_model, breakpoint_threshold_type=\"percentile\")\n",
    "# text_chunks = semantic_chunk.create_documents([d[\"text\"] for d in doc2])"
   ]
  },
  {
   "cell_type": "markdown",
   "metadata": {},
   "source": [
    "#### Semantic Chunking text"
   ]
  },
  {
   "cell_type": "code",
   "execution_count": 3,
   "metadata": {},
   "outputs": [],
   "source": [
    "# import pymupdf\n",
    "# from langchain_core.documents import Document\n",
    "\n",
    "# doc = pymupdf.open(\"../../chunking/pdfs/bts_56-1_2023.pdf\")\n",
    "# semantic_chunker = SemanticChunker(embeddings=embedding_model, breakpoint_threshold_type=\"percentile\")\n",
    "# text_chunks = semantic_chunker.create_documents([d.get_text() for d in doc])"
   ]
  },
  {
   "cell_type": "markdown",
   "metadata": {},
   "source": [
    "#### Hybrid Chunking (Structure Chunking + Semantic Chunking)"
   ]
  },
  {
   "cell_type": "code",
   "execution_count": 4,
   "metadata": {},
   "outputs": [],
   "source": [
    "import sys\n",
    "sys.path.insert(0, \"/Users/peerasit/senior_project/STELLA-Backend/\")\n",
    "from chunking.one_report_file import oneReportFileChunking\n",
    "\n",
    "text_chunks = oneReportFileChunking(content=\"../../chunking/pdfs/bts_56-1_2023.pdf\", file_name=\"bts_56-1_2023.pdf\")"
   ]
  },
  {
   "cell_type": "markdown",
   "metadata": {},
   "source": [
    "## STELLA CORE DB"
   ]
  },
  {
   "cell_type": "code",
   "execution_count": 5,
   "metadata": {},
   "outputs": [
    {
     "name": "stdout",
     "output_type": "stream",
     "text": [
      "[CORE] Initializing Milvus Database Core...\n",
      "[DB] init Embedding Model...\n",
      "[DB] init Embedding Model Successfully.\n",
      "[DB] Found Database: semantic_ragas\n",
      "[DB] Found Collection \"cnode_1\".\n",
      "[DB] Drop Collection \"cnode_1\"...\n",
      "cnode_1 has: 49 entities\n",
      "[DB] Drop Collection \"cnode_1\" Successfully.\n",
      "[DB] Create Collection \"cnode_1\"\n",
      "[DB] Collection \"cnode_1\" Is Ready.\n",
      "[DB] Found Collection \"gnode_1\".\n",
      "[DB] Drop Collection \"gnode_1\"...\n",
      "gnode_1 has: 0 entities\n",
      "[DB] Drop Collection \"gnode_1\" Successfully.\n",
      "[DB] Create Collection \"gnode_1\"\n",
      "[DB] Collection \"gnode_1\" Is Ready.\n",
      "[DB] Found Collection \"frontend_query_general_documents\".\n",
      "[DB] Drop Collection \"frontend_query_general_documents\"...\n",
      "frontend_query_general_documents has: 0 entities\n",
      "[DB] Drop Collection \"frontend_query_general_documents\" Successfully.\n",
      "[DB] Create Collection \"frontend_query_general_documents\"\n",
      "[DB] Collection \"frontend_query_general_documents\" Is Ready.\n",
      "Create Schma Successfuly.\n"
     ]
    }
   ],
   "source": [
    "import sys\n",
    "# from pymilvus import db\n",
    "# sys.path.insert(1, '../../milvus_core/')\n",
    "sys.path.insert(0, \"/Users/peerasit/senior_project/STELLA-Backend\")\n",
    "sys.path.insert(0, \"/Users/peerasit/senior_project/STELLA-Backend/milvus\")\n",
    "\n",
    "from milvus.core import Core\n",
    "from milvus.schema import INDEX_PARAMS, DATA_SOURCE_SCHEMA\n",
    "\n",
    "# core = Core(schema=DATA_SOURCE_SCHEMA, dense_embedding_model=embedding_model, collection_name=\"semantic\", system_prune=True, database_name=\"semantic_ragas\")\n",
    "core = Core(\n",
    "            database_name=\"semantic_ragas\",\n",
    "            schema=DATA_SOURCE_SCHEMA,\n",
    "            dense_embedding_model=embedding_model,\n",
    "            create_first_node=True,\n",
    "            system_prune_first_node=True,\n",
    "            token=\"\"\n",
    "        )\n",
    "\n",
    "# core.add_document(text_chunks)"
   ]
  },
  {
   "cell_type": "code",
   "execution_count": 6,
   "metadata": {},
   "outputs": [
    {
     "name": "stdout",
     "output_type": "stream",
     "text": [
      "<Collection>:\n",
      "-------------\n",
      "<name>: cnode_1\n",
      "<description>: Schema for Data Source Collection\n",
      "<schema>: {'auto_id': True, 'description': 'Schema for Data Source Collection', 'fields': [{'name': 'id', 'description': '', 'type': <DataType.INT64: 5>, 'is_primary': True, 'auto_id': True}, {'name': 'dense_vector', 'description': '', 'type': <DataType.FLOAT_VECTOR: 101>, 'params': {'dim': 1024}}, {'name': 'text', 'description': '', 'type': <DataType.VARCHAR: 21>, 'params': {'max_length': 8192}}, {'name': 'metadata', 'description': '', 'type': <DataType.JSON: 23>}], 'enable_dynamic_field': True}\n",
      "\n",
      "<class 'pymilvus.orm.collection.Collection'>\n",
      "[DB] Commit new Company\n",
      "[DB] Create New Partition\n",
      "[DB] Partition bts: 38 entities\n"
     ]
    }
   ],
   "source": [
    "core.add_document(name=\"bts\", documents=text_chunks, node_type=\"c\", sector_id=20)"
   ]
  },
  {
   "cell_type": "code",
   "execution_count": 113,
   "metadata": {},
   "outputs": [
    {
     "name": "stderr",
     "output_type": "stream",
     "text": [
      "DeprecationWarning: `metadata_field` is about to be deprecated, please set `enable_dynamic_field`=True instead.\n"
     ]
    }
   ],
   "source": [
    "# chunk_retriever_vectorStore = core.initVectorStore()\n",
    "# chunk_retriever = chunk_retriever_vectorStore.as_retriever(search_kwargs={\"k\" : 1})\n",
    "config ={\n",
    "    \"k\": 1,\n",
    "    \"partition_names\": [\"bts\"],\n",
    "}\n",
    "chunk_retriver = core.initVectorStore(collection_name=\"cnode_1\", partition_names=[\"bts\"], search_kwargs=config)"
   ]
  },
  {
   "cell_type": "code",
   "execution_count": 114,
   "metadata": {},
   "outputs": [
    {
     "data": {
      "text/plain": [
       "[Document(metadata={'file_name': 'bts_56-1_2023.pdf', 'company_name': 'BTS', 'file_type': '56-1', 'year': '2023', 'structured': True, 'section': 'โครงสร้างการกำกับดูแลกิจการ\\nและข้อมูลสำคัญเกี่ยวกับ\\nคณะกรรมการ คณะกรรมการชุดย่อย ผู้บริหาร\\nพนักงานและอื่นๆ', 'sub_section': 'ข้อมูลเกี่ยวกับคณะกรรมการ (7.2)'}, page_content='ข้อมูลเกี่ยวกับคณะกรรมการ (7.2)\\nองค์ประกอบของคณะกรรมการบริษัท (7.2.1)\\nจำนวน (คน) ร้อยละ (%)\\nกรรมการรวม 11 100.00\\nกรรมการชาย 10 90.91\\nกรรมการหญิง 1 9.09\\nกรรมการที่เป็นผู้บริหาร 4 36.36\\nกรรมการที่ไม่เป็นผู้บริหาร 7 63.64\\nกรรมการอิสระ 6 54.55\\nข้อมูลคณะกรรมการและผู้มีอำนาจควบคุมบริษัทรายบุคคล (7.2.2)\\nรายชื่อกรรมการชุดปัจจุบัน\\nข้อมูลทั่วไป:\\n 1. นาย คีรี กาญจนพาสน์\\nเพศ: ชาย\\nอายุ: 74 ปี\\nวุฒิการศึกษา: ต่ำกว่าปริญญาตรี\\nสาขา: -\\nสัญชาติไทย: ใช่\\nถิ่นที่อยู่ในประเทศไทย: ใช่\\n\\nตำแหน่งของกรรมการ:\\n ประธานกรรมการ\\n(กรรมการที่ไม่เป็นผู้บริหาร)\\nประเภทของกรรมการ: กรรมการ\\nเดิม\\n\\nวันเริ่มดำรงตำแหน่ง:\\n 18 ธ.ค. 2549\\n\\nประสบการณ์และความชำนาญ:\\n พัฒนาอสังหาริมทรัพย์, ขนส่งและ\\nโลจิสติกส์, การตลาด, การจัดการ\\nองค์กร, ผู้นำ, การจัดการความ\\nเปลี่ยนแปลง, ความรับผิดชอบต่อ\\nสังคม, ความยั่งยืน, การจัดการความ\\nเสี่ยง, บรรษัทภิบาล/ การกำกับดูแล\\n')]"
      ]
     },
     "execution_count": 114,
     "metadata": {},
     "output_type": "execute_result"
    }
   ],
   "source": [
    "chunk_retriver.invoke(\"องประกอบของคณะกรรมการบริษัท\")"
   ]
  },
  {
   "cell_type": "code",
   "execution_count": 115,
   "metadata": {},
   "outputs": [],
   "source": [
    "import os\n",
    "from langchain_openai import ChatOpenAI\n",
    "from dotenv import load_dotenv\n",
    "\n",
    "load_dotenv()\n",
    "\n",
    "OPENAI_API_KEY = os.environ[\"OPENAI_API_KEY\"] = os.getenv(\"OPEN_AI_API_KEY\")\n",
    "llm = ChatOpenAI(model=\"gpt-3.5-turbo\",temperature=0, max_tokens=4096)"
   ]
  },
  {
   "cell_type": "markdown",
   "metadata": {},
   "source": [
    "# LLM RAG"
   ]
  },
  {
   "cell_type": "code",
   "execution_count": 116,
   "metadata": {},
   "outputs": [],
   "source": [
    "from langchain_core.prompts import ChatPromptTemplate\n",
    "\n",
    "rag_template = \"\"\"\\\n",
    "Use the following context to answer the user's query. If you cannot answer, please respond with 'I don't know'.\n",
    "\n",
    "User's Query:\n",
    "{question}\n",
    "\n",
    "Context:\n",
    "{context}\n",
    "\"\"\"\n",
    "\n",
    "rag_prompt = ChatPromptTemplate.from_template(rag_template)"
   ]
  },
  {
   "cell_type": "code",
   "execution_count": 117,
   "metadata": {},
   "outputs": [],
   "source": [
    "from langchain_core.runnables import RunnablePassthrough\n",
    "from langchain_core.output_parsers import StrOutputParser\n",
    "from langchain_openai import ChatOpenAI\n",
    "\n",
    "llm = ChatOpenAI(model=\"gpt-3.5-turbo\",temperature=0, max_tokens=4096)\n",
    "\n",
    "recursive_rag_chain = (\n",
    "    {\"context\" : chunk_retriver, \"question\" : RunnablePassthrough()}\n",
    "    | rag_prompt\n",
    "    | llm\n",
    "    | StrOutputParser()\n",
    ")"
   ]
  },
  {
   "cell_type": "code",
   "execution_count": 118,
   "metadata": {},
   "outputs": [],
   "source": [
    "synthetic_data_chunks = text_chunks"
   ]
  },
  {
   "cell_type": "markdown",
   "metadata": {},
   "source": [
    "# LLM Question"
   ]
  },
  {
   "cell_type": "code",
   "execution_count": 119,
   "metadata": {},
   "outputs": [],
   "source": [
    "question_prompt = \"\"\"\\\n",
    "You are a teacher preparing a test. Please create a question that can be answered by referencing the following context.\n",
    "\n",
    "Context:\n",
    "{context}\n",
    "\"\"\"\n",
    "\n",
    "question_prompt = ChatPromptTemplate.from_template(question_prompt)\n",
    "question_chain = question_prompt | llm | StrOutputParser()"
   ]
  },
  {
   "cell_type": "markdown",
   "metadata": {},
   "source": [
    "# LLM Ground Truth"
   ]
  },
  {
   "cell_type": "code",
   "execution_count": 120,
   "metadata": {},
   "outputs": [],
   "source": [
    "ground_truth_prompt = \"\"\"\\\n",
    "Use the following context and question to answer this question using *only* the provided context.\n",
    "\n",
    "Question:\n",
    "{question}\n",
    "\n",
    "Context:\n",
    "{context}\n",
    "\"\"\"\n",
    "\n",
    "ground_truth_prompt = ChatPromptTemplate.from_template(ground_truth_prompt)\n",
    "ground_truth_chain = ground_truth_prompt | llm | StrOutputParser()"
   ]
  },
  {
   "cell_type": "markdown",
   "metadata": {},
   "source": [
    "## Create Synthesized Data"
   ]
  },
  {
   "cell_type": "code",
   "execution_count": 121,
   "metadata": {},
   "outputs": [],
   "source": [
    "questions = []\n",
    "ground_truths_recursive = []\n",
    "contexts = []\n",
    "answers = []\n",
    "\n",
    "for chunk in synthetic_data_chunks[0:48]:\n",
    "    # print(chunk)\n",
    "  questions.append(question_chain.invoke({\"context\" : chunk.page_content}))\n",
    "  contexts.append(chunk.page_content)\n",
    "  ground_truths_recursive.append(ground_truth_chain.invoke({\"question\" : questions[-1], \"context\" : str(contexts[-1])}))\n",
    "  \n",
    "  answers.append(recursive_rag_chain.invoke(questions[-1]))"
   ]
  },
  {
   "cell_type": "markdown",
   "metadata": {},
   "source": [
    "# Create Synthesized Data for Evaluation"
   ]
  },
  {
   "cell_type": "code",
   "execution_count": 122,
   "metadata": {},
   "outputs": [
    {
     "data": {
      "text/plain": [
       "Dataset({\n",
       "    features: ['question', 'answer', 'contexts', 'ground_truth'],\n",
       "    num_rows: 38\n",
       "})"
      ]
     },
     "execution_count": 122,
     "metadata": {},
     "output_type": "execute_result"
    }
   ],
   "source": [
    "from datasets import load_dataset, Dataset\n",
    "\n",
    "qagc_list = []\n",
    "\n",
    "for question, answer, context, ground_truth in zip(questions, answers, contexts, ground_truths_recursive):\n",
    "  qagc_list.append({\n",
    "      \"question\" : question,\n",
    "      \"answer\" : answer,\n",
    "      \"contexts\" : [context],\n",
    "      \"ground_truth\" : ground_truth\n",
    "  })\n",
    "\n",
    "eval_dataset = Dataset.from_list(qagc_list)\n",
    "eval_dataset"
   ]
  },
  {
   "cell_type": "code",
   "execution_count": 123,
   "metadata": {},
   "outputs": [
    {
     "data": {
      "text/plain": [
       "{'question': 'Question: What is the educational background of Mr. กวิน กาญจนพาสน์?',\n",
       " 'answer': \"Mr. กวิน กาญจนพาสน์ has an educational background that is lower than a bachelor's degree.\",\n",
       " 'contexts': ['ข้อมูลทั่วไป:\\n 5. นาย กวิน กาญจนพาสน์\\nเพศ: ชาย\\nอายุ: 49 ปี\\nวุฒิการศึกษา: ต่ำกว่าปริญญาตรี\\nสาขา: -\\nสัญชาติไทย: ใช่\\nถิ่นที่อยู่ในประเทศไทย: ใช่\\n\\nตำแหน่งของกรรมการ:\\n กรรมการ\\n(กรรมการที่เป็นผู้บริหาร)\\nประเภทของกรรมการ: กรรมการ\\nที่หมดวาระและได้รับการแต่งตั้ง\\nกลับเข้ามาใหม่\\n\\nวันเริ่มดำรงตำแหน่ง:\\n 29 ก.ค. 2553\\n\\nประสบการณ์และความชำนาญ:\\n ประกันภัยและประกันชีวิต, พัฒนา\\nอสังหาริมทรัพย์, ขนส่งและ\\nโลจิสติกส์, สื่อและสิ่งพิมพ์,\\nเทคโนโลยีสารสนเทศและการ\\nสื่อสาร, การตลาด, การเงิน, การ\\nตลาดดิจิทัล, วิศวกรรม, การจัดการ\\nองค์กร, ผู้นำ, การจัดการกลยุทธ์,\\nการจัดการความเสี่ยง\\nข้อมูลทั่วไป:\\n 6. นาย สุรพงษ์ เลาหะอัญญา\\nเพศ: ชาย\\nอายุ: 62 ปี\\nวุฒิการศึกษา: ปริญญาโท\\nสาขา: วิศวกรรม\\nสัญชาติไทย: ใช่\\nถิ่นที่อยู่ในประเทศไทย: ใช่\\n\\nตำแหน่งของกรรมการ:\\n กรรมการ\\n(กรรมการที่เป็นผู้บริหาร)\\nประเภทของกรรมการ: กรรมการ\\nเดิม\\n\\nวันเริ่มดำรงตำแหน่ง:\\n 29 ก.ค. 2553\\n\\nประสบการณ์และความชำนาญ:\\n สื่อและสิ่งพิมพ์, ขนส่งและโลจิสติกส์,\\nการจัดการองค์กร, การจัดการ\\nโครงการ, วิศวกรรม, ผู้นำ, การ\\nจัดการกลยุทธ์\\nข้อมูลทั่วไป:\\n 7. นาย เจริญ วรรธนะสิน\\nเพศ: ชาย\\nอายุ: 87 ปี\\nวุฒิการศึกษา: ต่ำกว่าปริญญาตรี\\nสาขา: บริหารธุรกิจ\\nสัญชาติไทย: ใช่\\nถิ่นที่อยู่ในประเทศไทย: ใช่\\n\\nตำแหน่งของกรรมการ:\\n กรรมการ\\n(กรรมการที่ไม่เป็นผู้บริหาร,\\nกรรมการอิสระ)\\nประเภทของกรรมการ: กรรมการ\\nเดิม\\n\\nวันเริ่มดำรงตำแหน่ง:\\n 29 ก.ค. 2553\\n\\nประสบการณ์และความชำนาญ:\\n การตลาด, ความรับผิดชอบต่อสังคม,\\nความยั่งยืน, การจัดการความเสี่ยง,\\nการจัดการองค์กร\\n'],\n",
       " 'ground_truth': \"Mr. กวิน กาญจนพาสน์ has an educational background lower than a bachelor's degree.\"}"
      ]
     },
     "execution_count": 123,
     "metadata": {},
     "output_type": "execute_result"
    }
   ],
   "source": [
    "eval_dataset[13]\n"
   ]
  },
  {
   "cell_type": "markdown",
   "metadata": {},
   "source": [
    "# Evaluation with RAGAS"
   ]
  },
  {
   "cell_type": "code",
   "execution_count": 124,
   "metadata": {},
   "outputs": [
    {
     "name": "stderr",
     "output_type": "stream",
     "text": [
      "Evaluating: 100%|██████████| 76/76 [00:12<00:00,  5.98it/s]\n"
     ]
    },
    {
     "data": {
      "text/plain": [
       "{'context_precision': 0.9737, 'context_recall': 0.9020}"
      ]
     },
     "execution_count": 124,
     "metadata": {},
     "output_type": "execute_result"
    }
   ],
   "source": [
    "from ragas.metrics import (\n",
    "    answer_relevancy,\n",
    "    faithfulness,\n",
    "    context_recall,\n",
    "    context_precision,\n",
    ")\n",
    "\n",
    "from ragas import evaluate\n",
    "\n",
    "result = evaluate(\n",
    "    eval_dataset,\n",
    "    metrics=[\n",
    "        context_precision,\n",
    "        context_recall,\n",
    "        # faithfulness,\n",
    "        # answer_relevancy,\n",
    "    ],\n",
    ")\n",
    "result"
   ]
  },
  {
   "cell_type": "code",
   "execution_count": 125,
   "metadata": {},
   "outputs": [
    {
     "data": {
      "text/html": [
       "<div>\n",
       "<style scoped>\n",
       "    .dataframe tbody tr th:only-of-type {\n",
       "        vertical-align: middle;\n",
       "    }\n",
       "\n",
       "    .dataframe tbody tr th {\n",
       "        vertical-align: top;\n",
       "    }\n",
       "\n",
       "    .dataframe thead th {\n",
       "        text-align: right;\n",
       "    }\n",
       "</style>\n",
       "<table border=\"1\" class=\"dataframe\">\n",
       "  <thead>\n",
       "    <tr style=\"text-align: right;\">\n",
       "      <th></th>\n",
       "      <th>user_input</th>\n",
       "      <th>retrieved_contexts</th>\n",
       "      <th>response</th>\n",
       "      <th>reference</th>\n",
       "      <th>context_precision</th>\n",
       "      <th>context_recall</th>\n",
       "    </tr>\n",
       "  </thead>\n",
       "  <tbody>\n",
       "    <tr>\n",
       "      <th>0</th>\n",
       "      <td>Question:\\nWhat is the full name of the compan...</td>\n",
       "      <td>[นโยบายและภาพรวมการประกอบธุรกิจ (1.1)\\nข้อมูลท...</td>\n",
       "      <td>The full name of the company mentioned in the ...</td>\n",
       "      <td>The full name of the company mentioned in the ...</td>\n",
       "      <td>1.0</td>\n",
       "      <td>1.000000</td>\n",
       "    </tr>\n",
       "    <tr>\n",
       "      <th>1</th>\n",
       "      <td>Question: What is the percentage of revenue fr...</td>\n",
       "      <td>[ลักษณะการประกอบธุรกิจ (1.2)\\nโครงสร้างรายได้ ...</td>\n",
       "      <td>I don't know.</td>\n",
       "      <td>The percentage of revenue from the MOVE catego...</td>\n",
       "      <td>1.0</td>\n",
       "      <td>1.000000</td>\n",
       "    </tr>\n",
       "    <tr>\n",
       "      <th>2</th>\n",
       "      <td>Question: What are some of the factors that po...</td>\n",
       "      <td>[ปัจจัยความเสี่ยงต่อการดำเนินธุรกิจของบริษัท (...</td>\n",
       "      <td>Some of the factors that pose risks to the bus...</td>\n",
       "      <td>Some of the factors that pose risks to the bus...</td>\n",
       "      <td>1.0</td>\n",
       "      <td>0.777778</td>\n",
       "    </tr>\n",
       "    <tr>\n",
       "      <th>3</th>\n",
       "      <td>Question: What are some examples of operationa...</td>\n",
       "      <td>[ผลกระทบต่อสิ่งแวดล้อม • อื่น ๆ ความเสี่ยงจากก...</td>\n",
       "      <td>Examples of operational risks mentioned in the...</td>\n",
       "      <td>Some examples of operational risks mentioned i...</td>\n",
       "      <td>1.0</td>\n",
       "      <td>1.000000</td>\n",
       "    </tr>\n",
       "    <tr>\n",
       "      <th>4</th>\n",
       "      <td>Question: What are the main categories of risk...</td>\n",
       "      <td>[ความเสี่ยงจากการยกเลิกสัญญาสัมปทานและสัญญาการ...</td>\n",
       "      <td>The main categories of risk discussed in the c...</td>\n",
       "      <td>The main categories of risk discussed in the c...</td>\n",
       "      <td>1.0</td>\n",
       "      <td>1.000000</td>\n",
       "    </tr>\n",
       "    <tr>\n",
       "      <th>5</th>\n",
       "      <td>Question: What is the term used to describe th...</td>\n",
       "      <td>[สัดส่วนการถือหุ้นของผู้ลงทุน (Control Dilutio...</td>\n",
       "      <td>The term used to describe the proportion of st...</td>\n",
       "      <td>สัดส่วนการถือหุ้น (Stock ownership proportion)</td>\n",
       "      <td>1.0</td>\n",
       "      <td>1.000000</td>\n",
       "    </tr>\n",
       "    <tr>\n",
       "      <th>6</th>\n",
       "      <td>Question: What is the URL for the sustainabili...</td>\n",
       "      <td>[นโยบายและเป้าหมายการจัดการด้านความยั่งยืน (3....</td>\n",
       "      <td>URL นโยบายด้านความยั่งยืนของบริษัท: https://ww...</td>\n",
       "      <td>URL for the sustainability policy of BTS Group...</td>\n",
       "      <td>1.0</td>\n",
       "      <td>1.000000</td>\n",
       "    </tr>\n",
       "    <tr>\n",
       "      <th>7</th>\n",
       "      <td>Question: What is the total amount of diesel f...</td>\n",
       "      <td>[การจัดการด้านความยั่งยืนในมิติสิ่งแวดล้อม (3....</td>\n",
       "      <td>I don't know.</td>\n",
       "      <td>The total amount of diesel fuel used by the co...</td>\n",
       "      <td>1.0</td>\n",
       "      <td>1.000000</td>\n",
       "    </tr>\n",
       "    <tr>\n",
       "      <th>8</th>\n",
       "      <td>Question: According to the context provided, w...</td>\n",
       "      <td>[การจัดการความยั่งยืนในมิติสังคม (3.4)\\nนโยบาย...</td>\n",
       "      <td>According to the context provided, the key are...</td>\n",
       "      <td>According to the context provided, some of the...</td>\n",
       "      <td>1.0</td>\n",
       "      <td>1.000000</td>\n",
       "    </tr>\n",
       "    <tr>\n",
       "      <th>9</th>\n",
       "      <td>Question: What is the URL for the corporate go...</td>\n",
       "      <td>[ภาพรวมของนโยบายและแนวปฏิบัติการกำกับดูแลกิจกา...</td>\n",
       "      <td>URL for the corporate governance policy and co...</td>\n",
       "      <td>URL for the corporate governance policy and co...</td>\n",
       "      <td>1.0</td>\n",
       "      <td>1.000000</td>\n",
       "    </tr>\n",
       "    <tr>\n",
       "      <th>10</th>\n",
       "      <td>Question: What are some examples of policies a...</td>\n",
       "      <td>[จรรยาบรรณธุรกิจ (6.2)\\nการจัดทำจรรยาบรรณธุรกิ...</td>\n",
       "      <td>Examples of policies and practices related to ...</td>\n",
       "      <td>Examples of policies and practices related to ...</td>\n",
       "      <td>1.0</td>\n",
       "      <td>1.000000</td>\n",
       "    </tr>\n",
       "    <tr>\n",
       "      <th>11</th>\n",
       "      <td>Based on the context provided, please answer t...</td>\n",
       "      <td>[ข้อมูลเกี่ยวกับคณะกรรมการ (7.2)\\nองค์ประกอบขอ...</td>\n",
       "      <td>นาย คีรี กาญจนพาสน์ holds the position of ประธ...</td>\n",
       "      <td>นาย คีรี กาญจนพาสน์ holds the position of Chai...</td>\n",
       "      <td>1.0</td>\n",
       "      <td>1.000000</td>\n",
       "    </tr>\n",
       "    <tr>\n",
       "      <th>12</th>\n",
       "      <td>Based on the context provided, please answer t...</td>\n",
       "      <td>[ข้อมูลทั่วไป:\\n 2. นาย รังสิน กฤตลักษณ์\\nเพศ:...</td>\n",
       "      <td>I don't know.</td>\n",
       "      <td>Mr. สุจินต์ หวั่งหลี has a Bachelor's degree i...</td>\n",
       "      <td>1.0</td>\n",
       "      <td>1.000000</td>\n",
       "    </tr>\n",
       "    <tr>\n",
       "      <th>13</th>\n",
       "      <td>Question: What is the educational background o...</td>\n",
       "      <td>[ข้อมูลทั่วไป:\\n 5. นาย กวิน กาญจนพาสน์\\nเพศ: ...</td>\n",
       "      <td>Mr. กวิน กาญจนพาสน์ has an educational backgro...</td>\n",
       "      <td>Mr. กวิน กาญจนพาสน์ has an educational backgro...</td>\n",
       "      <td>1.0</td>\n",
       "      <td>1.000000</td>\n",
       "    </tr>\n",
       "    <tr>\n",
       "      <th>14</th>\n",
       "      <td>Question:\\nWhat is the educational background ...</td>\n",
       "      <td>[ข้อมูลทั่วไป:\\n 8. นาย ยิง ชิว เฮนรี่ ชอง\\nเพ...</td>\n",
       "      <td>Mr. Yung Chiw Henry Chong holds a Master's deg...</td>\n",
       "      <td>Mr. Yung Chiw Henry Chong holds a Master's deg...</td>\n",
       "      <td>1.0</td>\n",
       "      <td>1.000000</td>\n",
       "    </tr>\n",
       "    <tr>\n",
       "      <th>15</th>\n",
       "      <td>Based on the context provided, please identify...</td>\n",
       "      <td>[ข้อมูลทั่วไป:\\n 11. นาย ไพศาล ธรสารสมบัติ\\nเพ...</td>\n",
       "      <td>I don't know.</td>\n",
       "      <td>The educational qualification of Mr. Paison Th...</td>\n",
       "      <td>1.0</td>\n",
       "      <td>1.000000</td>\n",
       "    </tr>\n",
       "    <tr>\n",
       "      <th>16</th>\n",
       "      <td>Based on the context provided, please answer t...</td>\n",
       "      <td>[รายชื่อกรรมการที่ลาออก/พ้นจากตำแหน่งระหว่างปี...</td>\n",
       "      <td>นาย อาณัติ อาภาภิร left his position as a กรรม...</td>\n",
       "      <td>นาย อาณัติ อาภาภิร left his position as a กรรม...</td>\n",
       "      <td>1.0</td>\n",
       "      <td>1.000000</td>\n",
       "    </tr>\n",
       "    <tr>\n",
       "      <th>17</th>\n",
       "      <td>Based on the context provided, please answer t...</td>\n",
       "      <td>[ข้อมูลเกี่ยวกับคณะกรรมการอื่นๆ\\nประธานกรรมการ...</td>\n",
       "      <td>No, based on the context provided, the chairma...</td>\n",
       "      <td>No, the chairman of the committee is not the h...</td>\n",
       "      <td>1.0</td>\n",
       "      <td>0.000000</td>\n",
       "    </tr>\n",
       "    <tr>\n",
       "      <th>18</th>\n",
       "      <td>Question: What is the position held by นาง พิจ...</td>\n",
       "      <td>[ข้อมูลเกี่ยวกับคณะกรรมการชุดย่อย (7.3)\\nข้อมู...</td>\n",
       "      <td>นาง พิจิตรา มหาพล holds the position of ประธาน...</td>\n",
       "      <td>นาง พิจิตรา มหาพล คือ ประธานกรรมการตรวจสอบในคณ...</td>\n",
       "      <td>1.0</td>\n",
       "      <td>1.000000</td>\n",
       "    </tr>\n",
       "    <tr>\n",
       "      <th>19</th>\n",
       "      <td>Based on the context provided, please answer t...</td>\n",
       "      <td>[ข้อมูลทั่วไป:\\n 2. นาย สุจินต์ หวั่งหลี\\nเพศ:...</td>\n",
       "      <td>I don't know.</td>\n",
       "      <td>นาย สุจินต์ หวั่งหลี has a Bachelor's degree i...</td>\n",
       "      <td>1.0</td>\n",
       "      <td>1.000000</td>\n",
       "    </tr>\n",
       "    <tr>\n",
       "      <th>20</th>\n",
       "      <td>Question: Who is currently serving as the Chai...</td>\n",
       "      <td>[คณะกรรมการบริหาร\\nรายชื่อกรรมการบริหารชุดปัจจ...</td>\n",
       "      <td>I don't know.</td>\n",
       "      <td>นาย คีรี กาญจนพาสน์ คือผู้ทรงคุณวุฒิในตำแหน่งป...</td>\n",
       "      <td>1.0</td>\n",
       "      <td>1.000000</td>\n",
       "    </tr>\n",
       "    <tr>\n",
       "      <th>21</th>\n",
       "      <td>Question: What is the educational background o...</td>\n",
       "      <td>[ข้อมูลทั่วไป:\\n 2. นาย สุรพงษ์ เลาหะอัญญา\\nเพ...</td>\n",
       "      <td>I don't know.</td>\n",
       "      <td>Mr. รังสิน กฤตลักษณ์ has a Master's degree in ...</td>\n",
       "      <td>1.0</td>\n",
       "      <td>1.000000</td>\n",
       "    </tr>\n",
       "    <tr>\n",
       "      <th>22</th>\n",
       "      <td>Question: When did Mr. Chi Keung Kong start se...</td>\n",
       "      <td>[ข้อมูลทั่วไป:\\n 5. นาย ชิ เคือง คง\\nเพศ: ชาย\\...</td>\n",
       "      <td>Answer: Mr. Chi Keung Kong started serving as ...</td>\n",
       "      <td>Mr. Chi Keung Kong started serving as a member...</td>\n",
       "      <td>1.0</td>\n",
       "      <td>1.000000</td>\n",
       "    </tr>\n",
       "    <tr>\n",
       "      <th>23</th>\n",
       "      <td>Question: When did Mr. อาณัติ อาภาภิร leave hi...</td>\n",
       "      <td>[รายชื่อกรรมการบริหารที่ลาออก/พ้นตำแหน่งระหว่า...</td>\n",
       "      <td>Mr. อาณัติ อาภาภิร left his position as a memb...</td>\n",
       "      <td>Mr. อาณัติ อาภาภิร left his position as a memb...</td>\n",
       "      <td>1.0</td>\n",
       "      <td>1.000000</td>\n",
       "    </tr>\n",
       "    <tr>\n",
       "      <th>24</th>\n",
       "      <td>Question: Who is the chairman of the Subcommit...</td>\n",
       "      <td>[คณะกรรมการชุดย่อยอื่นๆ\\nข้อมูลคณะกรรมการชุดย่...</td>\n",
       "      <td>The chairman of the Subcommittee on Selection ...</td>\n",
       "      <td>นาย สุจินต์ หวั่งหลี</td>\n",
       "      <td>1.0</td>\n",
       "      <td>1.000000</td>\n",
       "    </tr>\n",
       "    <tr>\n",
       "      <th>25</th>\n",
       "      <td>Who is the chairman of the subcommittee commit...</td>\n",
       "      <td>[ชื่อของคณะกรรมการชุดย่อย: คณะกรรมการพัฒนาเพื่...</td>\n",
       "      <td>The chairman of the subcommittee committee for...</td>\n",
       "      <td>นาย คีรี กาญจนพาสน์</td>\n",
       "      <td>1.0</td>\n",
       "      <td>1.000000</td>\n",
       "    </tr>\n",
       "    <tr>\n",
       "      <th>26</th>\n",
       "      <td>Who is the chairperson of the Risk Management ...</td>\n",
       "      <td>[ชื่อของคณะกรรมการชุดย่อย: คณะกรรมการบริหารควา...</td>\n",
       "      <td>นาง พิจิตรา มหาพล is the chairperson of the Ri...</td>\n",
       "      <td>นาง พิจิตรา มหาพล</td>\n",
       "      <td>1.0</td>\n",
       "      <td>1.000000</td>\n",
       "    </tr>\n",
       "    <tr>\n",
       "      <th>27</th>\n",
       "      <td>What is the role of the subcommittee responsib...</td>\n",
       "      <td>[บทบาทหน้าที่ของคณะกรรมการชุดย่อย\\nคณะกรรมการช...</td>\n",
       "      <td>The role of the subcommittee responsible for o...</td>\n",
       "      <td>The role of the subcommittee responsible for o...</td>\n",
       "      <td>1.0</td>\n",
       "      <td>0.000000</td>\n",
       "    </tr>\n",
       "    <tr>\n",
       "      <th>28</th>\n",
       "      <td>Question: Who is the highest-ranking executive...</td>\n",
       "      <td>[ข้อมูลเกี่ยวกับผู้บริหาร (7.4)\\nรายชื่อและตำแ...</td>\n",
       "      <td>I don't know.</td>\n",
       "      <td>Highest-ranking executive: นาย กวิน กาญจนพาสน์...</td>\n",
       "      <td>1.0</td>\n",
       "      <td>0.500000</td>\n",
       "    </tr>\n",
       "    <tr>\n",
       "      <th>29</th>\n",
       "      <td>Based on the context provided, please answer t...</td>\n",
       "      <td>[ข้อมูลทั่วไป:\\n 2. นาย รังสิน กฤตลักษณ์\\nเพศ:...</td>\n",
       "      <td>I don't know.</td>\n",
       "      <td>Mr. Daniel Ross has a Bachelor's degree in Mat...</td>\n",
       "      <td>1.0</td>\n",
       "      <td>1.000000</td>\n",
       "    </tr>\n",
       "    <tr>\n",
       "      <th>30</th>\n",
       "      <td>Question: What is the position held by นาย สุร...</td>\n",
       "      <td>[ข้อมูลทั่วไป:\\n 5. นาย สุรพงษ์ เลาหะอัญญา\\nเพ...</td>\n",
       "      <td>นาย สุรพงษ์ เลาหะอัญญา holds the position of C...</td>\n",
       "      <td>นาย สุรพงษ์ เลาหะอัญญา คือผู้อำนวยการใหญ่สายธุ...</td>\n",
       "      <td>1.0</td>\n",
       "      <td>1.000000</td>\n",
       "    </tr>\n",
       "    <tr>\n",
       "      <th>31</th>\n",
       "      <td>Question: What is the position held by นางสาว ...</td>\n",
       "      <td>[ข้อมูลทั่วไป:\\n 8. นางสาว ชวดี รุ่งเรือง [1]\\...</td>\n",
       "      <td>I don't know.</td>\n",
       "      <td>นางสาว ชวดี รุ่งเรือง holds the position of ผู...</td>\n",
       "      <td>1.0</td>\n",
       "      <td>1.000000</td>\n",
       "    </tr>\n",
       "    <tr>\n",
       "      <th>32</th>\n",
       "      <td>Question:\\nWhat is the total compensation amou...</td>\n",
       "      <td>[นโยบายการจ่ายค่าตอบแทนผู้บริหาร (7.4.2 - 7.4....</td>\n",
       "      <td>I don't know.</td>\n",
       "      <td>The total compensation amount for executives i...</td>\n",
       "      <td>1.0</td>\n",
       "      <td>1.000000</td>\n",
       "    </tr>\n",
       "    <tr>\n",
       "      <th>33</th>\n",
       "      <td>Question: What is the total number of employee...</td>\n",
       "      <td>[ข้อมูลเกี่ยวกับพนักงาน (7.5)\\nข้อมูลเกี่ยวกับ...</td>\n",
       "      <td>A) 5,849</td>\n",
       "      <td>The total number of employees who are members ...</td>\n",
       "      <td>1.0</td>\n",
       "      <td>1.000000</td>\n",
       "    </tr>\n",
       "    <tr>\n",
       "      <th>34</th>\n",
       "      <td>Who is the new committee member appointed in t...</td>\n",
       "      <td>[สรุปผลการปฏิบัติหน้าที่ของคณะกรรมการในรอบปีที...</td>\n",
       "      <td>I don't know.</td>\n",
       "      <td>นาย กานต์ สุขสวัสดิ์ กรรมการ วันที่ดำรงตำแหน่ง...</td>\n",
       "      <td>0.0</td>\n",
       "      <td>0.000000</td>\n",
       "    </tr>\n",
       "    <tr>\n",
       "      <th>35</th>\n",
       "      <td>What is the position held by นาย คีรี กาญจนพาส...</td>\n",
       "      <td>[นาย การุญ จันทรางศุ กรรมการ วันที่ดำรงตำแหน่ง...</td>\n",
       "      <td>นาย คีรี กาญจนพาสน์ holds the position of ประธ...</td>\n",
       "      <td>นาย คีรี กาญจนพาสน์ holds the position of ประธ...</td>\n",
       "      <td>1.0</td>\n",
       "      <td>1.000000</td>\n",
       "    </tr>\n",
       "    <tr>\n",
       "      <th>36</th>\n",
       "      <td>Based on the context provided, please calculat...</td>\n",
       "      <td>[นาย สุรพงษ์ เลาหะอัญญา - 11/11 เข้าร่วม ไม่มี...</td>\n",
       "      <td>To calculate the total annual meeting allowanc...</td>\n",
       "      <td>To calculate the total annual meeting allowanc...</td>\n",
       "      <td>1.0</td>\n",
       "      <td>1.000000</td>\n",
       "    </tr>\n",
       "    <tr>\n",
       "      <th>37</th>\n",
       "      <td>Question: How many times did the Audit Committ...</td>\n",
       "      <td>[รายงานผลการปฏิบัติหน้าที่ของคณะกรรมการตรวจสอบ...</td>\n",
       "      <td>According to the report, the Audit Committee m...</td>\n",
       "      <td>According to the report, the Audit Committee m...</td>\n",
       "      <td>1.0</td>\n",
       "      <td>1.000000</td>\n",
       "    </tr>\n",
       "  </tbody>\n",
       "</table>\n",
       "</div>"
      ],
      "text/plain": [
       "                                           user_input  \\\n",
       "0   Question:\\nWhat is the full name of the compan...   \n",
       "1   Question: What is the percentage of revenue fr...   \n",
       "2   Question: What are some of the factors that po...   \n",
       "3   Question: What are some examples of operationa...   \n",
       "4   Question: What are the main categories of risk...   \n",
       "5   Question: What is the term used to describe th...   \n",
       "6   Question: What is the URL for the sustainabili...   \n",
       "7   Question: What is the total amount of diesel f...   \n",
       "8   Question: According to the context provided, w...   \n",
       "9   Question: What is the URL for the corporate go...   \n",
       "10  Question: What are some examples of policies a...   \n",
       "11  Based on the context provided, please answer t...   \n",
       "12  Based on the context provided, please answer t...   \n",
       "13  Question: What is the educational background o...   \n",
       "14  Question:\\nWhat is the educational background ...   \n",
       "15  Based on the context provided, please identify...   \n",
       "16  Based on the context provided, please answer t...   \n",
       "17  Based on the context provided, please answer t...   \n",
       "18  Question: What is the position held by นาง พิจ...   \n",
       "19  Based on the context provided, please answer t...   \n",
       "20  Question: Who is currently serving as the Chai...   \n",
       "21  Question: What is the educational background o...   \n",
       "22  Question: When did Mr. Chi Keung Kong start se...   \n",
       "23  Question: When did Mr. อาณัติ อาภาภิร leave hi...   \n",
       "24  Question: Who is the chairman of the Subcommit...   \n",
       "25  Who is the chairman of the subcommittee commit...   \n",
       "26  Who is the chairperson of the Risk Management ...   \n",
       "27  What is the role of the subcommittee responsib...   \n",
       "28  Question: Who is the highest-ranking executive...   \n",
       "29  Based on the context provided, please answer t...   \n",
       "30  Question: What is the position held by นาย สุร...   \n",
       "31  Question: What is the position held by นางสาว ...   \n",
       "32  Question:\\nWhat is the total compensation amou...   \n",
       "33  Question: What is the total number of employee...   \n",
       "34  Who is the new committee member appointed in t...   \n",
       "35  What is the position held by นาย คีรี กาญจนพาส...   \n",
       "36  Based on the context provided, please calculat...   \n",
       "37  Question: How many times did the Audit Committ...   \n",
       "\n",
       "                                   retrieved_contexts  \\\n",
       "0   [นโยบายและภาพรวมการประกอบธุรกิจ (1.1)\\nข้อมูลท...   \n",
       "1   [ลักษณะการประกอบธุรกิจ (1.2)\\nโครงสร้างรายได้ ...   \n",
       "2   [ปัจจัยความเสี่ยงต่อการดำเนินธุรกิจของบริษัท (...   \n",
       "3   [ผลกระทบต่อสิ่งแวดล้อม • อื่น ๆ ความเสี่ยงจากก...   \n",
       "4   [ความเสี่ยงจากการยกเลิกสัญญาสัมปทานและสัญญาการ...   \n",
       "5   [สัดส่วนการถือหุ้นของผู้ลงทุน (Control Dilutio...   \n",
       "6   [นโยบายและเป้าหมายการจัดการด้านความยั่งยืน (3....   \n",
       "7   [การจัดการด้านความยั่งยืนในมิติสิ่งแวดล้อม (3....   \n",
       "8   [การจัดการความยั่งยืนในมิติสังคม (3.4)\\nนโยบาย...   \n",
       "9   [ภาพรวมของนโยบายและแนวปฏิบัติการกำกับดูแลกิจกา...   \n",
       "10  [จรรยาบรรณธุรกิจ (6.2)\\nการจัดทำจรรยาบรรณธุรกิ...   \n",
       "11  [ข้อมูลเกี่ยวกับคณะกรรมการ (7.2)\\nองค์ประกอบขอ...   \n",
       "12  [ข้อมูลทั่วไป:\\n 2. นาย รังสิน กฤตลักษณ์\\nเพศ:...   \n",
       "13  [ข้อมูลทั่วไป:\\n 5. นาย กวิน กาญจนพาสน์\\nเพศ: ...   \n",
       "14  [ข้อมูลทั่วไป:\\n 8. นาย ยิง ชิว เฮนรี่ ชอง\\nเพ...   \n",
       "15  [ข้อมูลทั่วไป:\\n 11. นาย ไพศาล ธรสารสมบัติ\\nเพ...   \n",
       "16  [รายชื่อกรรมการที่ลาออก/พ้นจากตำแหน่งระหว่างปี...   \n",
       "17  [ข้อมูลเกี่ยวกับคณะกรรมการอื่นๆ\\nประธานกรรมการ...   \n",
       "18  [ข้อมูลเกี่ยวกับคณะกรรมการชุดย่อย (7.3)\\nข้อมู...   \n",
       "19  [ข้อมูลทั่วไป:\\n 2. นาย สุจินต์ หวั่งหลี\\nเพศ:...   \n",
       "20  [คณะกรรมการบริหาร\\nรายชื่อกรรมการบริหารชุดปัจจ...   \n",
       "21  [ข้อมูลทั่วไป:\\n 2. นาย สุรพงษ์ เลาหะอัญญา\\nเพ...   \n",
       "22  [ข้อมูลทั่วไป:\\n 5. นาย ชิ เคือง คง\\nเพศ: ชาย\\...   \n",
       "23  [รายชื่อกรรมการบริหารที่ลาออก/พ้นตำแหน่งระหว่า...   \n",
       "24  [คณะกรรมการชุดย่อยอื่นๆ\\nข้อมูลคณะกรรมการชุดย่...   \n",
       "25  [ชื่อของคณะกรรมการชุดย่อย: คณะกรรมการพัฒนาเพื่...   \n",
       "26  [ชื่อของคณะกรรมการชุดย่อย: คณะกรรมการบริหารควา...   \n",
       "27  [บทบาทหน้าที่ของคณะกรรมการชุดย่อย\\nคณะกรรมการช...   \n",
       "28  [ข้อมูลเกี่ยวกับผู้บริหาร (7.4)\\nรายชื่อและตำแ...   \n",
       "29  [ข้อมูลทั่วไป:\\n 2. นาย รังสิน กฤตลักษณ์\\nเพศ:...   \n",
       "30  [ข้อมูลทั่วไป:\\n 5. นาย สุรพงษ์ เลาหะอัญญา\\nเพ...   \n",
       "31  [ข้อมูลทั่วไป:\\n 8. นางสาว ชวดี รุ่งเรือง [1]\\...   \n",
       "32  [นโยบายการจ่ายค่าตอบแทนผู้บริหาร (7.4.2 - 7.4....   \n",
       "33  [ข้อมูลเกี่ยวกับพนักงาน (7.5)\\nข้อมูลเกี่ยวกับ...   \n",
       "34  [สรุปผลการปฏิบัติหน้าที่ของคณะกรรมการในรอบปีที...   \n",
       "35  [นาย การุญ จันทรางศุ กรรมการ วันที่ดำรงตำแหน่ง...   \n",
       "36  [นาย สุรพงษ์ เลาหะอัญญา - 11/11 เข้าร่วม ไม่มี...   \n",
       "37  [รายงานผลการปฏิบัติหน้าที่ของคณะกรรมการตรวจสอบ...   \n",
       "\n",
       "                                             response  \\\n",
       "0   The full name of the company mentioned in the ...   \n",
       "1                                       I don't know.   \n",
       "2   Some of the factors that pose risks to the bus...   \n",
       "3   Examples of operational risks mentioned in the...   \n",
       "4   The main categories of risk discussed in the c...   \n",
       "5   The term used to describe the proportion of st...   \n",
       "6   URL นโยบายด้านความยั่งยืนของบริษัท: https://ww...   \n",
       "7                                       I don't know.   \n",
       "8   According to the context provided, the key are...   \n",
       "9   URL for the corporate governance policy and co...   \n",
       "10  Examples of policies and practices related to ...   \n",
       "11  นาย คีรี กาญจนพาสน์ holds the position of ประธ...   \n",
       "12                                      I don't know.   \n",
       "13  Mr. กวิน กาญจนพาสน์ has an educational backgro...   \n",
       "14  Mr. Yung Chiw Henry Chong holds a Master's deg...   \n",
       "15                                      I don't know.   \n",
       "16  นาย อาณัติ อาภาภิร left his position as a กรรม...   \n",
       "17  No, based on the context provided, the chairma...   \n",
       "18  นาง พิจิตรา มหาพล holds the position of ประธาน...   \n",
       "19                                      I don't know.   \n",
       "20                                      I don't know.   \n",
       "21                                      I don't know.   \n",
       "22  Answer: Mr. Chi Keung Kong started serving as ...   \n",
       "23  Mr. อาณัติ อาภาภิร left his position as a memb...   \n",
       "24  The chairman of the Subcommittee on Selection ...   \n",
       "25  The chairman of the subcommittee committee for...   \n",
       "26  นาง พิจิตรา มหาพล is the chairperson of the Ri...   \n",
       "27  The role of the subcommittee responsible for o...   \n",
       "28                                      I don't know.   \n",
       "29                                      I don't know.   \n",
       "30  นาย สุรพงษ์ เลาหะอัญญา holds the position of C...   \n",
       "31                                      I don't know.   \n",
       "32                                      I don't know.   \n",
       "33                                           A) 5,849   \n",
       "34                                      I don't know.   \n",
       "35  นาย คีรี กาญจนพาสน์ holds the position of ประธ...   \n",
       "36  To calculate the total annual meeting allowanc...   \n",
       "37  According to the report, the Audit Committee m...   \n",
       "\n",
       "                                            reference  context_precision  \\\n",
       "0   The full name of the company mentioned in the ...                1.0   \n",
       "1   The percentage of revenue from the MOVE catego...                1.0   \n",
       "2   Some of the factors that pose risks to the bus...                1.0   \n",
       "3   Some examples of operational risks mentioned i...                1.0   \n",
       "4   The main categories of risk discussed in the c...                1.0   \n",
       "5      สัดส่วนการถือหุ้น (Stock ownership proportion)                1.0   \n",
       "6   URL for the sustainability policy of BTS Group...                1.0   \n",
       "7   The total amount of diesel fuel used by the co...                1.0   \n",
       "8   According to the context provided, some of the...                1.0   \n",
       "9   URL for the corporate governance policy and co...                1.0   \n",
       "10  Examples of policies and practices related to ...                1.0   \n",
       "11  นาย คีรี กาญจนพาสน์ holds the position of Chai...                1.0   \n",
       "12  Mr. สุจินต์ หวั่งหลี has a Bachelor's degree i...                1.0   \n",
       "13  Mr. กวิน กาญจนพาสน์ has an educational backgro...                1.0   \n",
       "14  Mr. Yung Chiw Henry Chong holds a Master's deg...                1.0   \n",
       "15  The educational qualification of Mr. Paison Th...                1.0   \n",
       "16  นาย อาณัติ อาภาภิร left his position as a กรรม...                1.0   \n",
       "17  No, the chairman of the committee is not the h...                1.0   \n",
       "18  นาง พิจิตรา มหาพล คือ ประธานกรรมการตรวจสอบในคณ...                1.0   \n",
       "19  นาย สุจินต์ หวั่งหลี has a Bachelor's degree i...                1.0   \n",
       "20  นาย คีรี กาญจนพาสน์ คือผู้ทรงคุณวุฒิในตำแหน่งป...                1.0   \n",
       "21  Mr. รังสิน กฤตลักษณ์ has a Master's degree in ...                1.0   \n",
       "22  Mr. Chi Keung Kong started serving as a member...                1.0   \n",
       "23  Mr. อาณัติ อาภาภิร left his position as a memb...                1.0   \n",
       "24                              นาย สุจินต์ หวั่งหลี                 1.0   \n",
       "25                               นาย คีรี กาญจนพาสน์                 1.0   \n",
       "26                                  นาง พิจิตรา มหาพล                1.0   \n",
       "27  The role of the subcommittee responsible for o...                1.0   \n",
       "28  Highest-ranking executive: นาย กวิน กาญจนพาสน์...                1.0   \n",
       "29  Mr. Daniel Ross has a Bachelor's degree in Mat...                1.0   \n",
       "30  นาย สุรพงษ์ เลาหะอัญญา คือผู้อำนวยการใหญ่สายธุ...                1.0   \n",
       "31  นางสาว ชวดี รุ่งเรือง holds the position of ผู...                1.0   \n",
       "32  The total compensation amount for executives i...                1.0   \n",
       "33  The total number of employees who are members ...                1.0   \n",
       "34  นาย กานต์ สุขสวัสดิ์ กรรมการ วันที่ดำรงตำแหน่ง...                0.0   \n",
       "35  นาย คีรี กาญจนพาสน์ holds the position of ประธ...                1.0   \n",
       "36  To calculate the total annual meeting allowanc...                1.0   \n",
       "37  According to the report, the Audit Committee m...                1.0   \n",
       "\n",
       "    context_recall  \n",
       "0         1.000000  \n",
       "1         1.000000  \n",
       "2         0.777778  \n",
       "3         1.000000  \n",
       "4         1.000000  \n",
       "5         1.000000  \n",
       "6         1.000000  \n",
       "7         1.000000  \n",
       "8         1.000000  \n",
       "9         1.000000  \n",
       "10        1.000000  \n",
       "11        1.000000  \n",
       "12        1.000000  \n",
       "13        1.000000  \n",
       "14        1.000000  \n",
       "15        1.000000  \n",
       "16        1.000000  \n",
       "17        0.000000  \n",
       "18        1.000000  \n",
       "19        1.000000  \n",
       "20        1.000000  \n",
       "21        1.000000  \n",
       "22        1.000000  \n",
       "23        1.000000  \n",
       "24        1.000000  \n",
       "25        1.000000  \n",
       "26        1.000000  \n",
       "27        0.000000  \n",
       "28        0.500000  \n",
       "29        1.000000  \n",
       "30        1.000000  \n",
       "31        1.000000  \n",
       "32        1.000000  \n",
       "33        1.000000  \n",
       "34        0.000000  \n",
       "35        1.000000  \n",
       "36        1.000000  \n",
       "37        1.000000  "
      ]
     },
     "execution_count": 125,
     "metadata": {},
     "output_type": "execute_result"
    }
   ],
   "source": [
    "results_df = result.to_pandas()\n",
    "results_df"
   ]
  },
  {
   "cell_type": "code",
   "execution_count": 126,
   "metadata": {},
   "outputs": [
    {
     "data": {
      "text/plain": [
       "{'question': 'What is the position held by นาย คีรี กาญจนพาสน์ in the context provided?',\n",
       " 'answer': 'นาย คีรี กาญจนพาสน์ holds the position of ประธานกรรมการบริหาร (Chairman of the Board) in the context provided.',\n",
       " 'contexts': ['นาย การุญ จันทรางศุ กรรมการ วันที่ดำรงตำแหน่ง: พัฒนาอสังหาริมทรัพย์, ขนส่งและ\\nเพศ: ชาย (กรรมการที่ไม่เป็นผู้บริหาร, 23 ก.ค. 2561 โลจิสติกส์, เทคโนโลยีสารสนเทศ\\nอายุ: 75 ปี กรรมการอิสระ) และการสื่อสาร, วิศวกรรม, การ\\nวุฒิการศึกษา: ปริญญาเอก จัดการความเสี่ยง\\nสาขา: วิศวกรรม ประเภทของกรรมการ: กรรมการ\\nสัญชาติไทย: ใช่ ที่หมดวาระและได้รับการแต่งตั้ง\\nถิ่นที่อยู่ในประเทศไทย: ใช่ กลับเข้ามาใหม่\\n26[END_PAGE]การพัฒนากรรมการในรอบปีที่ผ่านมา\\nรายชื่อกรรมการ ตำแหน่งของกรรมการ เข้าร่วมการอบรมพัฒนากรรมการ\\nนาย คีรี กาญจนพาสน์ ประธานกรรมการ เข้าร่วม\\nนาย รังสิน กฤตลักษณ์ กรรมการ เข้าร่วม\\nนาย ชิ เคือง คง กรรมการ เข้าร่วม\\nนาย สุจินต์ หวั่งหลี กรรมการ เข้าร่วม\\nนาย กวิน กาญจนพาสน์ กรรมการ เข้าร่วม\\nนาย สุรพงษ์ เลาหะอัญญา กรรมการ เข้าร่วม\\nนาย เจริญ วรรธนะสิน กรรมการ เข้าร่วม\\nนาย ยิง ชิว เฮนรี่ ชอง กรรมการ เข้าร่วม\\nนาง พิจิตรา มหาพล กรรมการ เข้าร่วม\\nนาย การุญ จันทรางศุ กรรมการ เข้าร่วม\\nนาย ไพศาล ธรสารสมบัติ กรรมการ เข้าร่วม\\nนาย อาณัติ อาภาภิรม กรรมการ N/A\\nการประเมินผลการปฎิบัติหน้าที่ของคณะกรรมการ\\nรูปแบบการประเมินผลการปฎิบัติหน้าที่ : การประเมินแบบรายคณะ, การประเมินแบบรายบุคคล\\nของคณะกรรมการ (ประเมินตนเอง)\\nการเข้าร่วมประชุมและการจ่ายค่าตอบแทนคณะกรรมการรายบุคคล (8.1.2)\\nการเข้าร่วมประชุมของคณะกรรมการบริษัท\\nจำนวนการประชุมของคณะกรรมการบริษัทในรอบปีที่ผ่านมา (ครั้ง) : 11\\nการประชุมสามัญผู้ถือหุ้นประจำปี (AGM) : 27 ก.ค. 2566\\nการประชุมวิสามัญผู้ถือหุ้น (EGM) : ไม่มี\\n27[END_PAGE]การเข้าร่วมประชุมของ\\nรายชื่อกรรมการ วันที่ลาออก/พ้นตำแหน่ง เข้าประชุม AGM เข้าประชุม EGM\\nกรรมการ\\n1.\\nนาย คีรี กาญจนพาสน์ - 11/11 เข้าร่วม ไม่มีการประชุม\\n(ประธานกรรมการ)\\n2.\\nนาย รังสิน กฤตลักษณ์ - 10/11 เข้าร่วม ไม่มีการประชุม\\n(กรรมการ)\\n3.\\nนาย ชิ เคือง คง - 11/11 เข้าร่วม ไม่มีการประชุม\\n(กรรมการ)\\n4.\\nนาย สุจินต์ หวั่งหลี - 11/11 เข้าร่วม ไม่มีการประชุม\\n(กรรมการ)\\n5.\\nนาย กวิน กาญจนพาสน์ - 10/11 เข้าร่วม ไม่มีการประชุม\\n(กรรมการ)\\n6.'],\n",
       " 'ground_truth': 'นาย คีรี กาญจนพาสน์ holds the position of ประธานกรรมการ in the context provided.'}"
      ]
     },
     "execution_count": 126,
     "metadata": {},
     "output_type": "execute_result"
    }
   ],
   "source": [
    "eval_dataset[35]"
   ]
  },
  {
   "cell_type": "code",
   "execution_count": 127,
   "metadata": {},
   "outputs": [
    {
     "data": {
      "text/plain": [
       "0.9736842104289472"
      ]
     },
     "execution_count": 127,
     "metadata": {},
     "output_type": "execute_result"
    }
   ],
   "source": [
    "results_df['context_precision'].mean()"
   ]
  },
  {
   "cell_type": "code",
   "execution_count": 128,
   "metadata": {},
   "outputs": [
    {
     "data": {
      "text/plain": [
       "0.902046783625731"
      ]
     },
     "execution_count": 128,
     "metadata": {},
     "output_type": "execute_result"
    }
   ],
   "source": [
    "results_df['context_recall'].mean()"
   ]
  }
 ],
 "metadata": {
  "kernelspec": {
   "display_name": "venv",
   "language": "python",
   "name": "python3"
  },
  "language_info": {
   "codemirror_mode": {
    "name": "ipython",
    "version": 3
   },
   "file_extension": ".py",
   "mimetype": "text/x-python",
   "name": "python",
   "nbconvert_exporter": "python",
   "pygments_lexer": "ipython3",
   "version": "3.12.4"
  }
 },
 "nbformat": 4,
 "nbformat_minor": 2
}
